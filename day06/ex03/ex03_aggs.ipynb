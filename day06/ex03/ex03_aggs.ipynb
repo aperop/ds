{
 "cells": [
  {
   "cell_type": "code",
   "execution_count": 49,
   "metadata": {
    "collapsed": true
   },
   "outputs": [],
   "source": [
    "import pandas as pd\n",
    "import sqlite3"
   ]
  },
  {
   "cell_type": "markdown",
   "source": [
    "## create a connection to the database using the library sqlite3"
   ],
   "metadata": {
    "collapsed": false
   }
  },
  {
   "cell_type": "code",
   "execution_count": 50,
   "outputs": [],
   "source": [
    "file_path = '../data/checking-logs.sqlite'\n",
    "con = sqlite3.connect(file_path)\n",
    "cur = con.cursor()"
   ],
   "metadata": {
    "collapsed": false,
    "pycharm": {
     "name": "#%%\n"
    }
   }
  },
  {
   "cell_type": "markdown",
   "source": [
    "## get the schema of the table test"
   ],
   "metadata": {
    "collapsed": false
   }
  },
  {
   "cell_type": "code",
   "execution_count": 51,
   "outputs": [
    {
     "data": {
      "text/plain": "   cid             name       type  notnull dflt_value  pk\n0    0              uid       TEXT        0       None   0\n1    1          labname       TEXT        0       None   0\n2    2  first_commit_ts  TIMESTAMP        0       None   0\n3    3    first_view_ts  TIMESTAMP        0       None   0",
      "text/html": "<div>\n<style scoped>\n    .dataframe tbody tr th:only-of-type {\n        vertical-align: middle;\n    }\n\n    .dataframe tbody tr th {\n        vertical-align: top;\n    }\n\n    .dataframe thead th {\n        text-align: right;\n    }\n</style>\n<table border=\"1\" class=\"dataframe\">\n  <thead>\n    <tr style=\"text-align: right;\">\n      <th></th>\n      <th>cid</th>\n      <th>name</th>\n      <th>type</th>\n      <th>notnull</th>\n      <th>dflt_value</th>\n      <th>pk</th>\n    </tr>\n  </thead>\n  <tbody>\n    <tr>\n      <th>0</th>\n      <td>0</td>\n      <td>uid</td>\n      <td>TEXT</td>\n      <td>0</td>\n      <td>None</td>\n      <td>0</td>\n    </tr>\n    <tr>\n      <th>1</th>\n      <td>1</td>\n      <td>labname</td>\n      <td>TEXT</td>\n      <td>0</td>\n      <td>None</td>\n      <td>0</td>\n    </tr>\n    <tr>\n      <th>2</th>\n      <td>2</td>\n      <td>first_commit_ts</td>\n      <td>TIMESTAMP</td>\n      <td>0</td>\n      <td>None</td>\n      <td>0</td>\n    </tr>\n    <tr>\n      <th>3</th>\n      <td>3</td>\n      <td>first_view_ts</td>\n      <td>TIMESTAMP</td>\n      <td>0</td>\n      <td>None</td>\n      <td>0</td>\n    </tr>\n  </tbody>\n</table>\n</div>"
     },
     "execution_count": 51,
     "metadata": {},
     "output_type": "execute_result"
    }
   ],
   "source": [
    "query = 'PRAGMA table_info(test);'\n",
    "pd.read_sql(query, con)"
   ],
   "metadata": {
    "collapsed": false,
    "pycharm": {
     "name": "#%%\n"
    }
   }
  },
  {
   "cell_type": "markdown",
   "source": [
    "## get only the first 10 rows of the table test to check what the table looks like"
   ],
   "metadata": {
    "collapsed": false
   }
  },
  {
   "cell_type": "code",
   "execution_count": 52,
   "outputs": [
    {
     "data": {
      "text/plain": "       uid   labname             first_commit_ts               first_view_ts\n0   user_1    laba04  2020-04-26 17:06:18.462708  2020-04-26 21:53:59.624136\n1   user_1   laba04s  2020-04-26 17:12:11.843671  2020-04-26 21:53:59.624136\n2   user_1    laba05  2020-05-02 19:15:18.540185  2020-04-26 21:53:59.624136\n3   user_1    laba06  2020-05-17 16:26:35.268534  2020-04-26 21:53:59.624136\n4   user_1   laba06s  2020-05-20 12:23:37.289724  2020-04-26 21:53:59.624136\n5   user_1  project1  2020-05-14 20:56:08.898880  2020-04-26 21:53:59.624136\n6  user_10    laba04  2020-04-25 08:24:52.696624  2020-04-18 12:19:50.182714\n7  user_10   laba04s  2020-04-25 08:37:54.604222  2020-04-18 12:19:50.182714\n8  user_10    laba05  2020-05-01 19:27:26.063245  2020-04-18 12:19:50.182714\n9  user_10    laba06  2020-05-19 11:39:28.885637  2020-04-18 12:19:50.182714",
      "text/html": "<div>\n<style scoped>\n    .dataframe tbody tr th:only-of-type {\n        vertical-align: middle;\n    }\n\n    .dataframe tbody tr th {\n        vertical-align: top;\n    }\n\n    .dataframe thead th {\n        text-align: right;\n    }\n</style>\n<table border=\"1\" class=\"dataframe\">\n  <thead>\n    <tr style=\"text-align: right;\">\n      <th></th>\n      <th>uid</th>\n      <th>labname</th>\n      <th>first_commit_ts</th>\n      <th>first_view_ts</th>\n    </tr>\n  </thead>\n  <tbody>\n    <tr>\n      <th>0</th>\n      <td>user_1</td>\n      <td>laba04</td>\n      <td>2020-04-26 17:06:18.462708</td>\n      <td>2020-04-26 21:53:59.624136</td>\n    </tr>\n    <tr>\n      <th>1</th>\n      <td>user_1</td>\n      <td>laba04s</td>\n      <td>2020-04-26 17:12:11.843671</td>\n      <td>2020-04-26 21:53:59.624136</td>\n    </tr>\n    <tr>\n      <th>2</th>\n      <td>user_1</td>\n      <td>laba05</td>\n      <td>2020-05-02 19:15:18.540185</td>\n      <td>2020-04-26 21:53:59.624136</td>\n    </tr>\n    <tr>\n      <th>3</th>\n      <td>user_1</td>\n      <td>laba06</td>\n      <td>2020-05-17 16:26:35.268534</td>\n      <td>2020-04-26 21:53:59.624136</td>\n    </tr>\n    <tr>\n      <th>4</th>\n      <td>user_1</td>\n      <td>laba06s</td>\n      <td>2020-05-20 12:23:37.289724</td>\n      <td>2020-04-26 21:53:59.624136</td>\n    </tr>\n    <tr>\n      <th>5</th>\n      <td>user_1</td>\n      <td>project1</td>\n      <td>2020-05-14 20:56:08.898880</td>\n      <td>2020-04-26 21:53:59.624136</td>\n    </tr>\n    <tr>\n      <th>6</th>\n      <td>user_10</td>\n      <td>laba04</td>\n      <td>2020-04-25 08:24:52.696624</td>\n      <td>2020-04-18 12:19:50.182714</td>\n    </tr>\n    <tr>\n      <th>7</th>\n      <td>user_10</td>\n      <td>laba04s</td>\n      <td>2020-04-25 08:37:54.604222</td>\n      <td>2020-04-18 12:19:50.182714</td>\n    </tr>\n    <tr>\n      <th>8</th>\n      <td>user_10</td>\n      <td>laba05</td>\n      <td>2020-05-01 19:27:26.063245</td>\n      <td>2020-04-18 12:19:50.182714</td>\n    </tr>\n    <tr>\n      <th>9</th>\n      <td>user_10</td>\n      <td>laba06</td>\n      <td>2020-05-19 11:39:28.885637</td>\n      <td>2020-04-18 12:19:50.182714</td>\n    </tr>\n  </tbody>\n</table>\n</div>"
     },
     "execution_count": 52,
     "metadata": {},
     "output_type": "execute_result"
    }
   ],
   "source": [
    "query = 'SELECT * FROM test LIMIT 10'\n",
    "pd.read_sql(query, con)"
   ],
   "metadata": {
    "collapsed": false,
    "pycharm": {
     "name": "#%%\n"
    }
   }
  },
  {
   "cell_type": "markdown",
   "source": [
    "## find among all the users the minimum value of the delta between the first commit of the user and the deadline of the corresponding lab using only one query\n"
   ],
   "metadata": {
    "collapsed": false
   }
  },
  {
   "cell_type": "code",
   "execution_count": 53,
   "outputs": [
    {
     "data": {
      "text/plain": "       uid  min\n0  user_30 -202",
      "text/html": "<div>\n<style scoped>\n    .dataframe tbody tr th:only-of-type {\n        vertical-align: middle;\n    }\n\n    .dataframe tbody tr th {\n        vertical-align: top;\n    }\n\n    .dataframe thead th {\n        text-align: right;\n    }\n</style>\n<table border=\"1\" class=\"dataframe\">\n  <thead>\n    <tr style=\"text-align: right;\">\n      <th></th>\n      <th>uid</th>\n      <th>min</th>\n    </tr>\n  </thead>\n  <tbody>\n    <tr>\n      <th>0</th>\n      <td>user_30</td>\n      <td>-202</td>\n    </tr>\n  </tbody>\n</table>\n</div>"
     },
     "execution_count": 53,
     "metadata": {},
     "output_type": "execute_result"
    }
   ],
   "source": [
    "query = 'SELECT uid,' \\\n",
    "        '       min(cast((JulianDay(test.first_commit_ts) - (JulianDay(deadlines.deadlines, \"unixepoch\"))) * 24 as INTEGER)) AS min ' \\\n",
    "        'FROM test ' \\\n",
    "        'LEFT JOIN deadlines ' \\\n",
    "        'ON test.labname = deadlines.labs ' \\\n",
    "        'WHERE labname != \"project1\"'\n",
    "df_min = pd.read_sql(query, con)\n",
    "df_min"
   ],
   "metadata": {
    "collapsed": false,
    "pycharm": {
     "name": "#%%\n"
    }
   }
  },
  {
   "cell_type": "markdown",
   "source": [
    "## do the same thing, but for the maximum, using only one query, the dataframe name is df_max"
   ],
   "metadata": {
    "collapsed": false
   }
  },
  {
   "cell_type": "code",
   "execution_count": 54,
   "outputs": [
    {
     "data": {
      "text/plain": "       uid  max\n0  user_25   -2",
      "text/html": "<div>\n<style scoped>\n    .dataframe tbody tr th:only-of-type {\n        vertical-align: middle;\n    }\n\n    .dataframe tbody tr th {\n        vertical-align: top;\n    }\n\n    .dataframe thead th {\n        text-align: right;\n    }\n</style>\n<table border=\"1\" class=\"dataframe\">\n  <thead>\n    <tr style=\"text-align: right;\">\n      <th></th>\n      <th>uid</th>\n      <th>max</th>\n    </tr>\n  </thead>\n  <tbody>\n    <tr>\n      <th>0</th>\n      <td>user_25</td>\n      <td>-2</td>\n    </tr>\n  </tbody>\n</table>\n</div>"
     },
     "execution_count": 54,
     "metadata": {},
     "output_type": "execute_result"
    }
   ],
   "source": [
    "query = 'SELECT uid,' \\\n",
    "        '       max(cast((JulianDay(test.first_commit_ts) - (JulianDay(deadlines.deadlines, \"unixepoch\"))) * 24 as INTEGER)) AS max ' \\\n",
    "        'FROM test ' \\\n",
    "        'LEFT JOIN deadlines ' \\\n",
    "        'ON test.labname = deadlines.labs ' \\\n",
    "        'WHERE labname != \"project1\"'\n",
    "df_max = pd.read_sql(query, con)\n",
    "df_max"
   ],
   "metadata": {
    "collapsed": false,
    "pycharm": {
     "name": "#%%\n"
    }
   }
  },
  {
   "cell_type": "markdown",
   "source": [
    "## o the same thing but for the average, using only one query, this time your dataframe should not include the uid column, and the dataframe name is df_avg"
   ],
   "metadata": {
    "collapsed": false
   }
  },
  {
   "cell_type": "code",
   "execution_count": 55,
   "outputs": [
    {
     "data": {
      "text/plain": "      avg\n0 -89.125",
      "text/html": "<div>\n<style scoped>\n    .dataframe tbody tr th:only-of-type {\n        vertical-align: middle;\n    }\n\n    .dataframe tbody tr th {\n        vertical-align: top;\n    }\n\n    .dataframe thead th {\n        text-align: right;\n    }\n</style>\n<table border=\"1\" class=\"dataframe\">\n  <thead>\n    <tr style=\"text-align: right;\">\n      <th></th>\n      <th>avg</th>\n    </tr>\n  </thead>\n  <tbody>\n    <tr>\n      <th>0</th>\n      <td>-89.125</td>\n    </tr>\n  </tbody>\n</table>\n</div>"
     },
     "execution_count": 55,
     "metadata": {},
     "output_type": "execute_result"
    }
   ],
   "source": [
    "query = 'SELECT avg(cast((JulianDay(test.first_commit_ts) - (JulianDay(deadlines.deadlines, \"unixepoch\"))) * 24 as INTEGER)) AS avg ' \\\n",
    "        'FROM test ' \\\n",
    "        'LEFT JOIN deadlines ' \\\n",
    "        'ON test.labname = deadlines.labs ' \\\n",
    "        'WHERE labname != \"project1\"'\n",
    "df_avg = pd.read_sql(query, con)\n",
    "df_avg"
   ],
   "metadata": {
    "collapsed": false,
    "pycharm": {
     "name": "#%%\n"
    }
   }
  },
  {
   "cell_type": "markdown",
   "source": [
    "## we want to test the hypothesis that the users who visited the newsfeed just a few times have the lower delta between the first commit and the deadline. To do this, you need to calculate the correlation coefficient between the number of pageviews and the difference"
   ],
   "metadata": {
    "collapsed": false
   }
  },
  {
   "cell_type": "code",
   "execution_count": 56,
   "outputs": [
    {
     "data": {
      "text/plain": "        uid    avg_diff  pageviews\n0    user_1  -62.166667         28\n1   user_10  -78.833333         89\n2   user_14 -185.750000        143\n3   user_17 -166.000000         47\n4   user_18  -37.500000          3\n5   user_19  -91.200000         16\n6   user_21 -106.800000         10\n7   user_25 -111.166667        179\n8   user_28  -89.500000        149\n9    user_3 -124.166667        317\n10  user_30 -233.600000          3",
      "text/html": "<div>\n<style scoped>\n    .dataframe tbody tr th:only-of-type {\n        vertical-align: middle;\n    }\n\n    .dataframe tbody tr th {\n        vertical-align: top;\n    }\n\n    .dataframe thead th {\n        text-align: right;\n    }\n</style>\n<table border=\"1\" class=\"dataframe\">\n  <thead>\n    <tr style=\"text-align: right;\">\n      <th></th>\n      <th>uid</th>\n      <th>avg_diff</th>\n      <th>pageviews</th>\n    </tr>\n  </thead>\n  <tbody>\n    <tr>\n      <th>0</th>\n      <td>user_1</td>\n      <td>-62.166667</td>\n      <td>28</td>\n    </tr>\n    <tr>\n      <th>1</th>\n      <td>user_10</td>\n      <td>-78.833333</td>\n      <td>89</td>\n    </tr>\n    <tr>\n      <th>2</th>\n      <td>user_14</td>\n      <td>-185.750000</td>\n      <td>143</td>\n    </tr>\n    <tr>\n      <th>3</th>\n      <td>user_17</td>\n      <td>-166.000000</td>\n      <td>47</td>\n    </tr>\n    <tr>\n      <th>4</th>\n      <td>user_18</td>\n      <td>-37.500000</td>\n      <td>3</td>\n    </tr>\n    <tr>\n      <th>5</th>\n      <td>user_19</td>\n      <td>-91.200000</td>\n      <td>16</td>\n    </tr>\n    <tr>\n      <th>6</th>\n      <td>user_21</td>\n      <td>-106.800000</td>\n      <td>10</td>\n    </tr>\n    <tr>\n      <th>7</th>\n      <td>user_25</td>\n      <td>-111.166667</td>\n      <td>179</td>\n    </tr>\n    <tr>\n      <th>8</th>\n      <td>user_28</td>\n      <td>-89.500000</td>\n      <td>149</td>\n    </tr>\n    <tr>\n      <th>9</th>\n      <td>user_3</td>\n      <td>-124.166667</td>\n      <td>317</td>\n    </tr>\n    <tr>\n      <th>10</th>\n      <td>user_30</td>\n      <td>-233.600000</td>\n      <td>3</td>\n    </tr>\n  </tbody>\n</table>\n</div>"
     },
     "execution_count": 56,
     "metadata": {},
     "output_type": "execute_result"
    }
   ],
   "source": [
    "query = 'WITH tmp AS (SELECT test.uid,' \\\n",
    "        '                    avg(cast((JulianDay(test.first_commit_ts) - (JulianDay(deadlines.deadlines, \"unixepoch\"))) * 24 as INTEGER)) AS avg_diff' \\\n",
    "        '             FROM test ' \\\n",
    "        '             JOIN deadlines ' \\\n",
    "        '             ON test.labname = deadlines.labs ' \\\n",
    "        '             GROUP BY test.uid) ' \\\n",
    "        'SELECT tmp.uid, tmp.avg_diff, count(pageviews.datetime) AS pageviews ' \\\n",
    "        'FROM tmp ' \\\n",
    "        'JOIN pageviews ' \\\n",
    "        'ON tmp.uid = pageviews.uid ' \\\n",
    "        'GROUP BY tmp.uid'\n",
    "views_diff = pd.read_sql(query, con)\n",
    "views_diff"
   ],
   "metadata": {
    "collapsed": false,
    "pycharm": {
     "name": "#%%\n"
    }
   }
  },
  {
   "cell_type": "code",
   "execution_count": 57,
   "outputs": [
    {
     "data": {
      "text/plain": "           avg_diff  pageviews\navg_diff   1.000000  -0.069302\npageviews -0.069302   1.000000",
      "text/html": "<div>\n<style scoped>\n    .dataframe tbody tr th:only-of-type {\n        vertical-align: middle;\n    }\n\n    .dataframe tbody tr th {\n        vertical-align: top;\n    }\n\n    .dataframe thead th {\n        text-align: right;\n    }\n</style>\n<table border=\"1\" class=\"dataframe\">\n  <thead>\n    <tr style=\"text-align: right;\">\n      <th></th>\n      <th>avg_diff</th>\n      <th>pageviews</th>\n    </tr>\n  </thead>\n  <tbody>\n    <tr>\n      <th>avg_diff</th>\n      <td>1.000000</td>\n      <td>-0.069302</td>\n    </tr>\n    <tr>\n      <th>pageviews</th>\n      <td>-0.069302</td>\n      <td>1.000000</td>\n    </tr>\n  </tbody>\n</table>\n</div>"
     },
     "execution_count": 57,
     "metadata": {},
     "output_type": "execute_result"
    }
   ],
   "source": [
    "views_diff.corr()"
   ],
   "metadata": {
    "collapsed": false,
    "pycharm": {
     "name": "#%%\n"
    }
   }
  },
  {
   "cell_type": "markdown",
   "source": [
    "## close the connection"
   ],
   "metadata": {
    "collapsed": false
   }
  },
  {
   "cell_type": "code",
   "execution_count": 58,
   "outputs": [],
   "source": [
    "con.close()"
   ],
   "metadata": {
    "collapsed": false,
    "pycharm": {
     "name": "#%%\n"
    }
   }
  },
  {
   "cell_type": "markdown",
   "source": [],
   "metadata": {
    "collapsed": false
   }
  }
 ],
 "metadata": {
  "kernelspec": {
   "display_name": "Python 3",
   "language": "python",
   "name": "python3"
  },
  "language_info": {
   "codemirror_mode": {
    "name": "ipython",
    "version": 2
   },
   "file_extension": ".py",
   "mimetype": "text/x-python",
   "name": "python",
   "nbconvert_exporter": "python",
   "pygments_lexer": "ipython2",
   "version": "2.7.6"
  }
 },
 "nbformat": 4,
 "nbformat_minor": 0
}