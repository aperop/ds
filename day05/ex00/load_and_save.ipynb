{
  "nbformat": 4,
  "nbformat_minor": 0,
  "metadata": {
    "colab": {
      "provenance": [],
      "authorship_tag": "ABX9TyNYrxBlk5zBTwMPK3Kfcvwc",
      "include_colab_link": true
    },
    "kernelspec": {
      "name": "python3",
      "display_name": "Python 3"
    },
    "language_info": {
      "name": "python"
    }
  },
  "cells": [
    {
      "cell_type": "markdown",
      "metadata": {
        "id": "view-in-github",
        "colab_type": "text"
      },
      "source": [
        "<a href=\"https://colab.research.google.com/github/aperop/ds/blob/main/day05/ex00/load_and_save.ipynb\" target=\"_parent\"><img src=\"https://colab.research.google.com/assets/colab-badge.svg\" alt=\"Open In Colab\"/></a>"
      ]
    },
    {
      "cell_type": "code",
      "execution_count": null,
      "metadata": {
        "id": "nb8R5n5bCDrx"
      },
      "outputs": [],
      "source": [
        "import pandas as pd"
      ]
    },
    {
      "cell_type": "markdown",
      "source": [
        "## read_csv"
      ],
      "metadata": {
        "id": "e-f3UBZKC8gq"
      }
    },
    {
      "cell_type": "code",
      "source": [
        "dataset_link = \"https://drive.google.com/file/d/1kgByP3EZHL8xAm-oGaBpf0-fPdVIYRaY/view\"\n",
        "file_id = dataset_link.split(\"/\")[-2]\n",
        "!gdown {file_id} -q\n",
        "!ls"
      ],
      "metadata": {
        "colab": {
          "base_uri": "https://localhost:8080/"
        },
        "id": "8tdRp4QsC8G7",
        "outputId": "8eb254f7-a426-4ecd-e232-052c60ca0387"
      },
      "execution_count": null,
      "outputs": [
        {
          "output_type": "stream",
          "name": "stdout",
          "text": [
            "feed-views.log\tsample_data\n"
          ]
        }
      ]
    },
    {
      "cell_type": "code",
      "source": [
        "file_name = \"feed-views.log\""
      ],
      "metadata": {
        "id": "W67j35p9C_t6"
      },
      "execution_count": null,
      "outputs": []
    },
    {
      "cell_type": "code",
      "source": [
        "df = pd.read_csv(file_name, sep='\\t', names=['datetime', 'user'], skiprows=[2, 3], skipfooter=2, index_col=0, engine='python')\n",
        "df"
      ],
      "metadata": {
        "colab": {
          "base_uri": "https://localhost:8080/",
          "height": 455
        },
        "id": "lUXVGmecC_q7",
        "outputId": "b1ef5d4f-e56b-405f-f47a-c85dc2b77a81"
      },
      "execution_count": null,
      "outputs": [
        {
          "output_type": "execute_result",
          "data": {
            "text/plain": [
              "                                 user\n",
              "datetime                             \n",
              "2020-04-17 12:01:08.463179      artem\n",
              "2020-04-17 12:01:23.743946      artem\n",
              "2020-04-17 12:35:52.735016      artem\n",
              "2020-04-17 12:36:21.401412     oksana\n",
              "2020-04-17 12:36:22.023355     oksana\n",
              "...                               ...\n",
              "2020-05-21 16:36:40.915488  ekaterina\n",
              "2020-05-21 17:49:36.429237      maxim\n",
              "2020-05-21 18:45:20.441142  valentina\n",
              "2020-05-21 23:03:06.457819      maxim\n",
              "2020-05-21 23:23:49.995349      pavel\n",
              "\n",
              "[1072 rows x 1 columns]"
            ],
            "text/html": [
              "\n",
              "  <div id=\"df-0794cbce-af6c-4ac8-84e4-b51aba73f906\">\n",
              "    <div class=\"colab-df-container\">\n",
              "      <div>\n",
              "<style scoped>\n",
              "    .dataframe tbody tr th:only-of-type {\n",
              "        vertical-align: middle;\n",
              "    }\n",
              "\n",
              "    .dataframe tbody tr th {\n",
              "        vertical-align: top;\n",
              "    }\n",
              "\n",
              "    .dataframe thead th {\n",
              "        text-align: right;\n",
              "    }\n",
              "</style>\n",
              "<table border=\"1\" class=\"dataframe\">\n",
              "  <thead>\n",
              "    <tr style=\"text-align: right;\">\n",
              "      <th></th>\n",
              "      <th>user</th>\n",
              "    </tr>\n",
              "    <tr>\n",
              "      <th>datetime</th>\n",
              "      <th></th>\n",
              "    </tr>\n",
              "  </thead>\n",
              "  <tbody>\n",
              "    <tr>\n",
              "      <th>2020-04-17 12:01:08.463179</th>\n",
              "      <td>artem</td>\n",
              "    </tr>\n",
              "    <tr>\n",
              "      <th>2020-04-17 12:01:23.743946</th>\n",
              "      <td>artem</td>\n",
              "    </tr>\n",
              "    <tr>\n",
              "      <th>2020-04-17 12:35:52.735016</th>\n",
              "      <td>artem</td>\n",
              "    </tr>\n",
              "    <tr>\n",
              "      <th>2020-04-17 12:36:21.401412</th>\n",
              "      <td>oksana</td>\n",
              "    </tr>\n",
              "    <tr>\n",
              "      <th>2020-04-17 12:36:22.023355</th>\n",
              "      <td>oksana</td>\n",
              "    </tr>\n",
              "    <tr>\n",
              "      <th>...</th>\n",
              "      <td>...</td>\n",
              "    </tr>\n",
              "    <tr>\n",
              "      <th>2020-05-21 16:36:40.915488</th>\n",
              "      <td>ekaterina</td>\n",
              "    </tr>\n",
              "    <tr>\n",
              "      <th>2020-05-21 17:49:36.429237</th>\n",
              "      <td>maxim</td>\n",
              "    </tr>\n",
              "    <tr>\n",
              "      <th>2020-05-21 18:45:20.441142</th>\n",
              "      <td>valentina</td>\n",
              "    </tr>\n",
              "    <tr>\n",
              "      <th>2020-05-21 23:03:06.457819</th>\n",
              "      <td>maxim</td>\n",
              "    </tr>\n",
              "    <tr>\n",
              "      <th>2020-05-21 23:23:49.995349</th>\n",
              "      <td>pavel</td>\n",
              "    </tr>\n",
              "  </tbody>\n",
              "</table>\n",
              "<p>1072 rows × 1 columns</p>\n",
              "</div>\n",
              "      <button class=\"colab-df-convert\" onclick=\"convertToInteractive('df-0794cbce-af6c-4ac8-84e4-b51aba73f906')\"\n",
              "              title=\"Convert this dataframe to an interactive table.\"\n",
              "              style=\"display:none;\">\n",
              "        \n",
              "  <svg xmlns=\"http://www.w3.org/2000/svg\" height=\"24px\"viewBox=\"0 0 24 24\"\n",
              "       width=\"24px\">\n",
              "    <path d=\"M0 0h24v24H0V0z\" fill=\"none\"/>\n",
              "    <path d=\"M18.56 5.44l.94 2.06.94-2.06 2.06-.94-2.06-.94-.94-2.06-.94 2.06-2.06.94zm-11 1L8.5 8.5l.94-2.06 2.06-.94-2.06-.94L8.5 2.5l-.94 2.06-2.06.94zm10 10l.94 2.06.94-2.06 2.06-.94-2.06-.94-.94-2.06-.94 2.06-2.06.94z\"/><path d=\"M17.41 7.96l-1.37-1.37c-.4-.4-.92-.59-1.43-.59-.52 0-1.04.2-1.43.59L10.3 9.45l-7.72 7.72c-.78.78-.78 2.05 0 2.83L4 21.41c.39.39.9.59 1.41.59.51 0 1.02-.2 1.41-.59l7.78-7.78 2.81-2.81c.8-.78.8-2.07 0-2.86zM5.41 20L4 18.59l7.72-7.72 1.47 1.35L5.41 20z\"/>\n",
              "  </svg>\n",
              "      </button>\n",
              "      \n",
              "  <style>\n",
              "    .colab-df-container {\n",
              "      display:flex;\n",
              "      flex-wrap:wrap;\n",
              "      gap: 12px;\n",
              "    }\n",
              "\n",
              "    .colab-df-convert {\n",
              "      background-color: #E8F0FE;\n",
              "      border: none;\n",
              "      border-radius: 50%;\n",
              "      cursor: pointer;\n",
              "      display: none;\n",
              "      fill: #1967D2;\n",
              "      height: 32px;\n",
              "      padding: 0 0 0 0;\n",
              "      width: 32px;\n",
              "    }\n",
              "\n",
              "    .colab-df-convert:hover {\n",
              "      background-color: #E2EBFA;\n",
              "      box-shadow: 0px 1px 2px rgba(60, 64, 67, 0.3), 0px 1px 3px 1px rgba(60, 64, 67, 0.15);\n",
              "      fill: #174EA6;\n",
              "    }\n",
              "\n",
              "    [theme=dark] .colab-df-convert {\n",
              "      background-color: #3B4455;\n",
              "      fill: #D2E3FC;\n",
              "    }\n",
              "\n",
              "    [theme=dark] .colab-df-convert:hover {\n",
              "      background-color: #434B5C;\n",
              "      box-shadow: 0px 1px 3px 1px rgba(0, 0, 0, 0.15);\n",
              "      filter: drop-shadow(0px 1px 2px rgba(0, 0, 0, 0.3));\n",
              "      fill: #FFFFFF;\n",
              "    }\n",
              "  </style>\n",
              "\n",
              "      <script>\n",
              "        const buttonEl =\n",
              "          document.querySelector('#df-0794cbce-af6c-4ac8-84e4-b51aba73f906 button.colab-df-convert');\n",
              "        buttonEl.style.display =\n",
              "          google.colab.kernel.accessAllowed ? 'block' : 'none';\n",
              "\n",
              "        async function convertToInteractive(key) {\n",
              "          const element = document.querySelector('#df-0794cbce-af6c-4ac8-84e4-b51aba73f906');\n",
              "          const dataTable =\n",
              "            await google.colab.kernel.invokeFunction('convertToInteractive',\n",
              "                                                     [key], {});\n",
              "          if (!dataTable) return;\n",
              "\n",
              "          const docLinkHtml = 'Like what you see? Visit the ' +\n",
              "            '<a target=\"_blank\" href=https://colab.research.google.com/notebooks/data_table.ipynb>data table notebook</a>'\n",
              "            + ' to learn more about interactive tables.';\n",
              "          element.innerHTML = '';\n",
              "          dataTable['output_type'] = 'display_data';\n",
              "          await google.colab.output.renderOutput(dataTable, element);\n",
              "          const docLink = document.createElement('div');\n",
              "          docLink.innerHTML = docLinkHtml;\n",
              "          element.appendChild(docLink);\n",
              "        }\n",
              "      </script>\n",
              "    </div>\n",
              "  </div>\n",
              "  "
            ]
          },
          "metadata": {},
          "execution_count": 27
        }
      ]
    },
    {
      "cell_type": "markdown",
      "source": [
        "## rename datetime to date_time"
      ],
      "metadata": {
        "id": "eYoMovF9C_9b"
      }
    },
    {
      "cell_type": "code",
      "source": [
        "df.index.names = ['date_time']\n",
        "df"
      ],
      "metadata": {
        "colab": {
          "base_uri": "https://localhost:8080/",
          "height": 455
        },
        "id": "11UNlVqqDCDc",
        "outputId": "baea89e2-e18a-4fc2-abfa-78307cab90b1"
      },
      "execution_count": null,
      "outputs": [
        {
          "output_type": "execute_result",
          "data": {
            "text/plain": [
              "                                 user\n",
              "date_time                            \n",
              "2020-04-17 12:01:08.463179      artem\n",
              "2020-04-17 12:01:23.743946      artem\n",
              "2020-04-17 12:35:52.735016      artem\n",
              "2020-04-17 12:36:21.401412     oksana\n",
              "2020-04-17 12:36:22.023355     oksana\n",
              "...                               ...\n",
              "2020-05-21 16:36:40.915488  ekaterina\n",
              "2020-05-21 17:49:36.429237      maxim\n",
              "2020-05-21 18:45:20.441142  valentina\n",
              "2020-05-21 23:03:06.457819      maxim\n",
              "2020-05-21 23:23:49.995349      pavel\n",
              "\n",
              "[1072 rows x 1 columns]"
            ],
            "text/html": [
              "\n",
              "  <div id=\"df-d7a84a98-4e7d-4edc-a00f-50e941e05cba\">\n",
              "    <div class=\"colab-df-container\">\n",
              "      <div>\n",
              "<style scoped>\n",
              "    .dataframe tbody tr th:only-of-type {\n",
              "        vertical-align: middle;\n",
              "    }\n",
              "\n",
              "    .dataframe tbody tr th {\n",
              "        vertical-align: top;\n",
              "    }\n",
              "\n",
              "    .dataframe thead th {\n",
              "        text-align: right;\n",
              "    }\n",
              "</style>\n",
              "<table border=\"1\" class=\"dataframe\">\n",
              "  <thead>\n",
              "    <tr style=\"text-align: right;\">\n",
              "      <th></th>\n",
              "      <th>user</th>\n",
              "    </tr>\n",
              "    <tr>\n",
              "      <th>date_time</th>\n",
              "      <th></th>\n",
              "    </tr>\n",
              "  </thead>\n",
              "  <tbody>\n",
              "    <tr>\n",
              "      <th>2020-04-17 12:01:08.463179</th>\n",
              "      <td>artem</td>\n",
              "    </tr>\n",
              "    <tr>\n",
              "      <th>2020-04-17 12:01:23.743946</th>\n",
              "      <td>artem</td>\n",
              "    </tr>\n",
              "    <tr>\n",
              "      <th>2020-04-17 12:35:52.735016</th>\n",
              "      <td>artem</td>\n",
              "    </tr>\n",
              "    <tr>\n",
              "      <th>2020-04-17 12:36:21.401412</th>\n",
              "      <td>oksana</td>\n",
              "    </tr>\n",
              "    <tr>\n",
              "      <th>2020-04-17 12:36:22.023355</th>\n",
              "      <td>oksana</td>\n",
              "    </tr>\n",
              "    <tr>\n",
              "      <th>...</th>\n",
              "      <td>...</td>\n",
              "    </tr>\n",
              "    <tr>\n",
              "      <th>2020-05-21 16:36:40.915488</th>\n",
              "      <td>ekaterina</td>\n",
              "    </tr>\n",
              "    <tr>\n",
              "      <th>2020-05-21 17:49:36.429237</th>\n",
              "      <td>maxim</td>\n",
              "    </tr>\n",
              "    <tr>\n",
              "      <th>2020-05-21 18:45:20.441142</th>\n",
              "      <td>valentina</td>\n",
              "    </tr>\n",
              "    <tr>\n",
              "      <th>2020-05-21 23:03:06.457819</th>\n",
              "      <td>maxim</td>\n",
              "    </tr>\n",
              "    <tr>\n",
              "      <th>2020-05-21 23:23:49.995349</th>\n",
              "      <td>pavel</td>\n",
              "    </tr>\n",
              "  </tbody>\n",
              "</table>\n",
              "<p>1072 rows × 1 columns</p>\n",
              "</div>\n",
              "      <button class=\"colab-df-convert\" onclick=\"convertToInteractive('df-d7a84a98-4e7d-4edc-a00f-50e941e05cba')\"\n",
              "              title=\"Convert this dataframe to an interactive table.\"\n",
              "              style=\"display:none;\">\n",
              "        \n",
              "  <svg xmlns=\"http://www.w3.org/2000/svg\" height=\"24px\"viewBox=\"0 0 24 24\"\n",
              "       width=\"24px\">\n",
              "    <path d=\"M0 0h24v24H0V0z\" fill=\"none\"/>\n",
              "    <path d=\"M18.56 5.44l.94 2.06.94-2.06 2.06-.94-2.06-.94-.94-2.06-.94 2.06-2.06.94zm-11 1L8.5 8.5l.94-2.06 2.06-.94-2.06-.94L8.5 2.5l-.94 2.06-2.06.94zm10 10l.94 2.06.94-2.06 2.06-.94-2.06-.94-.94-2.06-.94 2.06-2.06.94z\"/><path d=\"M17.41 7.96l-1.37-1.37c-.4-.4-.92-.59-1.43-.59-.52 0-1.04.2-1.43.59L10.3 9.45l-7.72 7.72c-.78.78-.78 2.05 0 2.83L4 21.41c.39.39.9.59 1.41.59.51 0 1.02-.2 1.41-.59l7.78-7.78 2.81-2.81c.8-.78.8-2.07 0-2.86zM5.41 20L4 18.59l7.72-7.72 1.47 1.35L5.41 20z\"/>\n",
              "  </svg>\n",
              "      </button>\n",
              "      \n",
              "  <style>\n",
              "    .colab-df-container {\n",
              "      display:flex;\n",
              "      flex-wrap:wrap;\n",
              "      gap: 12px;\n",
              "    }\n",
              "\n",
              "    .colab-df-convert {\n",
              "      background-color: #E8F0FE;\n",
              "      border: none;\n",
              "      border-radius: 50%;\n",
              "      cursor: pointer;\n",
              "      display: none;\n",
              "      fill: #1967D2;\n",
              "      height: 32px;\n",
              "      padding: 0 0 0 0;\n",
              "      width: 32px;\n",
              "    }\n",
              "\n",
              "    .colab-df-convert:hover {\n",
              "      background-color: #E2EBFA;\n",
              "      box-shadow: 0px 1px 2px rgba(60, 64, 67, 0.3), 0px 1px 3px 1px rgba(60, 64, 67, 0.15);\n",
              "      fill: #174EA6;\n",
              "    }\n",
              "\n",
              "    [theme=dark] .colab-df-convert {\n",
              "      background-color: #3B4455;\n",
              "      fill: #D2E3FC;\n",
              "    }\n",
              "\n",
              "    [theme=dark] .colab-df-convert:hover {\n",
              "      background-color: #434B5C;\n",
              "      box-shadow: 0px 1px 3px 1px rgba(0, 0, 0, 0.15);\n",
              "      filter: drop-shadow(0px 1px 2px rgba(0, 0, 0, 0.3));\n",
              "      fill: #FFFFFF;\n",
              "    }\n",
              "  </style>\n",
              "\n",
              "      <script>\n",
              "        const buttonEl =\n",
              "          document.querySelector('#df-d7a84a98-4e7d-4edc-a00f-50e941e05cba button.colab-df-convert');\n",
              "        buttonEl.style.display =\n",
              "          google.colab.kernel.accessAllowed ? 'block' : 'none';\n",
              "\n",
              "        async function convertToInteractive(key) {\n",
              "          const element = document.querySelector('#df-d7a84a98-4e7d-4edc-a00f-50e941e05cba');\n",
              "          const dataTable =\n",
              "            await google.colab.kernel.invokeFunction('convertToInteractive',\n",
              "                                                     [key], {});\n",
              "          if (!dataTable) return;\n",
              "\n",
              "          const docLinkHtml = 'Like what you see? Visit the ' +\n",
              "            '<a target=\"_blank\" href=https://colab.research.google.com/notebooks/data_table.ipynb>data table notebook</a>'\n",
              "            + ' to learn more about interactive tables.';\n",
              "          element.innerHTML = '';\n",
              "          dataTable['output_type'] = 'display_data';\n",
              "          await google.colab.output.renderOutput(dataTable, element);\n",
              "          const docLink = document.createElement('div');\n",
              "          docLink.innerHTML = docLinkHtml;\n",
              "          element.appendChild(docLink);\n",
              "        }\n",
              "      </script>\n",
              "    </div>\n",
              "  </div>\n",
              "  "
            ]
          },
          "metadata": {},
          "execution_count": 43
        }
      ]
    },
    {
      "cell_type": "markdown",
      "source": [
        "## to_csv"
      ],
      "metadata": {
        "id": "bkfzTwqjDCtD"
      }
    },
    {
      "cell_type": "code",
      "source": [
        "new_file_name = \"feed-views-semicolon.log\"\n",
        "df.to_csv(new_file_name, sep=\";\")"
      ],
      "metadata": {
        "id": "xdl-gIVRDB5S"
      },
      "execution_count": null,
      "outputs": []
    },
    {
      "cell_type": "code",
      "source": [
        "!head {new_file_name}"
      ],
      "metadata": {
        "colab": {
          "base_uri": "https://localhost:8080/"
        },
        "id": "I5Stb-tTIr_1",
        "outputId": "2a98bb01-a15d-4cc3-fb52-f67c779e9e69"
      },
      "execution_count": null,
      "outputs": [
        {
          "output_type": "stream",
          "name": "stdout",
          "text": [
            "date_time;user\n",
            "2020-04-17 12:01:08.463179;artem\n",
            "2020-04-17 12:01:23.743946;artem\n",
            "2020-04-17 12:35:52.735016;artem\n",
            "2020-04-17 12:36:21.401412;oksana\n",
            "2020-04-17 12:36:22.023355;oksana\n",
            "2020-04-17 13:55:19.129243;artem\n",
            "2020-04-17 15:00:33.138530;artem\n",
            "2020-04-17 15:14:09.581054;artem\n",
            "2020-04-17 22:46:26.785035;vladislav\n"
          ]
        }
      ]
    },
    {
      "cell_type": "code",
      "source": [],
      "metadata": {
        "id": "hUiRbq1qIxhA"
      },
      "execution_count": null,
      "outputs": []
    }
  ]
}