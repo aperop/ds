{
 "cells": [
  {
   "cell_type": "code",
   "execution_count": 217,
   "metadata": {
    "collapsed": true
   },
   "outputs": [],
   "source": [
    "import pandas as pd\n",
    "import gc"
   ]
  },
  {
   "cell_type": "markdown",
   "source": [
    "## read the fines.csv that you saved in the previous exercise"
   ],
   "metadata": {
    "collapsed": false
   }
  },
  {
   "cell_type": "code",
   "execution_count": 218,
   "outputs": [
    {
     "name": "stdout",
     "output_type": "stream",
     "text": [
      "Downloading...\r\n",
      "From: https://drive.google.com/uc?id=1_UnNvF6WrvTj0Zl-gJj0YL1xv-Riin3K\r\n",
      "To: /Users/dhawkgir/ds/day05/ex05/fines.csv\r\n",
      "100%|██████████████████████████████████████| 38.7k/38.7k [00:00<00:00, 32.5MB/s]\r\n",
      "fines.csv           optimizations.ipynb\r\n"
     ]
    }
   ],
   "source": [
    "dataset_link = \"https://drive.google.com/file/d/1_UnNvF6WrvTj0Zl-gJj0YL1xv-Riin3K/view?usp=sharing\"\n",
    "file_id = dataset_link.split(\"/\")[-2]\n",
    "!gdown {file_id}\n",
    "!ls"
   ],
   "metadata": {
    "collapsed": false,
    "pycharm": {
     "name": "#%%\n"
    }
   }
  },
  {
   "cell_type": "code",
   "execution_count": 219,
   "outputs": [
    {
     "data": {
      "text/plain": "      CarNumber  Refund   Fines    Make  Model  Year\n0  Y163O8161RUS       2  3200.0    Ford  Focus  1989\n1   E432XX77RUS       1  6500.0  Toyota  Camry  1995\n2   7184TT36RUS       1  2100.0    Ford  Focus  1984\n3  X582HE161RUS       2  2000.0    Ford  Focus  2015\n4  92918M178RUS       1  5700.0    Ford  Focus  2014",
      "text/html": "<div>\n<style scoped>\n    .dataframe tbody tr th:only-of-type {\n        vertical-align: middle;\n    }\n\n    .dataframe tbody tr th {\n        vertical-align: top;\n    }\n\n    .dataframe thead th {\n        text-align: right;\n    }\n</style>\n<table border=\"1\" class=\"dataframe\">\n  <thead>\n    <tr style=\"text-align: right;\">\n      <th></th>\n      <th>CarNumber</th>\n      <th>Refund</th>\n      <th>Fines</th>\n      <th>Make</th>\n      <th>Model</th>\n      <th>Year</th>\n    </tr>\n  </thead>\n  <tbody>\n    <tr>\n      <th>0</th>\n      <td>Y163O8161RUS</td>\n      <td>2</td>\n      <td>3200.0</td>\n      <td>Ford</td>\n      <td>Focus</td>\n      <td>1989</td>\n    </tr>\n    <tr>\n      <th>1</th>\n      <td>E432XX77RUS</td>\n      <td>1</td>\n      <td>6500.0</td>\n      <td>Toyota</td>\n      <td>Camry</td>\n      <td>1995</td>\n    </tr>\n    <tr>\n      <th>2</th>\n      <td>7184TT36RUS</td>\n      <td>1</td>\n      <td>2100.0</td>\n      <td>Ford</td>\n      <td>Focus</td>\n      <td>1984</td>\n    </tr>\n    <tr>\n      <th>3</th>\n      <td>X582HE161RUS</td>\n      <td>2</td>\n      <td>2000.0</td>\n      <td>Ford</td>\n      <td>Focus</td>\n      <td>2015</td>\n    </tr>\n    <tr>\n      <th>4</th>\n      <td>92918M178RUS</td>\n      <td>1</td>\n      <td>5700.0</td>\n      <td>Ford</td>\n      <td>Focus</td>\n      <td>2014</td>\n    </tr>\n  </tbody>\n</table>\n</div>"
     },
     "execution_count": 219,
     "metadata": {},
     "output_type": "execute_result"
    }
   ],
   "source": [
    "file_name = 'fines.csv'\n",
    "df = pd.read_csv(file_name)\n",
    "df.head()"
   ],
   "metadata": {
    "collapsed": false,
    "pycharm": {
     "name": "#%%\n"
    }
   }
  },
  {
   "cell_type": "markdown",
   "source": [
    "## iterations"
   ],
   "metadata": {
    "collapsed": false
   }
  },
  {
   "cell_type": "code",
   "execution_count": 220,
   "outputs": [],
   "source": [
    "def loop_iloc(df: pd.DataFrame) -> list:\n",
    "    tmp_list = []\n",
    "    for i in range(0, len(df)):\n",
    "        tmp_list.append(df.iloc[i]['Fines'] / df.iloc[i]['Refund'] * df.iloc[i]['Year'])\n",
    "    return tmp_list"
   ],
   "metadata": {
    "collapsed": false,
    "pycharm": {
     "name": "#%%\n"
    }
   }
  },
  {
   "cell_type": "code",
   "execution_count": 221,
   "outputs": [],
   "source": [
    "def loop_iterrows(df: pd.DataFrame) -> list:\n",
    "    tmp_list = []\n",
    "    for i in df.iterrows():\n",
    "        # print(i[1]['Fines'])\n",
    "        tmp_list.append(i[1]['Fines'] / i[1]['Refund'] * i[1]['Year'])\n",
    "    return tmp_list"
   ],
   "metadata": {
    "collapsed": false,
    "pycharm": {
     "name": "#%%\n"
    }
   }
  },
  {
   "cell_type": "code",
   "execution_count": 222,
   "outputs": [
    {
     "name": "stdout",
     "output_type": "stream",
     "text": [
      "237 ms ± 2.32 ms per loop (mean ± std. dev. of 7 runs, 1 loop each)\n"
     ]
    }
   ],
   "source": [
    "%%timeit\n",
    "df['new_column'] = loop_iloc(df)"
   ],
   "metadata": {
    "collapsed": false,
    "pycharm": {
     "name": "#%%\n"
    }
   }
  },
  {
   "cell_type": "code",
   "execution_count": 223,
   "outputs": [
    {
     "name": "stdout",
     "output_type": "stream",
     "text": [
      "35.7 ms ± 87.2 µs per loop (mean ± std. dev. of 7 runs, 10 loops each)\n"
     ]
    }
   ],
   "source": [
    "%%timeit\n",
    "df['new_column1'] = loop_iterrows(df)"
   ],
   "metadata": {
    "collapsed": false,
    "pycharm": {
     "name": "#%%\n"
    }
   }
  },
  {
   "cell_type": "code",
   "execution_count": 224,
   "outputs": [
    {
     "name": "stdout",
     "output_type": "stream",
     "text": [
      "19.3 ms ± 95.6 µs per loop (mean ± std. dev. of 7 runs, 100 loops each)\n"
     ]
    }
   ],
   "source": [
    "%%timeit\n",
    "df['new_lambda'] = df.apply(lambda x: x.Fines / x.Refund * x.Year, axis=1)"
   ],
   "metadata": {
    "collapsed": false,
    "pycharm": {
     "name": "#%%\n"
    }
   }
  },
  {
   "cell_type": "code",
   "execution_count": 225,
   "outputs": [
    {
     "name": "stdout",
     "output_type": "stream",
     "text": [
      "242 µs ± 1.35 µs per loop (mean ± std. dev. of 7 runs, 1,000 loops each)\n"
     ]
    }
   ],
   "source": [
    "%%timeit\n",
    "df['new_Series'] = df.Fines / df.Refund * df.Year"
   ],
   "metadata": {
    "collapsed": false,
    "pycharm": {
     "name": "#%%\n"
    }
   }
  },
  {
   "cell_type": "code",
   "execution_count": 226,
   "outputs": [
    {
     "name": "stdout",
     "output_type": "stream",
     "text": [
      "111 µs ± 274 ns per loop (mean ± std. dev. of 7 runs, 10,000 loops each)\n"
     ]
    }
   ],
   "source": [
    "%%timeit\n",
    "df['new_values'] = df.Fines.values / df.Refund.values * df.Year.values"
   ],
   "metadata": {
    "collapsed": false,
    "pycharm": {
     "name": "#%%\n"
    }
   }
  },
  {
   "cell_type": "code",
   "execution_count": 227,
   "outputs": [
    {
     "data": {
      "text/plain": "        CarNumber  Refund    Fines    Make  Model  Year  new_column  \\\n0    Y163O8161RUS       2   3200.0    Ford  Focus  1989   3182400.0   \n1     E432XX77RUS       1   6500.0  Toyota  Camry  1995  12967500.0   \n2     7184TT36RUS       1   2100.0    Ford  Focus  1984   4166400.0   \n3    X582HE161RUS       2   2000.0    Ford  Focus  2015   2015000.0   \n4    92918M178RUS       1   5700.0    Ford  Focus  2014  11479800.0   \n..            ...     ...      ...     ...    ...   ...         ...   \n925   X666XX666EU       3   4521.0     Kia   Ceed  2020   3044140.0   \n926   X222XX531EU       2   5321.0     Kia    Rio  2021   5376870.5   \n927   X111XX327EU       1   6321.0     BMW     X4  2022  12781062.0   \n928    X333XX36EU       1    321.0     BMW     X3  2009    644889.0   \n929    X444XX66EU       3  53231.0     BMW     X5  2019  35824463.0   \n\n     new_column1  new_lambda  new_Series  new_values  \n0      3182400.0   3182400.0   3182400.0   3182400.0  \n1     12967500.0  12967500.0  12967500.0  12967500.0  \n2      4166400.0   4166400.0   4166400.0   4166400.0  \n3      2015000.0   2015000.0   2015000.0   2015000.0  \n4     11479800.0  11479800.0  11479800.0  11479800.0  \n..           ...         ...         ...         ...  \n925    3044140.0   3044140.0   3044140.0   3044140.0  \n926    5376870.5   5376870.5   5376870.5   5376870.5  \n927   12781062.0  12781062.0  12781062.0  12781062.0  \n928     644889.0    644889.0    644889.0    644889.0  \n929   35824463.0  35824463.0  35824463.0  35824463.0  \n\n[930 rows x 11 columns]",
      "text/html": "<div>\n<style scoped>\n    .dataframe tbody tr th:only-of-type {\n        vertical-align: middle;\n    }\n\n    .dataframe tbody tr th {\n        vertical-align: top;\n    }\n\n    .dataframe thead th {\n        text-align: right;\n    }\n</style>\n<table border=\"1\" class=\"dataframe\">\n  <thead>\n    <tr style=\"text-align: right;\">\n      <th></th>\n      <th>CarNumber</th>\n      <th>Refund</th>\n      <th>Fines</th>\n      <th>Make</th>\n      <th>Model</th>\n      <th>Year</th>\n      <th>new_column</th>\n      <th>new_column1</th>\n      <th>new_lambda</th>\n      <th>new_Series</th>\n      <th>new_values</th>\n    </tr>\n  </thead>\n  <tbody>\n    <tr>\n      <th>0</th>\n      <td>Y163O8161RUS</td>\n      <td>2</td>\n      <td>3200.0</td>\n      <td>Ford</td>\n      <td>Focus</td>\n      <td>1989</td>\n      <td>3182400.0</td>\n      <td>3182400.0</td>\n      <td>3182400.0</td>\n      <td>3182400.0</td>\n      <td>3182400.0</td>\n    </tr>\n    <tr>\n      <th>1</th>\n      <td>E432XX77RUS</td>\n      <td>1</td>\n      <td>6500.0</td>\n      <td>Toyota</td>\n      <td>Camry</td>\n      <td>1995</td>\n      <td>12967500.0</td>\n      <td>12967500.0</td>\n      <td>12967500.0</td>\n      <td>12967500.0</td>\n      <td>12967500.0</td>\n    </tr>\n    <tr>\n      <th>2</th>\n      <td>7184TT36RUS</td>\n      <td>1</td>\n      <td>2100.0</td>\n      <td>Ford</td>\n      <td>Focus</td>\n      <td>1984</td>\n      <td>4166400.0</td>\n      <td>4166400.0</td>\n      <td>4166400.0</td>\n      <td>4166400.0</td>\n      <td>4166400.0</td>\n    </tr>\n    <tr>\n      <th>3</th>\n      <td>X582HE161RUS</td>\n      <td>2</td>\n      <td>2000.0</td>\n      <td>Ford</td>\n      <td>Focus</td>\n      <td>2015</td>\n      <td>2015000.0</td>\n      <td>2015000.0</td>\n      <td>2015000.0</td>\n      <td>2015000.0</td>\n      <td>2015000.0</td>\n    </tr>\n    <tr>\n      <th>4</th>\n      <td>92918M178RUS</td>\n      <td>1</td>\n      <td>5700.0</td>\n      <td>Ford</td>\n      <td>Focus</td>\n      <td>2014</td>\n      <td>11479800.0</td>\n      <td>11479800.0</td>\n      <td>11479800.0</td>\n      <td>11479800.0</td>\n      <td>11479800.0</td>\n    </tr>\n    <tr>\n      <th>...</th>\n      <td>...</td>\n      <td>...</td>\n      <td>...</td>\n      <td>...</td>\n      <td>...</td>\n      <td>...</td>\n      <td>...</td>\n      <td>...</td>\n      <td>...</td>\n      <td>...</td>\n      <td>...</td>\n    </tr>\n    <tr>\n      <th>925</th>\n      <td>X666XX666EU</td>\n      <td>3</td>\n      <td>4521.0</td>\n      <td>Kia</td>\n      <td>Ceed</td>\n      <td>2020</td>\n      <td>3044140.0</td>\n      <td>3044140.0</td>\n      <td>3044140.0</td>\n      <td>3044140.0</td>\n      <td>3044140.0</td>\n    </tr>\n    <tr>\n      <th>926</th>\n      <td>X222XX531EU</td>\n      <td>2</td>\n      <td>5321.0</td>\n      <td>Kia</td>\n      <td>Rio</td>\n      <td>2021</td>\n      <td>5376870.5</td>\n      <td>5376870.5</td>\n      <td>5376870.5</td>\n      <td>5376870.5</td>\n      <td>5376870.5</td>\n    </tr>\n    <tr>\n      <th>927</th>\n      <td>X111XX327EU</td>\n      <td>1</td>\n      <td>6321.0</td>\n      <td>BMW</td>\n      <td>X4</td>\n      <td>2022</td>\n      <td>12781062.0</td>\n      <td>12781062.0</td>\n      <td>12781062.0</td>\n      <td>12781062.0</td>\n      <td>12781062.0</td>\n    </tr>\n    <tr>\n      <th>928</th>\n      <td>X333XX36EU</td>\n      <td>1</td>\n      <td>321.0</td>\n      <td>BMW</td>\n      <td>X3</td>\n      <td>2009</td>\n      <td>644889.0</td>\n      <td>644889.0</td>\n      <td>644889.0</td>\n      <td>644889.0</td>\n      <td>644889.0</td>\n    </tr>\n    <tr>\n      <th>929</th>\n      <td>X444XX66EU</td>\n      <td>3</td>\n      <td>53231.0</td>\n      <td>BMW</td>\n      <td>X5</td>\n      <td>2019</td>\n      <td>35824463.0</td>\n      <td>35824463.0</td>\n      <td>35824463.0</td>\n      <td>35824463.0</td>\n      <td>35824463.0</td>\n    </tr>\n  </tbody>\n</table>\n<p>930 rows × 11 columns</p>\n</div>"
     },
     "execution_count": 227,
     "metadata": {},
     "output_type": "execute_result"
    }
   ],
   "source": [
    "df"
   ],
   "metadata": {
    "collapsed": false,
    "pycharm": {
     "name": "#%%\n"
    }
   }
  },
  {
   "cell_type": "markdown",
   "source": [
    "## indexing"
   ],
   "metadata": {
    "collapsed": false
   }
  },
  {
   "cell_type": "code",
   "execution_count": 228,
   "outputs": [],
   "source": [
    "number = df['CarNumber'].iloc[42]"
   ],
   "metadata": {
    "collapsed": false,
    "pycharm": {
     "name": "#%%\n"
    }
   }
  },
  {
   "cell_type": "code",
   "execution_count": 229,
   "outputs": [
    {
     "name": "stdout",
     "output_type": "stream",
     "text": [
      "265 µs ± 932 ns per loop (mean ± std. dev. of 7 runs, 1,000 loops each)\n"
     ]
    }
   ],
   "source": [
    "%%timeit\n",
    "df.loc[df.CarNumber == number]"
   ],
   "metadata": {
    "collapsed": false,
    "pycharm": {
     "name": "#%%\n"
    }
   }
  },
  {
   "cell_type": "code",
   "execution_count": 230,
   "outputs": [],
   "source": [
    "df_number = df.set_index('CarNumber')"
   ],
   "metadata": {
    "collapsed": false,
    "pycharm": {
     "name": "#%%\n"
    }
   }
  },
  {
   "cell_type": "code",
   "execution_count": 231,
   "outputs": [
    {
     "name": "stdout",
     "output_type": "stream",
     "text": [
      "126 µs ± 295 ns per loop (mean ± std. dev. of 7 runs, 10,000 loops each)\n"
     ]
    }
   ],
   "source": [
    "%%timeit\n",
    "df_number.loc[number]"
   ],
   "metadata": {
    "collapsed": false,
    "pycharm": {
     "name": "#%%\n"
    }
   }
  },
  {
   "cell_type": "markdown",
   "source": [
    "## downcasting"
   ],
   "metadata": {
    "collapsed": false,
    "pycharm": {
     "name": "#%% md\n"
    }
   }
  },
  {
   "cell_type": "code",
   "execution_count": 262,
   "outputs": [],
   "source": [
    "df = pd.read_csv(file_name)"
   ],
   "metadata": {
    "collapsed": false,
    "pycharm": {
     "name": "#%%\n"
    }
   }
  },
  {
   "cell_type": "code",
   "execution_count": 263,
   "outputs": [
    {
     "name": "stdout",
     "output_type": "stream",
     "text": [
      "<class 'pandas.core.frame.DataFrame'>\n",
      "RangeIndex: 930 entries, 0 to 929\n",
      "Data columns (total 6 columns):\n",
      " #   Column     Non-Null Count  Dtype  \n",
      "---  ------     --------------  -----  \n",
      " 0   CarNumber  930 non-null    object \n",
      " 1   Refund     930 non-null    int64  \n",
      " 2   Fines      930 non-null    float64\n",
      " 3   Make       930 non-null    object \n",
      " 4   Model      919 non-null    object \n",
      " 5   Year       930 non-null    int64  \n",
      "dtypes: float64(1), int64(2), object(3)\n",
      "memory usage: 196.6 KB\n"
     ]
    }
   ],
   "source": [
    "df.info(memory_usage='deep')"
   ],
   "metadata": {
    "collapsed": false,
    "pycharm": {
     "name": "#%%\n"
    }
   }
  },
  {
   "cell_type": "code",
   "execution_count": 264,
   "outputs": [],
   "source": [
    "df_copy = df.copy()"
   ],
   "metadata": {
    "collapsed": false,
    "pycharm": {
     "name": "#%%\n"
    }
   }
  },
  {
   "cell_type": "code",
   "execution_count": 265,
   "outputs": [],
   "source": [
    "df_copy.Fines = pd.to_numeric(df_copy.Fines, downcast='float')\n",
    "df_copy.Refund = pd.to_numeric(df_copy.Refund, downcast='integer')\n",
    "df_copy.Year = pd.to_numeric(df_copy.Year, downcast='integer')"
   ],
   "metadata": {
    "collapsed": false,
    "pycharm": {
     "name": "#%%\n"
    }
   }
  },
  {
   "cell_type": "code",
   "execution_count": 266,
   "outputs": [
    {
     "name": "stdout",
     "output_type": "stream",
     "text": [
      "<class 'pandas.core.frame.DataFrame'>\n",
      "RangeIndex: 930 entries, 0 to 929\n",
      "Data columns (total 6 columns):\n",
      " #   Column     Non-Null Count  Dtype  \n",
      "---  ------     --------------  -----  \n",
      " 0   CarNumber  930 non-null    object \n",
      " 1   Refund     930 non-null    int8   \n",
      " 2   Fines      930 non-null    float32\n",
      " 3   Make       930 non-null    object \n",
      " 4   Model      919 non-null    object \n",
      " 5   Year       930 non-null    int16  \n",
      "dtypes: float32(1), int16(1), int8(1), object(3)\n",
      "memory usage: 181.1 KB\n"
     ]
    }
   ],
   "source": [
    "df_copy.info(memory_usage='deep')"
   ],
   "metadata": {
    "collapsed": false,
    "pycharm": {
     "name": "#%%\n"
    }
   }
  },
  {
   "cell_type": "markdown",
   "source": [
    "## categories"
   ],
   "metadata": {
    "collapsed": false
   }
  },
  {
   "cell_type": "code",
   "execution_count": 267,
   "outputs": [],
   "source": [
    "df_copy.CarNumber = df_copy.CarNumber.astype(\"category\")\n",
    "df_copy.Make = df_copy.Make.astype(\"category\")\n",
    "df_copy.Model = df_copy.Model.astype(\"category\")"
   ],
   "metadata": {
    "collapsed": false,
    "pycharm": {
     "name": "#%%\n"
    }
   }
  },
  {
   "cell_type": "code",
   "execution_count": 268,
   "outputs": [
    {
     "name": "stdout",
     "output_type": "stream",
     "text": [
      "<class 'pandas.core.frame.DataFrame'>\n",
      "RangeIndex: 930 entries, 0 to 929\n",
      "Data columns (total 6 columns):\n",
      " #   Column     Non-Null Count  Dtype   \n",
      "---  ------     --------------  -----   \n",
      " 0   CarNumber  930 non-null    category\n",
      " 1   Refund     930 non-null    int8    \n",
      " 2   Fines      930 non-null    float32 \n",
      " 3   Make       930 non-null    category\n",
      " 4   Model      919 non-null    category\n",
      " 5   Year       930 non-null    int16   \n",
      "dtypes: category(3), float32(1), int16(1), int8(1)\n",
      "memory usage: 64.5 KB\n"
     ]
    }
   ],
   "source": [
    "df_copy.info(memory_usage='deep')"
   ],
   "metadata": {
    "collapsed": false,
    "pycharm": {
     "name": "#%%\n"
    }
   }
  },
  {
   "cell_type": "markdown",
   "source": [
    "## memory clean"
   ],
   "metadata": {
    "collapsed": false
   }
  },
  {
   "cell_type": "code",
   "execution_count": 271,
   "outputs": [],
   "source": [
    "%reset_selective -f ^df$"
   ],
   "metadata": {
    "collapsed": false,
    "pycharm": {
     "name": "#%%\n"
    }
   }
  },
  {
   "cell_type": "code",
   "execution_count": 272,
   "outputs": [
    {
     "data": {
      "text/plain": "        CarNumber  Refund    Fines    Make  Model  Year\n0    Y163O8161RUS       2   3200.0    Ford  Focus  1989\n1     E432XX77RUS       1   6500.0  Toyota  Camry  1995\n2     7184TT36RUS       1   2100.0    Ford  Focus  1984\n3    X582HE161RUS       2   2000.0    Ford  Focus  2015\n4    92918M178RUS       1   5700.0    Ford  Focus  2014\n..            ...     ...      ...     ...    ...   ...\n925   X666XX666EU       3   4521.0     Kia   Ceed  2020\n926   X222XX531EU       2   5321.0     Kia    Rio  2021\n927   X111XX327EU       1   6321.0     BMW     X4  2022\n928    X333XX36EU       1    321.0     BMW     X3  2009\n929    X444XX66EU       3  53231.0     BMW     X5  2019\n\n[930 rows x 6 columns]",
      "text/html": "<div>\n<style scoped>\n    .dataframe tbody tr th:only-of-type {\n        vertical-align: middle;\n    }\n\n    .dataframe tbody tr th {\n        vertical-align: top;\n    }\n\n    .dataframe thead th {\n        text-align: right;\n    }\n</style>\n<table border=\"1\" class=\"dataframe\">\n  <thead>\n    <tr style=\"text-align: right;\">\n      <th></th>\n      <th>CarNumber</th>\n      <th>Refund</th>\n      <th>Fines</th>\n      <th>Make</th>\n      <th>Model</th>\n      <th>Year</th>\n    </tr>\n  </thead>\n  <tbody>\n    <tr>\n      <th>0</th>\n      <td>Y163O8161RUS</td>\n      <td>2</td>\n      <td>3200.0</td>\n      <td>Ford</td>\n      <td>Focus</td>\n      <td>1989</td>\n    </tr>\n    <tr>\n      <th>1</th>\n      <td>E432XX77RUS</td>\n      <td>1</td>\n      <td>6500.0</td>\n      <td>Toyota</td>\n      <td>Camry</td>\n      <td>1995</td>\n    </tr>\n    <tr>\n      <th>2</th>\n      <td>7184TT36RUS</td>\n      <td>1</td>\n      <td>2100.0</td>\n      <td>Ford</td>\n      <td>Focus</td>\n      <td>1984</td>\n    </tr>\n    <tr>\n      <th>3</th>\n      <td>X582HE161RUS</td>\n      <td>2</td>\n      <td>2000.0</td>\n      <td>Ford</td>\n      <td>Focus</td>\n      <td>2015</td>\n    </tr>\n    <tr>\n      <th>4</th>\n      <td>92918M178RUS</td>\n      <td>1</td>\n      <td>5700.0</td>\n      <td>Ford</td>\n      <td>Focus</td>\n      <td>2014</td>\n    </tr>\n    <tr>\n      <th>...</th>\n      <td>...</td>\n      <td>...</td>\n      <td>...</td>\n      <td>...</td>\n      <td>...</td>\n      <td>...</td>\n    </tr>\n    <tr>\n      <th>925</th>\n      <td>X666XX666EU</td>\n      <td>3</td>\n      <td>4521.0</td>\n      <td>Kia</td>\n      <td>Ceed</td>\n      <td>2020</td>\n    </tr>\n    <tr>\n      <th>926</th>\n      <td>X222XX531EU</td>\n      <td>2</td>\n      <td>5321.0</td>\n      <td>Kia</td>\n      <td>Rio</td>\n      <td>2021</td>\n    </tr>\n    <tr>\n      <th>927</th>\n      <td>X111XX327EU</td>\n      <td>1</td>\n      <td>6321.0</td>\n      <td>BMW</td>\n      <td>X4</td>\n      <td>2022</td>\n    </tr>\n    <tr>\n      <th>928</th>\n      <td>X333XX36EU</td>\n      <td>1</td>\n      <td>321.0</td>\n      <td>BMW</td>\n      <td>X3</td>\n      <td>2009</td>\n    </tr>\n    <tr>\n      <th>929</th>\n      <td>X444XX66EU</td>\n      <td>3</td>\n      <td>53231.0</td>\n      <td>BMW</td>\n      <td>X5</td>\n      <td>2019</td>\n    </tr>\n  </tbody>\n</table>\n<p>930 rows × 6 columns</p>\n</div>"
     },
     "execution_count": 272,
     "metadata": {},
     "output_type": "execute_result"
    }
   ],
   "source": [
    "df_copy"
   ],
   "metadata": {
    "collapsed": false,
    "pycharm": {
     "name": "#%%\n"
    }
   }
  },
  {
   "cell_type": "code",
   "execution_count": 273,
   "outputs": [
    {
     "ename": "NameError",
     "evalue": "name 'df' is not defined",
     "output_type": "error",
     "traceback": [
      "\u001B[0;31m---------------------------------------------------------------------------\u001B[0m",
      "\u001B[0;31mNameError\u001B[0m                                 Traceback (most recent call last)",
      "Cell \u001B[0;32mIn [273], line 1\u001B[0m\n\u001B[0;32m----> 1\u001B[0m \u001B[43mdf\u001B[49m\n",
      "\u001B[0;31mNameError\u001B[0m: name 'df' is not defined"
     ]
    }
   ],
   "source": [
    "df"
   ],
   "metadata": {
    "collapsed": false,
    "pycharm": {
     "name": "#%%\n"
    }
   }
  },
  {
   "cell_type": "code",
   "execution_count": 276,
   "outputs": [
    {
     "data": {
      "text/plain": "['DataFrame',\n 'MultiIndex',\n 'calc',\n 'dataset_link',\n 'df_copy',\n 'file_id',\n 'file_name',\n 'gc',\n 'i',\n 'loop',\n 'loop_iloc',\n 'loop_iterrows',\n 'number',\n 'pd',\n 'print_columns',\n 'pydev_jupyter_vars',\n 'remove_imported_pydev_package',\n 'sys',\n 'tmp_list']"
     },
     "execution_count": 276,
     "metadata": {},
     "output_type": "execute_result"
    }
   ],
   "source": [
    "%who_ls"
   ],
   "metadata": {
    "collapsed": false,
    "pycharm": {
     "name": "#%%\n"
    }
   }
  },
  {
   "cell_type": "code",
   "execution_count": 243,
   "outputs": [],
   "source": [],
   "metadata": {
    "collapsed": false,
    "pycharm": {
     "name": "#%%\n"
    }
   }
  }
 ],
 "metadata": {
  "kernelspec": {
   "display_name": "Python 3",
   "language": "python",
   "name": "python3"
  },
  "language_info": {
   "codemirror_mode": {
    "name": "ipython",
    "version": 2
   },
   "file_extension": ".py",
   "mimetype": "text/x-python",
   "name": "python",
   "nbconvert_exporter": "python",
   "pygments_lexer": "ipython2",
   "version": "2.7.6"
  }
 },
 "nbformat": 4,
 "nbformat_minor": 0
}