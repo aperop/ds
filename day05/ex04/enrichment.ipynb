{
 "cells": [
  {
   "cell_type": "code",
   "execution_count": 361,
   "metadata": {
    "collapsed": true
   },
   "outputs": [],
   "source": [
    "import pandas as pd\n",
    "import numpy as np\n",
    "import requests"
   ]
  },
  {
   "cell_type": "markdown",
   "source": [
    "## read the JSON file that you saved in ex02"
   ],
   "metadata": {
    "collapsed": false
   }
  },
  {
   "cell_type": "code",
   "execution_count": 362,
   "outputs": [
    {
     "name": "stdout",
     "output_type": "stream",
     "text": [
      "Downloading...\r\n",
      "From: https://drive.google.com/uc?id=1djlN-ujJm1IL6j-ePaygIMxNHKf8P7D9\r\n",
      "To: /Users/dhawkgir/ds/day05/ex04/auto.json\r\n",
      "100%|██████████████████████████████████████| 64.1k/64.1k [00:00<00:00, 2.22MB/s]\r\n",
      "auto.json        fines.csv        surname.json\r\n",
      "enrichment.ipynb owners.csv\r\n"
     ]
    }
   ],
   "source": [
    "dataset_link = \"https://drive.google.com/file/d/1djlN-ujJm1IL6j-ePaygIMxNHKf8P7D9/view?usp=sharing\"\n",
    "file_id = dataset_link.split(\"/\")[-2]\n",
    "!gdown {file_id}\n",
    "!ls"
   ],
   "metadata": {
    "collapsed": false,
    "pycharm": {
     "name": "#%%\n"
    }
   }
  },
  {
   "cell_type": "code",
   "execution_count": 363,
   "outputs": [],
   "source": [
    "file_name = 'auto.json'"
   ],
   "metadata": {
    "collapsed": false,
    "pycharm": {
     "name": "#%%\n"
    }
   }
  },
  {
   "cell_type": "code",
   "execution_count": 364,
   "outputs": [],
   "source": [
    "df = pd.read_json(file_name, orient='records')"
   ],
   "metadata": {
    "collapsed": false,
    "pycharm": {
     "name": "#%%\n"
    }
   }
  },
  {
   "cell_type": "code",
   "execution_count": 365,
   "outputs": [],
   "source": [
    "pd.options.display.float_format = '{:.2f}'.format"
   ],
   "metadata": {
    "collapsed": false,
    "pycharm": {
     "name": "#%%\n"
    }
   }
  },
  {
   "cell_type": "code",
   "execution_count": 366,
   "outputs": [
    {
     "data": {
      "text/plain": "        CarNumber  Refund    Fines    Make    Model\n0    Y163O8161RUS       2  3200.00    Ford    Focus\n1     E432XX77RUS       1  6500.00  Toyota    Camry\n2     7184TT36RUS       1  2100.00    Ford    Focus\n3    X582HE161RUS       2  2000.00    Ford    Focus\n4    92918M178RUS       1  5700.00    Ford    Focus\n..            ...     ...      ...     ...      ...\n720  Y163O8161RUS       2  1600.00    Ford    Focus\n721  M0309X197RUS       1 22300.00    Ford    Focus\n722  O673E8197RUS       2   600.00    Ford    Focus\n723  8610T8154RUS       1  2000.00    Ford    Focus\n724  H419XE197RUS       2  8594.59  Toyota  Corolla\n\n[725 rows x 5 columns]",
      "text/html": "<div>\n<style scoped>\n    .dataframe tbody tr th:only-of-type {\n        vertical-align: middle;\n    }\n\n    .dataframe tbody tr th {\n        vertical-align: top;\n    }\n\n    .dataframe thead th {\n        text-align: right;\n    }\n</style>\n<table border=\"1\" class=\"dataframe\">\n  <thead>\n    <tr style=\"text-align: right;\">\n      <th></th>\n      <th>CarNumber</th>\n      <th>Refund</th>\n      <th>Fines</th>\n      <th>Make</th>\n      <th>Model</th>\n    </tr>\n  </thead>\n  <tbody>\n    <tr>\n      <th>0</th>\n      <td>Y163O8161RUS</td>\n      <td>2</td>\n      <td>3200.00</td>\n      <td>Ford</td>\n      <td>Focus</td>\n    </tr>\n    <tr>\n      <th>1</th>\n      <td>E432XX77RUS</td>\n      <td>1</td>\n      <td>6500.00</td>\n      <td>Toyota</td>\n      <td>Camry</td>\n    </tr>\n    <tr>\n      <th>2</th>\n      <td>7184TT36RUS</td>\n      <td>1</td>\n      <td>2100.00</td>\n      <td>Ford</td>\n      <td>Focus</td>\n    </tr>\n    <tr>\n      <th>3</th>\n      <td>X582HE161RUS</td>\n      <td>2</td>\n      <td>2000.00</td>\n      <td>Ford</td>\n      <td>Focus</td>\n    </tr>\n    <tr>\n      <th>4</th>\n      <td>92918M178RUS</td>\n      <td>1</td>\n      <td>5700.00</td>\n      <td>Ford</td>\n      <td>Focus</td>\n    </tr>\n    <tr>\n      <th>...</th>\n      <td>...</td>\n      <td>...</td>\n      <td>...</td>\n      <td>...</td>\n      <td>...</td>\n    </tr>\n    <tr>\n      <th>720</th>\n      <td>Y163O8161RUS</td>\n      <td>2</td>\n      <td>1600.00</td>\n      <td>Ford</td>\n      <td>Focus</td>\n    </tr>\n    <tr>\n      <th>721</th>\n      <td>M0309X197RUS</td>\n      <td>1</td>\n      <td>22300.00</td>\n      <td>Ford</td>\n      <td>Focus</td>\n    </tr>\n    <tr>\n      <th>722</th>\n      <td>O673E8197RUS</td>\n      <td>2</td>\n      <td>600.00</td>\n      <td>Ford</td>\n      <td>Focus</td>\n    </tr>\n    <tr>\n      <th>723</th>\n      <td>8610T8154RUS</td>\n      <td>1</td>\n      <td>2000.00</td>\n      <td>Ford</td>\n      <td>Focus</td>\n    </tr>\n    <tr>\n      <th>724</th>\n      <td>H419XE197RUS</td>\n      <td>2</td>\n      <td>8594.59</td>\n      <td>Toyota</td>\n      <td>Corolla</td>\n    </tr>\n  </tbody>\n</table>\n<p>725 rows × 5 columns</p>\n</div>"
     },
     "execution_count": 366,
     "metadata": {},
     "output_type": "execute_result"
    }
   ],
   "source": [
    "df"
   ],
   "metadata": {
    "collapsed": false,
    "pycharm": {
     "name": "#%%\n"
    }
   }
  },
  {
   "cell_type": "code",
   "execution_count": 367,
   "outputs": [
    {
     "name": "stdout",
     "output_type": "stream",
     "text": [
      "<class 'pandas.core.frame.DataFrame'>\n",
      "RangeIndex: 725 entries, 0 to 724\n",
      "Data columns (total 5 columns):\n",
      " #   Column     Non-Null Count  Dtype  \n",
      "---  ------     --------------  -----  \n",
      " 0   CarNumber  725 non-null    object \n",
      " 1   Refund     725 non-null    int64  \n",
      " 2   Fines      725 non-null    float64\n",
      " 3   Make       725 non-null    object \n",
      " 4   Model      716 non-null    object \n",
      "dtypes: float64(1), int64(1), object(3)\n",
      "memory usage: 28.4+ KB\n"
     ]
    }
   ],
   "source": [
    "df.info()"
   ],
   "metadata": {
    "collapsed": false,
    "pycharm": {
     "name": "#%%\n"
    }
   }
  },
  {
   "cell_type": "markdown",
   "source": [
    "## enrich the dataframe using a sample from that dataframe"
   ],
   "metadata": {
    "collapsed": false
   }
  },
  {
   "cell_type": "code",
   "execution_count": 368,
   "outputs": [],
   "source": [
    "samples = 200\n",
    "random_state = 21"
   ],
   "metadata": {
    "collapsed": false,
    "pycharm": {
     "name": "#%%\n"
    }
   }
  },
  {
   "cell_type": "code",
   "execution_count": 369,
   "outputs": [],
   "source": [
    "np.random.seed(random_state)"
   ],
   "metadata": {
    "collapsed": false,
    "pycharm": {
     "name": "#%%\n"
    }
   }
  },
  {
   "cell_type": "code",
   "execution_count": 370,
   "outputs": [
    {
     "data": {
      "text/plain": "        CarNumber  Refund    Fines        Make   Model\n207  Y351O8197RUS       1  1500.00        Ford   Focus\n48    H917TC36RUS       2  4000.00        Ford   Focus\n368  C589EY154RUS       1  4500.00        Ford   Focus\n120   K846YE77RUS       2  2000.00  Volkswagen  Passat\n419  X4108H125RUS       2  1300.00        Ford   Focus\n..            ...     ...      ...         ...     ...\n587  M942OT152RUS       1  2000.00        Ford   Focus\n595  Y187O8161RUS       2   400.00        Ford   Focus\n365  7064C8197RUS       1 12800.00  Volkswagen  Passat\n474  8437XX154RUS       2   800.00        Ford   Focus\n592   C410X938RUS       2  2200.00        Ford   Focus\n\n[200 rows x 5 columns]",
      "text/html": "<div>\n<style scoped>\n    .dataframe tbody tr th:only-of-type {\n        vertical-align: middle;\n    }\n\n    .dataframe tbody tr th {\n        vertical-align: top;\n    }\n\n    .dataframe thead th {\n        text-align: right;\n    }\n</style>\n<table border=\"1\" class=\"dataframe\">\n  <thead>\n    <tr style=\"text-align: right;\">\n      <th></th>\n      <th>CarNumber</th>\n      <th>Refund</th>\n      <th>Fines</th>\n      <th>Make</th>\n      <th>Model</th>\n    </tr>\n  </thead>\n  <tbody>\n    <tr>\n      <th>207</th>\n      <td>Y351O8197RUS</td>\n      <td>1</td>\n      <td>1500.00</td>\n      <td>Ford</td>\n      <td>Focus</td>\n    </tr>\n    <tr>\n      <th>48</th>\n      <td>H917TC36RUS</td>\n      <td>2</td>\n      <td>4000.00</td>\n      <td>Ford</td>\n      <td>Focus</td>\n    </tr>\n    <tr>\n      <th>368</th>\n      <td>C589EY154RUS</td>\n      <td>1</td>\n      <td>4500.00</td>\n      <td>Ford</td>\n      <td>Focus</td>\n    </tr>\n    <tr>\n      <th>120</th>\n      <td>K846YE77RUS</td>\n      <td>2</td>\n      <td>2000.00</td>\n      <td>Volkswagen</td>\n      <td>Passat</td>\n    </tr>\n    <tr>\n      <th>419</th>\n      <td>X4108H125RUS</td>\n      <td>2</td>\n      <td>1300.00</td>\n      <td>Ford</td>\n      <td>Focus</td>\n    </tr>\n    <tr>\n      <th>...</th>\n      <td>...</td>\n      <td>...</td>\n      <td>...</td>\n      <td>...</td>\n      <td>...</td>\n    </tr>\n    <tr>\n      <th>587</th>\n      <td>M942OT152RUS</td>\n      <td>1</td>\n      <td>2000.00</td>\n      <td>Ford</td>\n      <td>Focus</td>\n    </tr>\n    <tr>\n      <th>595</th>\n      <td>Y187O8161RUS</td>\n      <td>2</td>\n      <td>400.00</td>\n      <td>Ford</td>\n      <td>Focus</td>\n    </tr>\n    <tr>\n      <th>365</th>\n      <td>7064C8197RUS</td>\n      <td>1</td>\n      <td>12800.00</td>\n      <td>Volkswagen</td>\n      <td>Passat</td>\n    </tr>\n    <tr>\n      <th>474</th>\n      <td>8437XX154RUS</td>\n      <td>2</td>\n      <td>800.00</td>\n      <td>Ford</td>\n      <td>Focus</td>\n    </tr>\n    <tr>\n      <th>592</th>\n      <td>C410X938RUS</td>\n      <td>2</td>\n      <td>2200.00</td>\n      <td>Ford</td>\n      <td>Focus</td>\n    </tr>\n  </tbody>\n</table>\n<p>200 rows × 5 columns</p>\n</div>"
     },
     "execution_count": 370,
     "metadata": {},
     "output_type": "execute_result"
    }
   ],
   "source": [
    "enrich_df = df.iloc[np.random.randint(0, len(df), samples)]\n",
    "enrich_df"
   ],
   "metadata": {
    "collapsed": false,
    "pycharm": {
     "name": "#%%\n"
    }
   }
  },
  {
   "cell_type": "code",
   "execution_count": 371,
   "outputs": [],
   "source": [
    "pd.set_option('mode.chained_assignment', None)"
   ],
   "metadata": {
    "collapsed": false,
    "pycharm": {
     "name": "#%%\n"
    }
   }
  },
  {
   "cell_type": "code",
   "execution_count": 372,
   "outputs": [
    {
     "data": {
      "text/plain": "        CarNumber  Refund     Fines        Make   Model\n207  Y351O8197RUS       2 168558.07        Ford   Focus\n48    H917TC36RUS       2 135334.21        Ford   Focus\n368  C589EY154RUS       1 102219.25        Ford   Focus\n120   K846YE77RUS       2  64799.03  Volkswagen  Passat\n419  X4108H125RUS       2 118728.93        Ford   Focus\n..            ...     ...       ...         ...     ...\n587  M942OT152RUS       1 174828.71        Ford   Focus\n595  Y187O8161RUS       1 178191.32        Ford   Focus\n365  7064C8197RUS       2  63548.89  Volkswagen  Passat\n474  8437XX154RUS       2 147950.60        Ford   Focus\n592   C410X938RUS       1 151165.80        Ford   Focus\n\n[200 rows x 5 columns]",
      "text/html": "<div>\n<style scoped>\n    .dataframe tbody tr th:only-of-type {\n        vertical-align: middle;\n    }\n\n    .dataframe tbody tr th {\n        vertical-align: top;\n    }\n\n    .dataframe thead th {\n        text-align: right;\n    }\n</style>\n<table border=\"1\" class=\"dataframe\">\n  <thead>\n    <tr style=\"text-align: right;\">\n      <th></th>\n      <th>CarNumber</th>\n      <th>Refund</th>\n      <th>Fines</th>\n      <th>Make</th>\n      <th>Model</th>\n    </tr>\n  </thead>\n  <tbody>\n    <tr>\n      <th>207</th>\n      <td>Y351O8197RUS</td>\n      <td>2</td>\n      <td>168558.07</td>\n      <td>Ford</td>\n      <td>Focus</td>\n    </tr>\n    <tr>\n      <th>48</th>\n      <td>H917TC36RUS</td>\n      <td>2</td>\n      <td>135334.21</td>\n      <td>Ford</td>\n      <td>Focus</td>\n    </tr>\n    <tr>\n      <th>368</th>\n      <td>C589EY154RUS</td>\n      <td>1</td>\n      <td>102219.25</td>\n      <td>Ford</td>\n      <td>Focus</td>\n    </tr>\n    <tr>\n      <th>120</th>\n      <td>K846YE77RUS</td>\n      <td>2</td>\n      <td>64799.03</td>\n      <td>Volkswagen</td>\n      <td>Passat</td>\n    </tr>\n    <tr>\n      <th>419</th>\n      <td>X4108H125RUS</td>\n      <td>2</td>\n      <td>118728.93</td>\n      <td>Ford</td>\n      <td>Focus</td>\n    </tr>\n    <tr>\n      <th>...</th>\n      <td>...</td>\n      <td>...</td>\n      <td>...</td>\n      <td>...</td>\n      <td>...</td>\n    </tr>\n    <tr>\n      <th>587</th>\n      <td>M942OT152RUS</td>\n      <td>1</td>\n      <td>174828.71</td>\n      <td>Ford</td>\n      <td>Focus</td>\n    </tr>\n    <tr>\n      <th>595</th>\n      <td>Y187O8161RUS</td>\n      <td>1</td>\n      <td>178191.32</td>\n      <td>Ford</td>\n      <td>Focus</td>\n    </tr>\n    <tr>\n      <th>365</th>\n      <td>7064C8197RUS</td>\n      <td>2</td>\n      <td>63548.89</td>\n      <td>Volkswagen</td>\n      <td>Passat</td>\n    </tr>\n    <tr>\n      <th>474</th>\n      <td>8437XX154RUS</td>\n      <td>2</td>\n      <td>147950.60</td>\n      <td>Ford</td>\n      <td>Focus</td>\n    </tr>\n    <tr>\n      <th>592</th>\n      <td>C410X938RUS</td>\n      <td>1</td>\n      <td>151165.80</td>\n      <td>Ford</td>\n      <td>Focus</td>\n    </tr>\n  </tbody>\n</table>\n<p>200 rows × 5 columns</p>\n</div>"
     },
     "execution_count": 372,
     "metadata": {},
     "output_type": "execute_result"
    }
   ],
   "source": [
    "enrich_df.loc[:, ['Refund']] = np.random.randint(df.Refund.min(), df.Refund.max() + 1, samples)\n",
    "enrich_df.loc[:, ['Fines']] = df.Fines.max() * np.random.random(samples)\n",
    "enrich_df"
   ],
   "metadata": {
    "collapsed": false,
    "pycharm": {
     "name": "#%%\n"
    }
   }
  },
  {
   "cell_type": "code",
   "execution_count": 373,
   "outputs": [
    {
     "data": {
      "text/plain": "        CarNumber  Refund     Fines        Make   Model\n0    Y163O8161RUS       2   3200.00        Ford   Focus\n1     E432XX77RUS       1   6500.00      Toyota   Camry\n2     7184TT36RUS       1   2100.00        Ford   Focus\n3    X582HE161RUS       2   2000.00        Ford   Focus\n4    92918M178RUS       1   5700.00        Ford   Focus\n..            ...     ...       ...         ...     ...\n920  M942OT152RUS       1 174828.71        Ford   Focus\n921  Y187O8161RUS       1 178191.32        Ford   Focus\n922  7064C8197RUS       2  63548.89  Volkswagen  Passat\n923  8437XX154RUS       2 147950.60        Ford   Focus\n924   C410X938RUS       1 151165.80        Ford   Focus\n\n[925 rows x 5 columns]",
      "text/html": "<div>\n<style scoped>\n    .dataframe tbody tr th:only-of-type {\n        vertical-align: middle;\n    }\n\n    .dataframe tbody tr th {\n        vertical-align: top;\n    }\n\n    .dataframe thead th {\n        text-align: right;\n    }\n</style>\n<table border=\"1\" class=\"dataframe\">\n  <thead>\n    <tr style=\"text-align: right;\">\n      <th></th>\n      <th>CarNumber</th>\n      <th>Refund</th>\n      <th>Fines</th>\n      <th>Make</th>\n      <th>Model</th>\n    </tr>\n  </thead>\n  <tbody>\n    <tr>\n      <th>0</th>\n      <td>Y163O8161RUS</td>\n      <td>2</td>\n      <td>3200.00</td>\n      <td>Ford</td>\n      <td>Focus</td>\n    </tr>\n    <tr>\n      <th>1</th>\n      <td>E432XX77RUS</td>\n      <td>1</td>\n      <td>6500.00</td>\n      <td>Toyota</td>\n      <td>Camry</td>\n    </tr>\n    <tr>\n      <th>2</th>\n      <td>7184TT36RUS</td>\n      <td>1</td>\n      <td>2100.00</td>\n      <td>Ford</td>\n      <td>Focus</td>\n    </tr>\n    <tr>\n      <th>3</th>\n      <td>X582HE161RUS</td>\n      <td>2</td>\n      <td>2000.00</td>\n      <td>Ford</td>\n      <td>Focus</td>\n    </tr>\n    <tr>\n      <th>4</th>\n      <td>92918M178RUS</td>\n      <td>1</td>\n      <td>5700.00</td>\n      <td>Ford</td>\n      <td>Focus</td>\n    </tr>\n    <tr>\n      <th>...</th>\n      <td>...</td>\n      <td>...</td>\n      <td>...</td>\n      <td>...</td>\n      <td>...</td>\n    </tr>\n    <tr>\n      <th>920</th>\n      <td>M942OT152RUS</td>\n      <td>1</td>\n      <td>174828.71</td>\n      <td>Ford</td>\n      <td>Focus</td>\n    </tr>\n    <tr>\n      <th>921</th>\n      <td>Y187O8161RUS</td>\n      <td>1</td>\n      <td>178191.32</td>\n      <td>Ford</td>\n      <td>Focus</td>\n    </tr>\n    <tr>\n      <th>922</th>\n      <td>7064C8197RUS</td>\n      <td>2</td>\n      <td>63548.89</td>\n      <td>Volkswagen</td>\n      <td>Passat</td>\n    </tr>\n    <tr>\n      <th>923</th>\n      <td>8437XX154RUS</td>\n      <td>2</td>\n      <td>147950.60</td>\n      <td>Ford</td>\n      <td>Focus</td>\n    </tr>\n    <tr>\n      <th>924</th>\n      <td>C410X938RUS</td>\n      <td>1</td>\n      <td>151165.80</td>\n      <td>Ford</td>\n      <td>Focus</td>\n    </tr>\n  </tbody>\n</table>\n<p>925 rows × 5 columns</p>\n</div>"
     },
     "execution_count": 373,
     "metadata": {},
     "output_type": "execute_result"
    }
   ],
   "source": [
    "concat_rows = pd.concat([df, enrich_df], ignore_index=True)\n",
    "concat_rows"
   ],
   "metadata": {
    "collapsed": false,
    "pycharm": {
     "name": "#%%\n"
    }
   }
  },
  {
   "cell_type": "markdown",
   "source": [
    "## enrich the dataframe concat_rows by a new column with the data generated"
   ],
   "metadata": {
    "collapsed": false
   }
  },
  {
   "cell_type": "code",
   "execution_count": 374,
   "outputs": [],
   "source": [
    "np.random.seed(random_state)"
   ],
   "metadata": {
    "collapsed": false,
    "pycharm": {
     "name": "#%%\n"
    }
   }
  },
  {
   "cell_type": "code",
   "execution_count": 375,
   "outputs": [
    {
     "data": {
      "text/plain": "0      1989\n1      1995\n2      1984\n3      2015\n4      2014\n       ... \n920    1981\n921    1992\n922    2007\n923    2005\n924    1997\nName: Year, Length: 925, dtype: int64"
     },
     "execution_count": 375,
     "metadata": {},
     "output_type": "execute_result"
    }
   ],
   "source": [
    "Year = pd.Series(np.random.randint(1980, 2019+1, len(concat_rows)), name='Year')\n",
    "Year"
   ],
   "metadata": {
    "collapsed": false,
    "pycharm": {
     "name": "#%%\n"
    }
   }
  },
  {
   "cell_type": "code",
   "execution_count": 376,
   "outputs": [
    {
     "data": {
      "text/plain": "        CarNumber  Refund     Fines        Make   Model  Year\n0    Y163O8161RUS       2   3200.00        Ford   Focus  1989\n1     E432XX77RUS       1   6500.00      Toyota   Camry  1995\n2     7184TT36RUS       1   2100.00        Ford   Focus  1984\n3    X582HE161RUS       2   2000.00        Ford   Focus  2015\n4    92918M178RUS       1   5700.00        Ford   Focus  2014\n..            ...     ...       ...         ...     ...   ...\n920  M942OT152RUS       1 174828.71        Ford   Focus  1981\n921  Y187O8161RUS       1 178191.32        Ford   Focus  1992\n922  7064C8197RUS       2  63548.89  Volkswagen  Passat  2007\n923  8437XX154RUS       2 147950.60        Ford   Focus  2005\n924   C410X938RUS       1 151165.80        Ford   Focus  1997\n\n[925 rows x 6 columns]",
      "text/html": "<div>\n<style scoped>\n    .dataframe tbody tr th:only-of-type {\n        vertical-align: middle;\n    }\n\n    .dataframe tbody tr th {\n        vertical-align: top;\n    }\n\n    .dataframe thead th {\n        text-align: right;\n    }\n</style>\n<table border=\"1\" class=\"dataframe\">\n  <thead>\n    <tr style=\"text-align: right;\">\n      <th></th>\n      <th>CarNumber</th>\n      <th>Refund</th>\n      <th>Fines</th>\n      <th>Make</th>\n      <th>Model</th>\n      <th>Year</th>\n    </tr>\n  </thead>\n  <tbody>\n    <tr>\n      <th>0</th>\n      <td>Y163O8161RUS</td>\n      <td>2</td>\n      <td>3200.00</td>\n      <td>Ford</td>\n      <td>Focus</td>\n      <td>1989</td>\n    </tr>\n    <tr>\n      <th>1</th>\n      <td>E432XX77RUS</td>\n      <td>1</td>\n      <td>6500.00</td>\n      <td>Toyota</td>\n      <td>Camry</td>\n      <td>1995</td>\n    </tr>\n    <tr>\n      <th>2</th>\n      <td>7184TT36RUS</td>\n      <td>1</td>\n      <td>2100.00</td>\n      <td>Ford</td>\n      <td>Focus</td>\n      <td>1984</td>\n    </tr>\n    <tr>\n      <th>3</th>\n      <td>X582HE161RUS</td>\n      <td>2</td>\n      <td>2000.00</td>\n      <td>Ford</td>\n      <td>Focus</td>\n      <td>2015</td>\n    </tr>\n    <tr>\n      <th>4</th>\n      <td>92918M178RUS</td>\n      <td>1</td>\n      <td>5700.00</td>\n      <td>Ford</td>\n      <td>Focus</td>\n      <td>2014</td>\n    </tr>\n    <tr>\n      <th>...</th>\n      <td>...</td>\n      <td>...</td>\n      <td>...</td>\n      <td>...</td>\n      <td>...</td>\n      <td>...</td>\n    </tr>\n    <tr>\n      <th>920</th>\n      <td>M942OT152RUS</td>\n      <td>1</td>\n      <td>174828.71</td>\n      <td>Ford</td>\n      <td>Focus</td>\n      <td>1981</td>\n    </tr>\n    <tr>\n      <th>921</th>\n      <td>Y187O8161RUS</td>\n      <td>1</td>\n      <td>178191.32</td>\n      <td>Ford</td>\n      <td>Focus</td>\n      <td>1992</td>\n    </tr>\n    <tr>\n      <th>922</th>\n      <td>7064C8197RUS</td>\n      <td>2</td>\n      <td>63548.89</td>\n      <td>Volkswagen</td>\n      <td>Passat</td>\n      <td>2007</td>\n    </tr>\n    <tr>\n      <th>923</th>\n      <td>8437XX154RUS</td>\n      <td>2</td>\n      <td>147950.60</td>\n      <td>Ford</td>\n      <td>Focus</td>\n      <td>2005</td>\n    </tr>\n    <tr>\n      <th>924</th>\n      <td>C410X938RUS</td>\n      <td>1</td>\n      <td>151165.80</td>\n      <td>Ford</td>\n      <td>Focus</td>\n      <td>1997</td>\n    </tr>\n  </tbody>\n</table>\n<p>925 rows × 6 columns</p>\n</div>"
     },
     "execution_count": 376,
     "metadata": {},
     "output_type": "execute_result"
    }
   ],
   "source": [
    "fines = concat_rows.merge(Year, left_index=True, right_index=True)\n",
    "fines"
   ],
   "metadata": {
    "collapsed": false,
    "pycharm": {
     "name": "#%%\n"
    }
   }
  },
  {
   "cell_type": "markdown",
   "source": [
    "## enrich the dataframe with the data from another dataframe"
   ],
   "metadata": {
    "collapsed": false
   }
  },
  {
   "cell_type": "code",
   "execution_count": 377,
   "outputs": [
    {
     "name": "stdout",
     "output_type": "stream",
     "text": [
      "Downloading...\r\n",
      "From: https://drive.google.com/uc?id=1uulthlFMcF1S29sxDw_9AWKXf7OhaamX\r\n",
      "To: /Users/dhawkgir/ds/day05/ex04/surname.json\r\n",
      "100%|██████████████████████████████████████| 2.62k/2.62k [00:00<00:00, 8.64MB/s]\r\n",
      "auto.json        fines.csv        surname.json\r\n",
      "enrichment.ipynb owners.csv\r\n"
     ]
    }
   ],
   "source": [
    "surname_link = 'https://drive.google.com/file/d/1uulthlFMcF1S29sxDw_9AWKXf7OhaamX/view?usp=sharing'\n",
    "file_id = surname_link.split(\"/\")[-2]\n",
    "!gdown {file_id}\n",
    "!ls"
   ],
   "metadata": {
    "collapsed": false,
    "pycharm": {
     "name": "#%%\n"
    }
   }
  },
  {
   "cell_type": "code",
   "execution_count": 378,
   "outputs": [
    {
     "data": {
      "text/plain": "            0        1     2\n0        NAME    COUNT  RANK\n1       ADAMS   427865    42\n2       ALLEN   482607    33\n3     ALVAREZ   233983    92\n4    ANDERSON   784404    15\n..        ...      ...   ...\n96   WILLIAMS  1625252     3\n97     WILSON   801882    14\n98       WOOD   250715    84\n99     WRIGHT   458980    35\n100     YOUNG   484447    32\n\n[101 rows x 3 columns]",
      "text/html": "<div>\n<style scoped>\n    .dataframe tbody tr th:only-of-type {\n        vertical-align: middle;\n    }\n\n    .dataframe tbody tr th {\n        vertical-align: top;\n    }\n\n    .dataframe thead th {\n        text-align: right;\n    }\n</style>\n<table border=\"1\" class=\"dataframe\">\n  <thead>\n    <tr style=\"text-align: right;\">\n      <th></th>\n      <th>0</th>\n      <th>1</th>\n      <th>2</th>\n    </tr>\n  </thead>\n  <tbody>\n    <tr>\n      <th>0</th>\n      <td>NAME</td>\n      <td>COUNT</td>\n      <td>RANK</td>\n    </tr>\n    <tr>\n      <th>1</th>\n      <td>ADAMS</td>\n      <td>427865</td>\n      <td>42</td>\n    </tr>\n    <tr>\n      <th>2</th>\n      <td>ALLEN</td>\n      <td>482607</td>\n      <td>33</td>\n    </tr>\n    <tr>\n      <th>3</th>\n      <td>ALVAREZ</td>\n      <td>233983</td>\n      <td>92</td>\n    </tr>\n    <tr>\n      <th>4</th>\n      <td>ANDERSON</td>\n      <td>784404</td>\n      <td>15</td>\n    </tr>\n    <tr>\n      <th>...</th>\n      <td>...</td>\n      <td>...</td>\n      <td>...</td>\n    </tr>\n    <tr>\n      <th>96</th>\n      <td>WILLIAMS</td>\n      <td>1625252</td>\n      <td>3</td>\n    </tr>\n    <tr>\n      <th>97</th>\n      <td>WILSON</td>\n      <td>801882</td>\n      <td>14</td>\n    </tr>\n    <tr>\n      <th>98</th>\n      <td>WOOD</td>\n      <td>250715</td>\n      <td>84</td>\n    </tr>\n    <tr>\n      <th>99</th>\n      <td>WRIGHT</td>\n      <td>458980</td>\n      <td>35</td>\n    </tr>\n    <tr>\n      <th>100</th>\n      <td>YOUNG</td>\n      <td>484447</td>\n      <td>32</td>\n    </tr>\n  </tbody>\n</table>\n<p>101 rows × 3 columns</p>\n</div>"
     },
     "execution_count": 378,
     "metadata": {},
     "output_type": "execute_result"
    }
   ],
   "source": [
    "surname_file = 'surname.json'\n",
    "df_sn = pd.read_json(surname_file)\n",
    "df_sn"
   ],
   "metadata": {
    "collapsed": false,
    "pycharm": {
     "name": "#%%\n"
    }
   }
  },
  {
   "cell_type": "code",
   "execution_count": 379,
   "outputs": [
    {
     "data": {
      "text/plain": "0       NAME    COUNT RANK\n0      ADAMS   427865   42\n1      ALLEN   482607   33\n2    ALVAREZ   233983   92\n3   ANDERSON   784404   15\n4     BAILEY   277845   72\n..       ...      ...  ...\n95  WILLIAMS  1625252    3\n96    WILSON   801882   14\n97      WOOD   250715   84\n98    WRIGHT   458980   35\n99     YOUNG   484447   32\n\n[100 rows x 3 columns]",
      "text/html": "<div>\n<style scoped>\n    .dataframe tbody tr th:only-of-type {\n        vertical-align: middle;\n    }\n\n    .dataframe tbody tr th {\n        vertical-align: top;\n    }\n\n    .dataframe thead th {\n        text-align: right;\n    }\n</style>\n<table border=\"1\" class=\"dataframe\">\n  <thead>\n    <tr style=\"text-align: right;\">\n      <th></th>\n      <th>NAME</th>\n      <th>COUNT</th>\n      <th>RANK</th>\n    </tr>\n  </thead>\n  <tbody>\n    <tr>\n      <th>0</th>\n      <td>ADAMS</td>\n      <td>427865</td>\n      <td>42</td>\n    </tr>\n    <tr>\n      <th>1</th>\n      <td>ALLEN</td>\n      <td>482607</td>\n      <td>33</td>\n    </tr>\n    <tr>\n      <th>2</th>\n      <td>ALVAREZ</td>\n      <td>233983</td>\n      <td>92</td>\n    </tr>\n    <tr>\n      <th>3</th>\n      <td>ANDERSON</td>\n      <td>784404</td>\n      <td>15</td>\n    </tr>\n    <tr>\n      <th>4</th>\n      <td>BAILEY</td>\n      <td>277845</td>\n      <td>72</td>\n    </tr>\n    <tr>\n      <th>...</th>\n      <td>...</td>\n      <td>...</td>\n      <td>...</td>\n    </tr>\n    <tr>\n      <th>95</th>\n      <td>WILLIAMS</td>\n      <td>1625252</td>\n      <td>3</td>\n    </tr>\n    <tr>\n      <th>96</th>\n      <td>WILSON</td>\n      <td>801882</td>\n      <td>14</td>\n    </tr>\n    <tr>\n      <th>97</th>\n      <td>WOOD</td>\n      <td>250715</td>\n      <td>84</td>\n    </tr>\n    <tr>\n      <th>98</th>\n      <td>WRIGHT</td>\n      <td>458980</td>\n      <td>35</td>\n    </tr>\n    <tr>\n      <th>99</th>\n      <td>YOUNG</td>\n      <td>484447</td>\n      <td>32</td>\n    </tr>\n  </tbody>\n</table>\n<p>100 rows × 3 columns</p>\n</div>"
     },
     "execution_count": 379,
     "metadata": {},
     "output_type": "execute_result"
    }
   ],
   "source": [
    "try:\n",
    "    df_sn.columns = df_sn.loc[0]\n",
    "    df_sn.drop(0, inplace=True)\n",
    "except:\n",
    "    pass\n",
    "df_sn.reset_index(drop=True, inplace=True)\n",
    "df_sn"
   ],
   "metadata": {
    "collapsed": false,
    "pycharm": {
     "name": "#%%\n"
    }
   }
  },
  {
   "cell_type": "code",
   "execution_count": 380,
   "outputs": [
    {
     "data": {
      "text/plain": "0      RICHARDSON\n1            ROSS\n2          MORGAN\n3          BAILEY\n4           LOPEZ\n          ...    \n526      CAMPBELL\n527          HALL\n528         BAKER\n529          DIAZ\n530        MORGAN\nName: SURNAME, Length: 531, dtype: object"
     },
     "execution_count": 380,
     "metadata": {},
     "output_type": "execute_result"
    }
   ],
   "source": [
    "np.random.seed(random_state)\n",
    "surnames = pd.Series(df_sn.NAME[np.random.randint(len(df_sn), size=fines.CarNumber.nunique())].reset_index(drop=True),\n",
    "                     name='SURNAME', index=None)\n",
    "surnames"
   ],
   "metadata": {
    "collapsed": false,
    "pycharm": {
     "name": "#%%\n"
    }
   }
  },
  {
   "cell_type": "code",
   "execution_count": 380,
   "outputs": [],
   "source": [],
   "metadata": {
    "collapsed": false,
    "pycharm": {
     "name": "#%%\n"
    }
   }
  },
  {
   "cell_type": "code",
   "execution_count": 381,
   "outputs": [
    {
     "data": {
      "text/plain": "        CarNumber     SURNAME\n0    Y163O8161RUS  RICHARDSON\n1     E432XX77RUS        ROSS\n2     7184TT36RUS      MORGAN\n3    X582HE161RUS      BAILEY\n4    92918M178RUS       LOPEZ\n..            ...         ...\n526  O136HO197RUS    CAMPBELL\n527  O22097197RUS        HALL\n528  M0309X197RUS       BAKER\n529  O673E8197RUS        DIAZ\n530  8610T8154RUS      MORGAN\n\n[531 rows x 2 columns]",
      "text/html": "<div>\n<style scoped>\n    .dataframe tbody tr th:only-of-type {\n        vertical-align: middle;\n    }\n\n    .dataframe tbody tr th {\n        vertical-align: top;\n    }\n\n    .dataframe thead th {\n        text-align: right;\n    }\n</style>\n<table border=\"1\" class=\"dataframe\">\n  <thead>\n    <tr style=\"text-align: right;\">\n      <th></th>\n      <th>CarNumber</th>\n      <th>SURNAME</th>\n    </tr>\n  </thead>\n  <tbody>\n    <tr>\n      <th>0</th>\n      <td>Y163O8161RUS</td>\n      <td>RICHARDSON</td>\n    </tr>\n    <tr>\n      <th>1</th>\n      <td>E432XX77RUS</td>\n      <td>ROSS</td>\n    </tr>\n    <tr>\n      <th>2</th>\n      <td>7184TT36RUS</td>\n      <td>MORGAN</td>\n    </tr>\n    <tr>\n      <th>3</th>\n      <td>X582HE161RUS</td>\n      <td>BAILEY</td>\n    </tr>\n    <tr>\n      <th>4</th>\n      <td>92918M178RUS</td>\n      <td>LOPEZ</td>\n    </tr>\n    <tr>\n      <th>...</th>\n      <td>...</td>\n      <td>...</td>\n    </tr>\n    <tr>\n      <th>526</th>\n      <td>O136HO197RUS</td>\n      <td>CAMPBELL</td>\n    </tr>\n    <tr>\n      <th>527</th>\n      <td>O22097197RUS</td>\n      <td>HALL</td>\n    </tr>\n    <tr>\n      <th>528</th>\n      <td>M0309X197RUS</td>\n      <td>BAKER</td>\n    </tr>\n    <tr>\n      <th>529</th>\n      <td>O673E8197RUS</td>\n      <td>DIAZ</td>\n    </tr>\n    <tr>\n      <th>530</th>\n      <td>8610T8154RUS</td>\n      <td>MORGAN</td>\n    </tr>\n  </tbody>\n</table>\n<p>531 rows × 2 columns</p>\n</div>"
     },
     "execution_count": 381,
     "metadata": {},
     "output_type": "execute_result"
    }
   ],
   "source": [
    "owners = pd.concat([pd.Series(fines.CarNumber.unique(), name='CarNumber'), surnames], axis=1)\n",
    "owners"
   ],
   "metadata": {
    "collapsed": false,
    "pycharm": {
     "name": "#%%\n"
    }
   }
  },
  {
   "cell_type": "code",
   "execution_count": 382,
   "outputs": [
    {
     "data": {
      "text/plain": "531"
     },
     "execution_count": 382,
     "metadata": {},
     "output_type": "execute_result"
    }
   ],
   "source": [
    "len(owners)"
   ],
   "metadata": {
    "collapsed": false,
    "pycharm": {
     "name": "#%%\n"
    }
   }
  },
  {
   "cell_type": "code",
   "execution_count": 383,
   "outputs": [
    {
     "data": {
      "text/plain": "        CarNumber  Refund    Fines    Make  Model  Year\n0    Y163O8161RUS       2  3200.00    Ford  Focus  1989\n1     E432XX77RUS       1  6500.00  Toyota  Camry  1995\n2     7184TT36RUS       1  2100.00    Ford  Focus  1984\n3    X582HE161RUS       2  2000.00    Ford  Focus  2015\n4    92918M178RUS       1  5700.00    Ford  Focus  2014\n..            ...     ...      ...     ...    ...   ...\n925   X666XX666EU       3  4521.00     Kia   Ceed  2020\n926   X222XX531EU       2  5321.00     Kia    Rio  2021\n927   X111XX327EU       1  6321.00     BMW     X4  2022\n928    X333XX36EU       1   321.00     BMW     X3  2009\n929    X444XX66EU       3 53231.00     BMW     X5  2019\n\n[930 rows x 6 columns]",
      "text/html": "<div>\n<style scoped>\n    .dataframe tbody tr th:only-of-type {\n        vertical-align: middle;\n    }\n\n    .dataframe tbody tr th {\n        vertical-align: top;\n    }\n\n    .dataframe thead th {\n        text-align: right;\n    }\n</style>\n<table border=\"1\" class=\"dataframe\">\n  <thead>\n    <tr style=\"text-align: right;\">\n      <th></th>\n      <th>CarNumber</th>\n      <th>Refund</th>\n      <th>Fines</th>\n      <th>Make</th>\n      <th>Model</th>\n      <th>Year</th>\n    </tr>\n  </thead>\n  <tbody>\n    <tr>\n      <th>0</th>\n      <td>Y163O8161RUS</td>\n      <td>2</td>\n      <td>3200.00</td>\n      <td>Ford</td>\n      <td>Focus</td>\n      <td>1989</td>\n    </tr>\n    <tr>\n      <th>1</th>\n      <td>E432XX77RUS</td>\n      <td>1</td>\n      <td>6500.00</td>\n      <td>Toyota</td>\n      <td>Camry</td>\n      <td>1995</td>\n    </tr>\n    <tr>\n      <th>2</th>\n      <td>7184TT36RUS</td>\n      <td>1</td>\n      <td>2100.00</td>\n      <td>Ford</td>\n      <td>Focus</td>\n      <td>1984</td>\n    </tr>\n    <tr>\n      <th>3</th>\n      <td>X582HE161RUS</td>\n      <td>2</td>\n      <td>2000.00</td>\n      <td>Ford</td>\n      <td>Focus</td>\n      <td>2015</td>\n    </tr>\n    <tr>\n      <th>4</th>\n      <td>92918M178RUS</td>\n      <td>1</td>\n      <td>5700.00</td>\n      <td>Ford</td>\n      <td>Focus</td>\n      <td>2014</td>\n    </tr>\n    <tr>\n      <th>...</th>\n      <td>...</td>\n      <td>...</td>\n      <td>...</td>\n      <td>...</td>\n      <td>...</td>\n      <td>...</td>\n    </tr>\n    <tr>\n      <th>925</th>\n      <td>X666XX666EU</td>\n      <td>3</td>\n      <td>4521.00</td>\n      <td>Kia</td>\n      <td>Ceed</td>\n      <td>2020</td>\n    </tr>\n    <tr>\n      <th>926</th>\n      <td>X222XX531EU</td>\n      <td>2</td>\n      <td>5321.00</td>\n      <td>Kia</td>\n      <td>Rio</td>\n      <td>2021</td>\n    </tr>\n    <tr>\n      <th>927</th>\n      <td>X111XX327EU</td>\n      <td>1</td>\n      <td>6321.00</td>\n      <td>BMW</td>\n      <td>X4</td>\n      <td>2022</td>\n    </tr>\n    <tr>\n      <th>928</th>\n      <td>X333XX36EU</td>\n      <td>1</td>\n      <td>321.00</td>\n      <td>BMW</td>\n      <td>X3</td>\n      <td>2009</td>\n    </tr>\n    <tr>\n      <th>929</th>\n      <td>X444XX66EU</td>\n      <td>3</td>\n      <td>53231.00</td>\n      <td>BMW</td>\n      <td>X5</td>\n      <td>2019</td>\n    </tr>\n  </tbody>\n</table>\n<p>930 rows × 6 columns</p>\n</div>"
     },
     "execution_count": 383,
     "metadata": {},
     "output_type": "execute_result"
    }
   ],
   "source": [
    "new_fines = pd.DataFrame([['X666XX666EU', 3, 4521, 'Kia', 'Ceed', 2020],\n",
    "                          ['X222XX531EU', 2, 5321, 'Kia', 'Rio', 2021],\n",
    "                          ['X111XX327EU', 1, 6321, 'BMW', 'X4', 2022],\n",
    "                          ['X333XX36EU', 1, 321, 'BMW', 'X3', 2009],\n",
    "                          ['X444XX66EU', 3, 53231, 'BMW', 'X5', 2019],\n",
    "                          ], columns=fines.columns)\n",
    "fines = pd.concat([fines, new_fines], ignore_index=True)\n",
    "fines.drop_duplicates(inplace=True)\n",
    "fines"
   ],
   "metadata": {
    "collapsed": false,
    "pycharm": {
     "name": "#%%\n"
    }
   }
  },
  {
   "cell_type": "code",
   "execution_count": 384,
   "outputs": [],
   "source": [
    "new_owners = pd.DataFrame([['X676XR666EU', 'Petr'],\n",
    "                          ['X272XR531EU', 'Ildar'],\n",
    "                          ['X171XR327EU', 'Denim', ],\n",
    "                          ], columns=owners.columns)\n",
    "owners.drop(owners.tail(20).index, inplace=True)\n",
    "owners = pd.concat([owners, new_owners], ignore_index=True)"
   ],
   "metadata": {
    "collapsed": false,
    "pycharm": {
     "name": "#%%\n"
    }
   }
  },
  {
   "cell_type": "code",
   "execution_count": 385,
   "outputs": [
    {
     "data": {
      "text/plain": "        CarNumber  Refund     Fines    Make    Model  Year     SURNAME\n0    Y163O8161RUS       2   3200.00    Ford    Focus  1989  RICHARDSON\n1    Y163O8161RUS       2   1600.00    Ford    Focus  1980  RICHARDSON\n2    Y163O8161RUS       2 102737.38    Ford    Focus  2019  RICHARDSON\n3    Y163O8161RUS       1 145631.15    Ford    Focus  2017  RICHARDSON\n4    Y163O8161RUS       1  68990.84    Ford    Focus  2017  RICHARDSON\n..            ...     ...       ...     ...      ...   ...         ...\n898  T914CT197RUS       2 163130.42  Toyota    Camry  2005   HERNANDEZ\n899  E41977152RUS       2   2400.00    Ford    Focus  1989       BAKER\n900  9464EX178RUS       2   2100.00    Ford    Focus  1988      MARTIN\n901  O50197197RUS       2   7800.00    Ford    Focus  1992      WRIGHT\n902  7608EE777RUS       1   4000.00   Skoda  Octavia  2000        HILL\n\n[903 rows x 7 columns]",
      "text/html": "<div>\n<style scoped>\n    .dataframe tbody tr th:only-of-type {\n        vertical-align: middle;\n    }\n\n    .dataframe tbody tr th {\n        vertical-align: top;\n    }\n\n    .dataframe thead th {\n        text-align: right;\n    }\n</style>\n<table border=\"1\" class=\"dataframe\">\n  <thead>\n    <tr style=\"text-align: right;\">\n      <th></th>\n      <th>CarNumber</th>\n      <th>Refund</th>\n      <th>Fines</th>\n      <th>Make</th>\n      <th>Model</th>\n      <th>Year</th>\n      <th>SURNAME</th>\n    </tr>\n  </thead>\n  <tbody>\n    <tr>\n      <th>0</th>\n      <td>Y163O8161RUS</td>\n      <td>2</td>\n      <td>3200.00</td>\n      <td>Ford</td>\n      <td>Focus</td>\n      <td>1989</td>\n      <td>RICHARDSON</td>\n    </tr>\n    <tr>\n      <th>1</th>\n      <td>Y163O8161RUS</td>\n      <td>2</td>\n      <td>1600.00</td>\n      <td>Ford</td>\n      <td>Focus</td>\n      <td>1980</td>\n      <td>RICHARDSON</td>\n    </tr>\n    <tr>\n      <th>2</th>\n      <td>Y163O8161RUS</td>\n      <td>2</td>\n      <td>102737.38</td>\n      <td>Ford</td>\n      <td>Focus</td>\n      <td>2019</td>\n      <td>RICHARDSON</td>\n    </tr>\n    <tr>\n      <th>3</th>\n      <td>Y163O8161RUS</td>\n      <td>1</td>\n      <td>145631.15</td>\n      <td>Ford</td>\n      <td>Focus</td>\n      <td>2017</td>\n      <td>RICHARDSON</td>\n    </tr>\n    <tr>\n      <th>4</th>\n      <td>Y163O8161RUS</td>\n      <td>1</td>\n      <td>68990.84</td>\n      <td>Ford</td>\n      <td>Focus</td>\n      <td>2017</td>\n      <td>RICHARDSON</td>\n    </tr>\n    <tr>\n      <th>...</th>\n      <td>...</td>\n      <td>...</td>\n      <td>...</td>\n      <td>...</td>\n      <td>...</td>\n      <td>...</td>\n      <td>...</td>\n    </tr>\n    <tr>\n      <th>898</th>\n      <td>T914CT197RUS</td>\n      <td>2</td>\n      <td>163130.42</td>\n      <td>Toyota</td>\n      <td>Camry</td>\n      <td>2005</td>\n      <td>HERNANDEZ</td>\n    </tr>\n    <tr>\n      <th>899</th>\n      <td>E41977152RUS</td>\n      <td>2</td>\n      <td>2400.00</td>\n      <td>Ford</td>\n      <td>Focus</td>\n      <td>1989</td>\n      <td>BAKER</td>\n    </tr>\n    <tr>\n      <th>900</th>\n      <td>9464EX178RUS</td>\n      <td>2</td>\n      <td>2100.00</td>\n      <td>Ford</td>\n      <td>Focus</td>\n      <td>1988</td>\n      <td>MARTIN</td>\n    </tr>\n    <tr>\n      <th>901</th>\n      <td>O50197197RUS</td>\n      <td>2</td>\n      <td>7800.00</td>\n      <td>Ford</td>\n      <td>Focus</td>\n      <td>1992</td>\n      <td>WRIGHT</td>\n    </tr>\n    <tr>\n      <th>902</th>\n      <td>7608EE777RUS</td>\n      <td>1</td>\n      <td>4000.00</td>\n      <td>Skoda</td>\n      <td>Octavia</td>\n      <td>2000</td>\n      <td>HILL</td>\n    </tr>\n  </tbody>\n</table>\n<p>903 rows × 7 columns</p>\n</div>"
     },
     "execution_count": 385,
     "metadata": {},
     "output_type": "execute_result"
    }
   ],
   "source": [
    "fines.merge(owners, how='inner')"
   ],
   "metadata": {
    "collapsed": false,
    "pycharm": {
     "name": "#%%\n"
    }
   }
  },
  {
   "cell_type": "code",
   "execution_count": 386,
   "outputs": [
    {
     "data": {
      "text/plain": "        CarNumber  Refund     Fines  Make  Model    Year     SURNAME\n0    Y163O8161RUS    2.00   3200.00  Ford  Focus 1989.00  RICHARDSON\n1    Y163O8161RUS    2.00   1600.00  Ford  Focus 1980.00  RICHARDSON\n2    Y163O8161RUS    2.00 102737.38  Ford  Focus 2019.00  RICHARDSON\n3    Y163O8161RUS    1.00 145631.15  Ford  Focus 2017.00  RICHARDSON\n4    Y163O8161RUS    1.00  68990.84  Ford  Focus 2017.00  RICHARDSON\n..            ...     ...       ...   ...    ...     ...         ...\n928    X333XX36EU    1.00    321.00   BMW     X3 2009.00         NaN\n929    X444XX66EU    3.00  53231.00   BMW     X5 2019.00         NaN\n930   X676XR666EU     NaN       NaN   NaN    NaN     NaN        Petr\n931   X272XR531EU     NaN       NaN   NaN    NaN     NaN       Ildar\n932   X171XR327EU     NaN       NaN   NaN    NaN     NaN       Denim\n\n[933 rows x 7 columns]",
      "text/html": "<div>\n<style scoped>\n    .dataframe tbody tr th:only-of-type {\n        vertical-align: middle;\n    }\n\n    .dataframe tbody tr th {\n        vertical-align: top;\n    }\n\n    .dataframe thead th {\n        text-align: right;\n    }\n</style>\n<table border=\"1\" class=\"dataframe\">\n  <thead>\n    <tr style=\"text-align: right;\">\n      <th></th>\n      <th>CarNumber</th>\n      <th>Refund</th>\n      <th>Fines</th>\n      <th>Make</th>\n      <th>Model</th>\n      <th>Year</th>\n      <th>SURNAME</th>\n    </tr>\n  </thead>\n  <tbody>\n    <tr>\n      <th>0</th>\n      <td>Y163O8161RUS</td>\n      <td>2.00</td>\n      <td>3200.00</td>\n      <td>Ford</td>\n      <td>Focus</td>\n      <td>1989.00</td>\n      <td>RICHARDSON</td>\n    </tr>\n    <tr>\n      <th>1</th>\n      <td>Y163O8161RUS</td>\n      <td>2.00</td>\n      <td>1600.00</td>\n      <td>Ford</td>\n      <td>Focus</td>\n      <td>1980.00</td>\n      <td>RICHARDSON</td>\n    </tr>\n    <tr>\n      <th>2</th>\n      <td>Y163O8161RUS</td>\n      <td>2.00</td>\n      <td>102737.38</td>\n      <td>Ford</td>\n      <td>Focus</td>\n      <td>2019.00</td>\n      <td>RICHARDSON</td>\n    </tr>\n    <tr>\n      <th>3</th>\n      <td>Y163O8161RUS</td>\n      <td>1.00</td>\n      <td>145631.15</td>\n      <td>Ford</td>\n      <td>Focus</td>\n      <td>2017.00</td>\n      <td>RICHARDSON</td>\n    </tr>\n    <tr>\n      <th>4</th>\n      <td>Y163O8161RUS</td>\n      <td>1.00</td>\n      <td>68990.84</td>\n      <td>Ford</td>\n      <td>Focus</td>\n      <td>2017.00</td>\n      <td>RICHARDSON</td>\n    </tr>\n    <tr>\n      <th>...</th>\n      <td>...</td>\n      <td>...</td>\n      <td>...</td>\n      <td>...</td>\n      <td>...</td>\n      <td>...</td>\n      <td>...</td>\n    </tr>\n    <tr>\n      <th>928</th>\n      <td>X333XX36EU</td>\n      <td>1.00</td>\n      <td>321.00</td>\n      <td>BMW</td>\n      <td>X3</td>\n      <td>2009.00</td>\n      <td>NaN</td>\n    </tr>\n    <tr>\n      <th>929</th>\n      <td>X444XX66EU</td>\n      <td>3.00</td>\n      <td>53231.00</td>\n      <td>BMW</td>\n      <td>X5</td>\n      <td>2019.00</td>\n      <td>NaN</td>\n    </tr>\n    <tr>\n      <th>930</th>\n      <td>X676XR666EU</td>\n      <td>NaN</td>\n      <td>NaN</td>\n      <td>NaN</td>\n      <td>NaN</td>\n      <td>NaN</td>\n      <td>Petr</td>\n    </tr>\n    <tr>\n      <th>931</th>\n      <td>X272XR531EU</td>\n      <td>NaN</td>\n      <td>NaN</td>\n      <td>NaN</td>\n      <td>NaN</td>\n      <td>NaN</td>\n      <td>Ildar</td>\n    </tr>\n    <tr>\n      <th>932</th>\n      <td>X171XR327EU</td>\n      <td>NaN</td>\n      <td>NaN</td>\n      <td>NaN</td>\n      <td>NaN</td>\n      <td>NaN</td>\n      <td>Denim</td>\n    </tr>\n  </tbody>\n</table>\n<p>933 rows × 7 columns</p>\n</div>"
     },
     "execution_count": 386,
     "metadata": {},
     "output_type": "execute_result"
    }
   ],
   "source": [
    "fines.merge(owners, how='outer')"
   ],
   "metadata": {
    "collapsed": false,
    "pycharm": {
     "name": "#%%\n"
    }
   }
  },
  {
   "cell_type": "code",
   "execution_count": 387,
   "outputs": [
    {
     "data": {
      "text/plain": "        CarNumber  Refund    Fines    Make  Model  Year     SURNAME\n0    Y163O8161RUS       2  3200.00    Ford  Focus  1989  RICHARDSON\n1     E432XX77RUS       1  6500.00  Toyota  Camry  1995        ROSS\n2     7184TT36RUS       1  2100.00    Ford  Focus  1984      MORGAN\n3    X582HE161RUS       2  2000.00    Ford  Focus  2015      BAILEY\n4    92918M178RUS       1  5700.00    Ford  Focus  2014       LOPEZ\n..            ...     ...      ...     ...    ...   ...         ...\n925   X666XX666EU       3  4521.00     Kia   Ceed  2020         NaN\n926   X222XX531EU       2  5321.00     Kia    Rio  2021         NaN\n927   X111XX327EU       1  6321.00     BMW     X4  2022         NaN\n928    X333XX36EU       1   321.00     BMW     X3  2009         NaN\n929    X444XX66EU       3 53231.00     BMW     X5  2019         NaN\n\n[930 rows x 7 columns]",
      "text/html": "<div>\n<style scoped>\n    .dataframe tbody tr th:only-of-type {\n        vertical-align: middle;\n    }\n\n    .dataframe tbody tr th {\n        vertical-align: top;\n    }\n\n    .dataframe thead th {\n        text-align: right;\n    }\n</style>\n<table border=\"1\" class=\"dataframe\">\n  <thead>\n    <tr style=\"text-align: right;\">\n      <th></th>\n      <th>CarNumber</th>\n      <th>Refund</th>\n      <th>Fines</th>\n      <th>Make</th>\n      <th>Model</th>\n      <th>Year</th>\n      <th>SURNAME</th>\n    </tr>\n  </thead>\n  <tbody>\n    <tr>\n      <th>0</th>\n      <td>Y163O8161RUS</td>\n      <td>2</td>\n      <td>3200.00</td>\n      <td>Ford</td>\n      <td>Focus</td>\n      <td>1989</td>\n      <td>RICHARDSON</td>\n    </tr>\n    <tr>\n      <th>1</th>\n      <td>E432XX77RUS</td>\n      <td>1</td>\n      <td>6500.00</td>\n      <td>Toyota</td>\n      <td>Camry</td>\n      <td>1995</td>\n      <td>ROSS</td>\n    </tr>\n    <tr>\n      <th>2</th>\n      <td>7184TT36RUS</td>\n      <td>1</td>\n      <td>2100.00</td>\n      <td>Ford</td>\n      <td>Focus</td>\n      <td>1984</td>\n      <td>MORGAN</td>\n    </tr>\n    <tr>\n      <th>3</th>\n      <td>X582HE161RUS</td>\n      <td>2</td>\n      <td>2000.00</td>\n      <td>Ford</td>\n      <td>Focus</td>\n      <td>2015</td>\n      <td>BAILEY</td>\n    </tr>\n    <tr>\n      <th>4</th>\n      <td>92918M178RUS</td>\n      <td>1</td>\n      <td>5700.00</td>\n      <td>Ford</td>\n      <td>Focus</td>\n      <td>2014</td>\n      <td>LOPEZ</td>\n    </tr>\n    <tr>\n      <th>...</th>\n      <td>...</td>\n      <td>...</td>\n      <td>...</td>\n      <td>...</td>\n      <td>...</td>\n      <td>...</td>\n      <td>...</td>\n    </tr>\n    <tr>\n      <th>925</th>\n      <td>X666XX666EU</td>\n      <td>3</td>\n      <td>4521.00</td>\n      <td>Kia</td>\n      <td>Ceed</td>\n      <td>2020</td>\n      <td>NaN</td>\n    </tr>\n    <tr>\n      <th>926</th>\n      <td>X222XX531EU</td>\n      <td>2</td>\n      <td>5321.00</td>\n      <td>Kia</td>\n      <td>Rio</td>\n      <td>2021</td>\n      <td>NaN</td>\n    </tr>\n    <tr>\n      <th>927</th>\n      <td>X111XX327EU</td>\n      <td>1</td>\n      <td>6321.00</td>\n      <td>BMW</td>\n      <td>X4</td>\n      <td>2022</td>\n      <td>NaN</td>\n    </tr>\n    <tr>\n      <th>928</th>\n      <td>X333XX36EU</td>\n      <td>1</td>\n      <td>321.00</td>\n      <td>BMW</td>\n      <td>X3</td>\n      <td>2009</td>\n      <td>NaN</td>\n    </tr>\n    <tr>\n      <th>929</th>\n      <td>X444XX66EU</td>\n      <td>3</td>\n      <td>53231.00</td>\n      <td>BMW</td>\n      <td>X5</td>\n      <td>2019</td>\n      <td>NaN</td>\n    </tr>\n  </tbody>\n</table>\n<p>930 rows × 7 columns</p>\n</div>"
     },
     "execution_count": 387,
     "metadata": {},
     "output_type": "execute_result"
    }
   ],
   "source": [
    "fines.merge(owners, how='left')"
   ],
   "metadata": {
    "collapsed": false,
    "pycharm": {
     "name": "#%%\n"
    }
   }
  },
  {
   "cell_type": "code",
   "execution_count": 388,
   "outputs": [
    {
     "data": {
      "text/plain": "        CarNumber  Refund     Fines   Make    Model    Year     SURNAME\n0    Y163O8161RUS    2.00   3200.00   Ford    Focus 1989.00  RICHARDSON\n1    Y163O8161RUS    2.00   1600.00   Ford    Focus 1980.00  RICHARDSON\n2    Y163O8161RUS    2.00 102737.38   Ford    Focus 2019.00  RICHARDSON\n3    Y163O8161RUS    1.00 145631.15   Ford    Focus 2017.00  RICHARDSON\n4    Y163O8161RUS    1.00  68990.84   Ford    Focus 2017.00  RICHARDSON\n..            ...     ...       ...    ...      ...     ...         ...\n901  O50197197RUS    2.00   7800.00   Ford    Focus 1992.00      WRIGHT\n902  7608EE777RUS    1.00   4000.00  Skoda  Octavia 2000.00        HILL\n903   X676XR666EU     NaN       NaN    NaN      NaN     NaN        Petr\n904   X272XR531EU     NaN       NaN    NaN      NaN     NaN       Ildar\n905   X171XR327EU     NaN       NaN    NaN      NaN     NaN       Denim\n\n[906 rows x 7 columns]",
      "text/html": "<div>\n<style scoped>\n    .dataframe tbody tr th:only-of-type {\n        vertical-align: middle;\n    }\n\n    .dataframe tbody tr th {\n        vertical-align: top;\n    }\n\n    .dataframe thead th {\n        text-align: right;\n    }\n</style>\n<table border=\"1\" class=\"dataframe\">\n  <thead>\n    <tr style=\"text-align: right;\">\n      <th></th>\n      <th>CarNumber</th>\n      <th>Refund</th>\n      <th>Fines</th>\n      <th>Make</th>\n      <th>Model</th>\n      <th>Year</th>\n      <th>SURNAME</th>\n    </tr>\n  </thead>\n  <tbody>\n    <tr>\n      <th>0</th>\n      <td>Y163O8161RUS</td>\n      <td>2.00</td>\n      <td>3200.00</td>\n      <td>Ford</td>\n      <td>Focus</td>\n      <td>1989.00</td>\n      <td>RICHARDSON</td>\n    </tr>\n    <tr>\n      <th>1</th>\n      <td>Y163O8161RUS</td>\n      <td>2.00</td>\n      <td>1600.00</td>\n      <td>Ford</td>\n      <td>Focus</td>\n      <td>1980.00</td>\n      <td>RICHARDSON</td>\n    </tr>\n    <tr>\n      <th>2</th>\n      <td>Y163O8161RUS</td>\n      <td>2.00</td>\n      <td>102737.38</td>\n      <td>Ford</td>\n      <td>Focus</td>\n      <td>2019.00</td>\n      <td>RICHARDSON</td>\n    </tr>\n    <tr>\n      <th>3</th>\n      <td>Y163O8161RUS</td>\n      <td>1.00</td>\n      <td>145631.15</td>\n      <td>Ford</td>\n      <td>Focus</td>\n      <td>2017.00</td>\n      <td>RICHARDSON</td>\n    </tr>\n    <tr>\n      <th>4</th>\n      <td>Y163O8161RUS</td>\n      <td>1.00</td>\n      <td>68990.84</td>\n      <td>Ford</td>\n      <td>Focus</td>\n      <td>2017.00</td>\n      <td>RICHARDSON</td>\n    </tr>\n    <tr>\n      <th>...</th>\n      <td>...</td>\n      <td>...</td>\n      <td>...</td>\n      <td>...</td>\n      <td>...</td>\n      <td>...</td>\n      <td>...</td>\n    </tr>\n    <tr>\n      <th>901</th>\n      <td>O50197197RUS</td>\n      <td>2.00</td>\n      <td>7800.00</td>\n      <td>Ford</td>\n      <td>Focus</td>\n      <td>1992.00</td>\n      <td>WRIGHT</td>\n    </tr>\n    <tr>\n      <th>902</th>\n      <td>7608EE777RUS</td>\n      <td>1.00</td>\n      <td>4000.00</td>\n      <td>Skoda</td>\n      <td>Octavia</td>\n      <td>2000.00</td>\n      <td>HILL</td>\n    </tr>\n    <tr>\n      <th>903</th>\n      <td>X676XR666EU</td>\n      <td>NaN</td>\n      <td>NaN</td>\n      <td>NaN</td>\n      <td>NaN</td>\n      <td>NaN</td>\n      <td>Petr</td>\n    </tr>\n    <tr>\n      <th>904</th>\n      <td>X272XR531EU</td>\n      <td>NaN</td>\n      <td>NaN</td>\n      <td>NaN</td>\n      <td>NaN</td>\n      <td>NaN</td>\n      <td>Ildar</td>\n    </tr>\n    <tr>\n      <th>905</th>\n      <td>X171XR327EU</td>\n      <td>NaN</td>\n      <td>NaN</td>\n      <td>NaN</td>\n      <td>NaN</td>\n      <td>NaN</td>\n      <td>Denim</td>\n    </tr>\n  </tbody>\n</table>\n<p>906 rows × 7 columns</p>\n</div>"
     },
     "execution_count": 388,
     "metadata": {},
     "output_type": "execute_result"
    }
   ],
   "source": [
    "fines.merge(owners, how='right')"
   ],
   "metadata": {
    "collapsed": false,
    "pycharm": {
     "name": "#%%\n"
    }
   }
  },
  {
   "cell_type": "markdown",
   "source": [
    "## create a pivot table from the fines dataframe"
   ],
   "metadata": {
    "collapsed": false
   }
  },
  {
   "cell_type": "code",
   "execution_count": 389,
   "outputs": [
    {
     "data": {
      "text/plain": "Year                    1980      1981      1982      1983      1984  \\\nMake       Model                                                       \nBMW        X3            NaN       NaN       NaN       NaN       NaN   \n           X4            NaN       NaN       NaN       NaN       NaN   \n           X5            NaN       NaN       NaN       NaN       NaN   \nFord       Focus   351002.31 859546.19 501227.12 385576.30 145593.54   \n           Mondeo        NaN       NaN       NaN       NaN       NaN   \nKia        Ceed          NaN       NaN       NaN       NaN       NaN   \n           Rio           NaN       NaN       NaN       NaN       NaN   \nSkoda      Octavia  34264.94       NaN   6900.00  11594.59  97608.97   \nToyota     Camry   108833.42   8594.59       NaN   7200.00       NaN   \n           Corolla       NaN       NaN   2000.00       NaN       NaN   \nVolkswagen Golf     30900.00       NaN       NaN   8594.59    300.00   \n           Jetta         NaN       NaN       NaN       NaN       NaN   \n           Passat        NaN  99634.17       NaN   3200.00  10000.00   \n           Touareg       NaN       NaN       NaN       NaN       NaN   \n\nYear                    1985      1986      1987      1988      1989  ...  \\\nMake       Model                                                      ...   \nBMW        X3            NaN       NaN       NaN       NaN       NaN  ...   \n           X4            NaN       NaN       NaN       NaN       NaN  ...   \n           X5            NaN       NaN       NaN       NaN       NaN  ...   \nFord       Focus   635789.50 220328.80 462814.20 527992.30 223755.33  ...   \n           Mondeo        NaN       NaN       NaN       NaN   8600.00  ...   \nKia        Ceed          NaN       NaN       NaN       NaN       NaN  ...   \n           Rio           NaN       NaN       NaN       NaN       NaN  ...   \nSkoda      Octavia  10294.59    600.00 188118.76       NaN  91400.00  ...   \nToyota     Camry         NaN       NaN       NaN       NaN  22400.00  ...   \n           Corolla       NaN 148150.68   8000.00       NaN   4000.00  ...   \nVolkswagen Golf     24000.00       NaN   9300.00       NaN  39458.35  ...   \n           Jetta         NaN       NaN       NaN       NaN       NaN  ...   \n           Passat    5000.00  15000.00  12300.00       NaN       NaN  ...   \n           Touareg   5800.00       NaN       NaN       NaN       NaN  ...   \n\nYear                    2013      2014      2015      2016      2017  \\\nMake       Model                                                       \nBMW        X3            NaN       NaN       NaN       NaN       NaN   \n           X4            NaN       NaN       NaN       NaN       NaN   \n           X5            NaN       NaN       NaN       NaN       NaN   \nFord       Focus   562390.19 390194.62 695912.96 303433.76 831880.25   \n           Mondeo        NaN       NaN       NaN  46200.00       NaN   \nKia        Ceed          NaN       NaN       NaN       NaN       NaN   \n           Rio           NaN       NaN       NaN       NaN       NaN   \nSkoda      Octavia 189468.31 261765.22  46394.59    300.00       NaN   \nToyota     Camry         NaN       NaN       NaN 165506.53  77751.71   \n           Corolla       NaN       NaN       NaN       NaN   9600.00   \nVolkswagen Golf    106949.44       NaN   2300.00       NaN       NaN   \n           Jetta         NaN       NaN       NaN       NaN       NaN   \n           Passat   36608.94       NaN 173824.38   2100.00       NaN   \n           Touareg       NaN   1300.00    500.00       NaN       NaN   \n\nYear                    2018      2019    2020    2021    2022  \nMake       Model                                                \nBMW        X3            NaN       NaN     NaN     NaN     NaN  \n           X4            NaN       NaN     NaN     NaN 6321.00  \n           X5            NaN  53231.00     NaN     NaN     NaN  \nFord       Focus   725054.77 412027.52     NaN     NaN     NaN  \n           Mondeo        NaN       NaN     NaN     NaN     NaN  \nKia        Ceed          NaN       NaN 4521.00     NaN     NaN  \n           Rio           NaN       NaN     NaN 5321.00     NaN  \nSkoda      Octavia 156200.00   9500.00     NaN     NaN     NaN  \nToyota     Camry    13000.00  18100.00     NaN     NaN     NaN  \n           Corolla       NaN 128029.38     NaN     NaN     NaN  \nVolkswagen Golf          NaN       NaN     NaN     NaN     NaN  \n           Jetta         NaN       NaN     NaN     NaN     NaN  \n           Passat        NaN       NaN     NaN     NaN     NaN  \n           Touareg       NaN       NaN     NaN     NaN     NaN  \n\n[14 rows x 43 columns]",
      "text/html": "<div>\n<style scoped>\n    .dataframe tbody tr th:only-of-type {\n        vertical-align: middle;\n    }\n\n    .dataframe tbody tr th {\n        vertical-align: top;\n    }\n\n    .dataframe thead th {\n        text-align: right;\n    }\n</style>\n<table border=\"1\" class=\"dataframe\">\n  <thead>\n    <tr style=\"text-align: right;\">\n      <th></th>\n      <th>Year</th>\n      <th>1980</th>\n      <th>1981</th>\n      <th>1982</th>\n      <th>1983</th>\n      <th>1984</th>\n      <th>1985</th>\n      <th>1986</th>\n      <th>1987</th>\n      <th>1988</th>\n      <th>1989</th>\n      <th>...</th>\n      <th>2013</th>\n      <th>2014</th>\n      <th>2015</th>\n      <th>2016</th>\n      <th>2017</th>\n      <th>2018</th>\n      <th>2019</th>\n      <th>2020</th>\n      <th>2021</th>\n      <th>2022</th>\n    </tr>\n    <tr>\n      <th>Make</th>\n      <th>Model</th>\n      <th></th>\n      <th></th>\n      <th></th>\n      <th></th>\n      <th></th>\n      <th></th>\n      <th></th>\n      <th></th>\n      <th></th>\n      <th></th>\n      <th></th>\n      <th></th>\n      <th></th>\n      <th></th>\n      <th></th>\n      <th></th>\n      <th></th>\n      <th></th>\n      <th></th>\n      <th></th>\n      <th></th>\n    </tr>\n  </thead>\n  <tbody>\n    <tr>\n      <th rowspan=\"3\" valign=\"top\">BMW</th>\n      <th>X3</th>\n      <td>NaN</td>\n      <td>NaN</td>\n      <td>NaN</td>\n      <td>NaN</td>\n      <td>NaN</td>\n      <td>NaN</td>\n      <td>NaN</td>\n      <td>NaN</td>\n      <td>NaN</td>\n      <td>NaN</td>\n      <td>...</td>\n      <td>NaN</td>\n      <td>NaN</td>\n      <td>NaN</td>\n      <td>NaN</td>\n      <td>NaN</td>\n      <td>NaN</td>\n      <td>NaN</td>\n      <td>NaN</td>\n      <td>NaN</td>\n      <td>NaN</td>\n    </tr>\n    <tr>\n      <th>X4</th>\n      <td>NaN</td>\n      <td>NaN</td>\n      <td>NaN</td>\n      <td>NaN</td>\n      <td>NaN</td>\n      <td>NaN</td>\n      <td>NaN</td>\n      <td>NaN</td>\n      <td>NaN</td>\n      <td>NaN</td>\n      <td>...</td>\n      <td>NaN</td>\n      <td>NaN</td>\n      <td>NaN</td>\n      <td>NaN</td>\n      <td>NaN</td>\n      <td>NaN</td>\n      <td>NaN</td>\n      <td>NaN</td>\n      <td>NaN</td>\n      <td>6321.00</td>\n    </tr>\n    <tr>\n      <th>X5</th>\n      <td>NaN</td>\n      <td>NaN</td>\n      <td>NaN</td>\n      <td>NaN</td>\n      <td>NaN</td>\n      <td>NaN</td>\n      <td>NaN</td>\n      <td>NaN</td>\n      <td>NaN</td>\n      <td>NaN</td>\n      <td>...</td>\n      <td>NaN</td>\n      <td>NaN</td>\n      <td>NaN</td>\n      <td>NaN</td>\n      <td>NaN</td>\n      <td>NaN</td>\n      <td>53231.00</td>\n      <td>NaN</td>\n      <td>NaN</td>\n      <td>NaN</td>\n    </tr>\n    <tr>\n      <th rowspan=\"2\" valign=\"top\">Ford</th>\n      <th>Focus</th>\n      <td>351002.31</td>\n      <td>859546.19</td>\n      <td>501227.12</td>\n      <td>385576.30</td>\n      <td>145593.54</td>\n      <td>635789.50</td>\n      <td>220328.80</td>\n      <td>462814.20</td>\n      <td>527992.30</td>\n      <td>223755.33</td>\n      <td>...</td>\n      <td>562390.19</td>\n      <td>390194.62</td>\n      <td>695912.96</td>\n      <td>303433.76</td>\n      <td>831880.25</td>\n      <td>725054.77</td>\n      <td>412027.52</td>\n      <td>NaN</td>\n      <td>NaN</td>\n      <td>NaN</td>\n    </tr>\n    <tr>\n      <th>Mondeo</th>\n      <td>NaN</td>\n      <td>NaN</td>\n      <td>NaN</td>\n      <td>NaN</td>\n      <td>NaN</td>\n      <td>NaN</td>\n      <td>NaN</td>\n      <td>NaN</td>\n      <td>NaN</td>\n      <td>8600.00</td>\n      <td>...</td>\n      <td>NaN</td>\n      <td>NaN</td>\n      <td>NaN</td>\n      <td>46200.00</td>\n      <td>NaN</td>\n      <td>NaN</td>\n      <td>NaN</td>\n      <td>NaN</td>\n      <td>NaN</td>\n      <td>NaN</td>\n    </tr>\n    <tr>\n      <th rowspan=\"2\" valign=\"top\">Kia</th>\n      <th>Ceed</th>\n      <td>NaN</td>\n      <td>NaN</td>\n      <td>NaN</td>\n      <td>NaN</td>\n      <td>NaN</td>\n      <td>NaN</td>\n      <td>NaN</td>\n      <td>NaN</td>\n      <td>NaN</td>\n      <td>NaN</td>\n      <td>...</td>\n      <td>NaN</td>\n      <td>NaN</td>\n      <td>NaN</td>\n      <td>NaN</td>\n      <td>NaN</td>\n      <td>NaN</td>\n      <td>NaN</td>\n      <td>4521.00</td>\n      <td>NaN</td>\n      <td>NaN</td>\n    </tr>\n    <tr>\n      <th>Rio</th>\n      <td>NaN</td>\n      <td>NaN</td>\n      <td>NaN</td>\n      <td>NaN</td>\n      <td>NaN</td>\n      <td>NaN</td>\n      <td>NaN</td>\n      <td>NaN</td>\n      <td>NaN</td>\n      <td>NaN</td>\n      <td>...</td>\n      <td>NaN</td>\n      <td>NaN</td>\n      <td>NaN</td>\n      <td>NaN</td>\n      <td>NaN</td>\n      <td>NaN</td>\n      <td>NaN</td>\n      <td>NaN</td>\n      <td>5321.00</td>\n      <td>NaN</td>\n    </tr>\n    <tr>\n      <th>Skoda</th>\n      <th>Octavia</th>\n      <td>34264.94</td>\n      <td>NaN</td>\n      <td>6900.00</td>\n      <td>11594.59</td>\n      <td>97608.97</td>\n      <td>10294.59</td>\n      <td>600.00</td>\n      <td>188118.76</td>\n      <td>NaN</td>\n      <td>91400.00</td>\n      <td>...</td>\n      <td>189468.31</td>\n      <td>261765.22</td>\n      <td>46394.59</td>\n      <td>300.00</td>\n      <td>NaN</td>\n      <td>156200.00</td>\n      <td>9500.00</td>\n      <td>NaN</td>\n      <td>NaN</td>\n      <td>NaN</td>\n    </tr>\n    <tr>\n      <th rowspan=\"2\" valign=\"top\">Toyota</th>\n      <th>Camry</th>\n      <td>108833.42</td>\n      <td>8594.59</td>\n      <td>NaN</td>\n      <td>7200.00</td>\n      <td>NaN</td>\n      <td>NaN</td>\n      <td>NaN</td>\n      <td>NaN</td>\n      <td>NaN</td>\n      <td>22400.00</td>\n      <td>...</td>\n      <td>NaN</td>\n      <td>NaN</td>\n      <td>NaN</td>\n      <td>165506.53</td>\n      <td>77751.71</td>\n      <td>13000.00</td>\n      <td>18100.00</td>\n      <td>NaN</td>\n      <td>NaN</td>\n      <td>NaN</td>\n    </tr>\n    <tr>\n      <th>Corolla</th>\n      <td>NaN</td>\n      <td>NaN</td>\n      <td>2000.00</td>\n      <td>NaN</td>\n      <td>NaN</td>\n      <td>NaN</td>\n      <td>148150.68</td>\n      <td>8000.00</td>\n      <td>NaN</td>\n      <td>4000.00</td>\n      <td>...</td>\n      <td>NaN</td>\n      <td>NaN</td>\n      <td>NaN</td>\n      <td>NaN</td>\n      <td>9600.00</td>\n      <td>NaN</td>\n      <td>128029.38</td>\n      <td>NaN</td>\n      <td>NaN</td>\n      <td>NaN</td>\n    </tr>\n    <tr>\n      <th rowspan=\"4\" valign=\"top\">Volkswagen</th>\n      <th>Golf</th>\n      <td>30900.00</td>\n      <td>NaN</td>\n      <td>NaN</td>\n      <td>8594.59</td>\n      <td>300.00</td>\n      <td>24000.00</td>\n      <td>NaN</td>\n      <td>9300.00</td>\n      <td>NaN</td>\n      <td>39458.35</td>\n      <td>...</td>\n      <td>106949.44</td>\n      <td>NaN</td>\n      <td>2300.00</td>\n      <td>NaN</td>\n      <td>NaN</td>\n      <td>NaN</td>\n      <td>NaN</td>\n      <td>NaN</td>\n      <td>NaN</td>\n      <td>NaN</td>\n    </tr>\n    <tr>\n      <th>Jetta</th>\n      <td>NaN</td>\n      <td>NaN</td>\n      <td>NaN</td>\n      <td>NaN</td>\n      <td>NaN</td>\n      <td>NaN</td>\n      <td>NaN</td>\n      <td>NaN</td>\n      <td>NaN</td>\n      <td>NaN</td>\n      <td>...</td>\n      <td>NaN</td>\n      <td>NaN</td>\n      <td>NaN</td>\n      <td>NaN</td>\n      <td>NaN</td>\n      <td>NaN</td>\n      <td>NaN</td>\n      <td>NaN</td>\n      <td>NaN</td>\n      <td>NaN</td>\n    </tr>\n    <tr>\n      <th>Passat</th>\n      <td>NaN</td>\n      <td>99634.17</td>\n      <td>NaN</td>\n      <td>3200.00</td>\n      <td>10000.00</td>\n      <td>5000.00</td>\n      <td>15000.00</td>\n      <td>12300.00</td>\n      <td>NaN</td>\n      <td>NaN</td>\n      <td>...</td>\n      <td>36608.94</td>\n      <td>NaN</td>\n      <td>173824.38</td>\n      <td>2100.00</td>\n      <td>NaN</td>\n      <td>NaN</td>\n      <td>NaN</td>\n      <td>NaN</td>\n      <td>NaN</td>\n      <td>NaN</td>\n    </tr>\n    <tr>\n      <th>Touareg</th>\n      <td>NaN</td>\n      <td>NaN</td>\n      <td>NaN</td>\n      <td>NaN</td>\n      <td>NaN</td>\n      <td>5800.00</td>\n      <td>NaN</td>\n      <td>NaN</td>\n      <td>NaN</td>\n      <td>NaN</td>\n      <td>...</td>\n      <td>NaN</td>\n      <td>1300.00</td>\n      <td>500.00</td>\n      <td>NaN</td>\n      <td>NaN</td>\n      <td>NaN</td>\n      <td>NaN</td>\n      <td>NaN</td>\n      <td>NaN</td>\n      <td>NaN</td>\n    </tr>\n  </tbody>\n</table>\n<p>14 rows × 43 columns</p>\n</div>"
     },
     "execution_count": 389,
     "metadata": {},
     "output_type": "execute_result"
    }
   ],
   "source": [
    "pd.pivot_table(fines, index=['Make', 'Model'], columns='Year', values='Fines', aggfunc=np.sum)"
   ],
   "metadata": {
    "collapsed": false,
    "pycharm": {
     "name": "#%%\n"
    }
   }
  },
  {
   "cell_type": "markdown",
   "source": [
    "## save both the fines and owners dataframes to CSV files without an index"
   ],
   "metadata": {
    "collapsed": false
   }
  },
  {
   "cell_type": "code",
   "execution_count": 390,
   "outputs": [],
   "source": [
    "fines.to_csv('fines.csv', index=False)\n",
    "owners.to_csv('owners.csv', index=False)"
   ],
   "metadata": {
    "collapsed": false,
    "pycharm": {
     "name": "#%%\n"
    }
   }
  }
 ],
 "metadata": {
  "kernelspec": {
   "display_name": "Python 3",
   "language": "python",
   "name": "python3"
  },
  "language_info": {
   "codemirror_mode": {
    "name": "ipython",
    "version": 2
   },
   "file_extension": ".py",
   "mimetype": "text/x-python",
   "name": "python",
   "nbconvert_exporter": "python",
   "pygments_lexer": "ipython2",
   "version": "2.7.6"
  }
 },
 "nbformat": 4,
 "nbformat_minor": 0
}