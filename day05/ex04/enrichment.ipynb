{
 "cells": [
  {
   "cell_type": "code",
   "execution_count": 4,
   "metadata": {
    "collapsed": true
   },
   "outputs": [],
   "source": [
    "import pandas as pd\n",
    "import numpy as np\n",
    "import requests"
   ]
  },
  {
   "cell_type": "markdown",
   "source": [
    "## read the JSON file that you saved in ex02"
   ],
   "metadata": {
    "collapsed": false
   }
  },
  {
   "cell_type": "code",
   "execution_count": 1,
   "outputs": [
    {
     "name": "stdout",
     "output_type": "stream",
     "text": [
      "Downloading...\r\n",
      "From: https://drive.google.com/uc?id=1djlN-ujJm1IL6j-ePaygIMxNHKf8P7D9\r\n",
      "To: /Users/dhawkgir/ds/day05/ex04/auto.json\r\n",
      "100%|██████████████████████████████████████| 64.1k/64.1k [00:00<00:00, 1.01MB/s]\r\n",
      "auto.json        enrichment.ipynb\r\n"
     ]
    }
   ],
   "source": [
    "dataset_link = \"https://drive.google.com/file/d/1djlN-ujJm1IL6j-ePaygIMxNHKf8P7D9/view?usp=sharing\"\n",
    "file_id = dataset_link.split(\"/\")[-2]\n",
    "!gdown {file_id}\n",
    "!ls"
   ],
   "metadata": {
    "collapsed": false,
    "pycharm": {
     "name": "#%%\n"
    }
   }
  },
  {
   "cell_type": "code",
   "execution_count": 2,
   "outputs": [],
   "source": [
    "file_name = 'auto.json'"
   ],
   "metadata": {
    "collapsed": false,
    "pycharm": {
     "name": "#%%\n"
    }
   }
  },
  {
   "cell_type": "code",
   "execution_count": 5,
   "outputs": [],
   "source": [
    "df = pd.read_json(file_name, orient='records')"
   ],
   "metadata": {
    "collapsed": false,
    "pycharm": {
     "name": "#%%\n"
    }
   }
  },
  {
   "cell_type": "code",
   "execution_count": 55,
   "outputs": [],
   "source": [
    "pd.options.display.float_format = '{:.2f}'.format"
   ],
   "metadata": {
    "collapsed": false,
    "pycharm": {
     "name": "#%%\n"
    }
   }
  },
  {
   "cell_type": "code",
   "execution_count": 69,
   "outputs": [
    {
     "data": {
      "text/plain": "        CarNumber  Refund    Fines    Make    Model\n0    Y163O8161RUS       2  3200.00    Ford    Focus\n1     E432XX77RUS       1  6500.00  Toyota    Camry\n2     7184TT36RUS       1  2100.00    Ford    Focus\n3    X582HE161RUS       2  2000.00    Ford    Focus\n4    92918M178RUS       1  5700.00    Ford    Focus\n..            ...     ...      ...     ...      ...\n720  Y163O8161RUS       2  1600.00    Ford    Focus\n721  M0309X197RUS       1 22300.00    Ford    Focus\n722  O673E8197RUS       2   600.00    Ford    Focus\n723  8610T8154RUS       1  2000.00    Ford    Focus\n724  H419XE197RUS       2  8594.59  Toyota  Corolla\n\n[725 rows x 5 columns]",
      "text/html": "<div>\n<style scoped>\n    .dataframe tbody tr th:only-of-type {\n        vertical-align: middle;\n    }\n\n    .dataframe tbody tr th {\n        vertical-align: top;\n    }\n\n    .dataframe thead th {\n        text-align: right;\n    }\n</style>\n<table border=\"1\" class=\"dataframe\">\n  <thead>\n    <tr style=\"text-align: right;\">\n      <th></th>\n      <th>CarNumber</th>\n      <th>Refund</th>\n      <th>Fines</th>\n      <th>Make</th>\n      <th>Model</th>\n    </tr>\n  </thead>\n  <tbody>\n    <tr>\n      <th>0</th>\n      <td>Y163O8161RUS</td>\n      <td>2</td>\n      <td>3200.00</td>\n      <td>Ford</td>\n      <td>Focus</td>\n    </tr>\n    <tr>\n      <th>1</th>\n      <td>E432XX77RUS</td>\n      <td>1</td>\n      <td>6500.00</td>\n      <td>Toyota</td>\n      <td>Camry</td>\n    </tr>\n    <tr>\n      <th>2</th>\n      <td>7184TT36RUS</td>\n      <td>1</td>\n      <td>2100.00</td>\n      <td>Ford</td>\n      <td>Focus</td>\n    </tr>\n    <tr>\n      <th>3</th>\n      <td>X582HE161RUS</td>\n      <td>2</td>\n      <td>2000.00</td>\n      <td>Ford</td>\n      <td>Focus</td>\n    </tr>\n    <tr>\n      <th>4</th>\n      <td>92918M178RUS</td>\n      <td>1</td>\n      <td>5700.00</td>\n      <td>Ford</td>\n      <td>Focus</td>\n    </tr>\n    <tr>\n      <th>...</th>\n      <td>...</td>\n      <td>...</td>\n      <td>...</td>\n      <td>...</td>\n      <td>...</td>\n    </tr>\n    <tr>\n      <th>720</th>\n      <td>Y163O8161RUS</td>\n      <td>2</td>\n      <td>1600.00</td>\n      <td>Ford</td>\n      <td>Focus</td>\n    </tr>\n    <tr>\n      <th>721</th>\n      <td>M0309X197RUS</td>\n      <td>1</td>\n      <td>22300.00</td>\n      <td>Ford</td>\n      <td>Focus</td>\n    </tr>\n    <tr>\n      <th>722</th>\n      <td>O673E8197RUS</td>\n      <td>2</td>\n      <td>600.00</td>\n      <td>Ford</td>\n      <td>Focus</td>\n    </tr>\n    <tr>\n      <th>723</th>\n      <td>8610T8154RUS</td>\n      <td>1</td>\n      <td>2000.00</td>\n      <td>Ford</td>\n      <td>Focus</td>\n    </tr>\n    <tr>\n      <th>724</th>\n      <td>H419XE197RUS</td>\n      <td>2</td>\n      <td>8594.59</td>\n      <td>Toyota</td>\n      <td>Corolla</td>\n    </tr>\n  </tbody>\n</table>\n<p>725 rows × 5 columns</p>\n</div>"
     },
     "execution_count": 69,
     "metadata": {},
     "output_type": "execute_result"
    }
   ],
   "source": [
    "df"
   ],
   "metadata": {
    "collapsed": false,
    "pycharm": {
     "name": "#%%\n"
    }
   }
  },
  {
   "cell_type": "code",
   "execution_count": 61,
   "outputs": [
    {
     "name": "stdout",
     "output_type": "stream",
     "text": [
      "<class 'pandas.core.frame.DataFrame'>\n",
      "RangeIndex: 725 entries, 0 to 724\n",
      "Data columns (total 5 columns):\n",
      " #   Column     Non-Null Count  Dtype  \n",
      "---  ------     --------------  -----  \n",
      " 0   CarNumber  725 non-null    object \n",
      " 1   Refund     725 non-null    int64  \n",
      " 2   Fines      725 non-null    float64\n",
      " 3   Make       725 non-null    object \n",
      " 4   Model      716 non-null    object \n",
      "dtypes: float64(1), int64(1), object(3)\n",
      "memory usage: 28.4+ KB\n"
     ]
    }
   ],
   "source": [
    "df.info()"
   ],
   "metadata": {
    "collapsed": false,
    "pycharm": {
     "name": "#%%\n"
    }
   }
  },
  {
   "cell_type": "markdown",
   "source": [
    "## enrich the dataframe using a sample from that dataframe"
   ],
   "metadata": {
    "collapsed": false
   }
  },
  {
   "cell_type": "code",
   "execution_count": 70,
   "outputs": [],
   "source": [
    "samples = 200\n",
    "random_state = 21"
   ],
   "metadata": {
    "collapsed": false,
    "pycharm": {
     "name": "#%%\n"
    }
   }
  },
  {
   "cell_type": "code",
   "execution_count": 117,
   "outputs": [],
   "source": [
    "np.random.seed(random_state)"
   ],
   "metadata": {
    "collapsed": false,
    "pycharm": {
     "name": "#%%\n"
    }
   }
  },
  {
   "cell_type": "code",
   "execution_count": 118,
   "outputs": [
    {
     "data": {
      "text/plain": "        CarNumber  Refund    Fines        Make   Model\n207  Y351O8197RUS       1  1500.00        Ford   Focus\n48    H917TC36RUS       2  4000.00        Ford   Focus\n368  C589EY154RUS       1  4500.00        Ford   Focus\n120   K846YE77RUS       2  2000.00  Volkswagen  Passat\n419  X4108H125RUS       2  1300.00        Ford   Focus\n..            ...     ...      ...         ...     ...\n587  M942OT152RUS       1  2000.00        Ford   Focus\n595  Y187O8161RUS       2   400.00        Ford   Focus\n365  7064C8197RUS       1 12800.00  Volkswagen  Passat\n474  8437XX154RUS       2   800.00        Ford   Focus\n592   C410X938RUS       2  2200.00        Ford   Focus\n\n[200 rows x 5 columns]",
      "text/html": "<div>\n<style scoped>\n    .dataframe tbody tr th:only-of-type {\n        vertical-align: middle;\n    }\n\n    .dataframe tbody tr th {\n        vertical-align: top;\n    }\n\n    .dataframe thead th {\n        text-align: right;\n    }\n</style>\n<table border=\"1\" class=\"dataframe\">\n  <thead>\n    <tr style=\"text-align: right;\">\n      <th></th>\n      <th>CarNumber</th>\n      <th>Refund</th>\n      <th>Fines</th>\n      <th>Make</th>\n      <th>Model</th>\n    </tr>\n  </thead>\n  <tbody>\n    <tr>\n      <th>207</th>\n      <td>Y351O8197RUS</td>\n      <td>1</td>\n      <td>1500.00</td>\n      <td>Ford</td>\n      <td>Focus</td>\n    </tr>\n    <tr>\n      <th>48</th>\n      <td>H917TC36RUS</td>\n      <td>2</td>\n      <td>4000.00</td>\n      <td>Ford</td>\n      <td>Focus</td>\n    </tr>\n    <tr>\n      <th>368</th>\n      <td>C589EY154RUS</td>\n      <td>1</td>\n      <td>4500.00</td>\n      <td>Ford</td>\n      <td>Focus</td>\n    </tr>\n    <tr>\n      <th>120</th>\n      <td>K846YE77RUS</td>\n      <td>2</td>\n      <td>2000.00</td>\n      <td>Volkswagen</td>\n      <td>Passat</td>\n    </tr>\n    <tr>\n      <th>419</th>\n      <td>X4108H125RUS</td>\n      <td>2</td>\n      <td>1300.00</td>\n      <td>Ford</td>\n      <td>Focus</td>\n    </tr>\n    <tr>\n      <th>...</th>\n      <td>...</td>\n      <td>...</td>\n      <td>...</td>\n      <td>...</td>\n      <td>...</td>\n    </tr>\n    <tr>\n      <th>587</th>\n      <td>M942OT152RUS</td>\n      <td>1</td>\n      <td>2000.00</td>\n      <td>Ford</td>\n      <td>Focus</td>\n    </tr>\n    <tr>\n      <th>595</th>\n      <td>Y187O8161RUS</td>\n      <td>2</td>\n      <td>400.00</td>\n      <td>Ford</td>\n      <td>Focus</td>\n    </tr>\n    <tr>\n      <th>365</th>\n      <td>7064C8197RUS</td>\n      <td>1</td>\n      <td>12800.00</td>\n      <td>Volkswagen</td>\n      <td>Passat</td>\n    </tr>\n    <tr>\n      <th>474</th>\n      <td>8437XX154RUS</td>\n      <td>2</td>\n      <td>800.00</td>\n      <td>Ford</td>\n      <td>Focus</td>\n    </tr>\n    <tr>\n      <th>592</th>\n      <td>C410X938RUS</td>\n      <td>2</td>\n      <td>2200.00</td>\n      <td>Ford</td>\n      <td>Focus</td>\n    </tr>\n  </tbody>\n</table>\n<p>200 rows × 5 columns</p>\n</div>"
     },
     "execution_count": 118,
     "metadata": {},
     "output_type": "execute_result"
    }
   ],
   "source": [
    "enrich_df = df.iloc[np.random.randint(0, len(df), samples)]\n",
    "enrich_df"
   ],
   "metadata": {
    "collapsed": false,
    "pycharm": {
     "name": "#%%\n"
    }
   }
  },
  {
   "cell_type": "code",
   "execution_count": 119,
   "outputs": [],
   "source": [
    "pd.set_option('mode.chained_assignment', None)"
   ],
   "metadata": {
    "collapsed": false,
    "pycharm": {
     "name": "#%%\n"
    }
   }
  },
  {
   "cell_type": "code",
   "execution_count": 120,
   "outputs": [
    {
     "data": {
      "text/plain": "        CarNumber  Refund     Fines        Make   Model\n207  Y351O8197RUS       2 168558.07        Ford   Focus\n48    H917TC36RUS       2 135334.21        Ford   Focus\n368  C589EY154RUS       1 102219.25        Ford   Focus\n120   K846YE77RUS       2  64799.03  Volkswagen  Passat\n419  X4108H125RUS       2 118728.93        Ford   Focus\n..            ...     ...       ...         ...     ...\n587  M942OT152RUS       1 174828.71        Ford   Focus\n595  Y187O8161RUS       1 178191.32        Ford   Focus\n365  7064C8197RUS       2  63548.89  Volkswagen  Passat\n474  8437XX154RUS       2 147950.60        Ford   Focus\n592   C410X938RUS       1 151165.80        Ford   Focus\n\n[200 rows x 5 columns]",
      "text/html": "<div>\n<style scoped>\n    .dataframe tbody tr th:only-of-type {\n        vertical-align: middle;\n    }\n\n    .dataframe tbody tr th {\n        vertical-align: top;\n    }\n\n    .dataframe thead th {\n        text-align: right;\n    }\n</style>\n<table border=\"1\" class=\"dataframe\">\n  <thead>\n    <tr style=\"text-align: right;\">\n      <th></th>\n      <th>CarNumber</th>\n      <th>Refund</th>\n      <th>Fines</th>\n      <th>Make</th>\n      <th>Model</th>\n    </tr>\n  </thead>\n  <tbody>\n    <tr>\n      <th>207</th>\n      <td>Y351O8197RUS</td>\n      <td>2</td>\n      <td>168558.07</td>\n      <td>Ford</td>\n      <td>Focus</td>\n    </tr>\n    <tr>\n      <th>48</th>\n      <td>H917TC36RUS</td>\n      <td>2</td>\n      <td>135334.21</td>\n      <td>Ford</td>\n      <td>Focus</td>\n    </tr>\n    <tr>\n      <th>368</th>\n      <td>C589EY154RUS</td>\n      <td>1</td>\n      <td>102219.25</td>\n      <td>Ford</td>\n      <td>Focus</td>\n    </tr>\n    <tr>\n      <th>120</th>\n      <td>K846YE77RUS</td>\n      <td>2</td>\n      <td>64799.03</td>\n      <td>Volkswagen</td>\n      <td>Passat</td>\n    </tr>\n    <tr>\n      <th>419</th>\n      <td>X4108H125RUS</td>\n      <td>2</td>\n      <td>118728.93</td>\n      <td>Ford</td>\n      <td>Focus</td>\n    </tr>\n    <tr>\n      <th>...</th>\n      <td>...</td>\n      <td>...</td>\n      <td>...</td>\n      <td>...</td>\n      <td>...</td>\n    </tr>\n    <tr>\n      <th>587</th>\n      <td>M942OT152RUS</td>\n      <td>1</td>\n      <td>174828.71</td>\n      <td>Ford</td>\n      <td>Focus</td>\n    </tr>\n    <tr>\n      <th>595</th>\n      <td>Y187O8161RUS</td>\n      <td>1</td>\n      <td>178191.32</td>\n      <td>Ford</td>\n      <td>Focus</td>\n    </tr>\n    <tr>\n      <th>365</th>\n      <td>7064C8197RUS</td>\n      <td>2</td>\n      <td>63548.89</td>\n      <td>Volkswagen</td>\n      <td>Passat</td>\n    </tr>\n    <tr>\n      <th>474</th>\n      <td>8437XX154RUS</td>\n      <td>2</td>\n      <td>147950.60</td>\n      <td>Ford</td>\n      <td>Focus</td>\n    </tr>\n    <tr>\n      <th>592</th>\n      <td>C410X938RUS</td>\n      <td>1</td>\n      <td>151165.80</td>\n      <td>Ford</td>\n      <td>Focus</td>\n    </tr>\n  </tbody>\n</table>\n<p>200 rows × 5 columns</p>\n</div>"
     },
     "execution_count": 120,
     "metadata": {},
     "output_type": "execute_result"
    }
   ],
   "source": [
    "enrich_df.loc[:, ['Refund']] = np.random.randint(df.Refund.min(), df.Refund.max() + 1, samples)\n",
    "enrich_df.loc[:, ['Fines']] = df.Fines.max() * np.random.random(samples)\n",
    "enrich_df"
   ],
   "metadata": {
    "collapsed": false,
    "pycharm": {
     "name": "#%%\n"
    }
   }
  },
  {
   "cell_type": "code",
   "execution_count": 121,
   "outputs": [
    {
     "data": {
      "text/plain": "        CarNumber  Refund     Fines        Make   Model\n0    Y163O8161RUS       2   3200.00        Ford   Focus\n1     E432XX77RUS       1   6500.00      Toyota   Camry\n2     7184TT36RUS       1   2100.00        Ford   Focus\n3    X582HE161RUS       2   2000.00        Ford   Focus\n4    92918M178RUS       1   5700.00        Ford   Focus\n..            ...     ...       ...         ...     ...\n920  M942OT152RUS       1 174828.71        Ford   Focus\n921  Y187O8161RUS       1 178191.32        Ford   Focus\n922  7064C8197RUS       2  63548.89  Volkswagen  Passat\n923  8437XX154RUS       2 147950.60        Ford   Focus\n924   C410X938RUS       1 151165.80        Ford   Focus\n\n[925 rows x 5 columns]",
      "text/html": "<div>\n<style scoped>\n    .dataframe tbody tr th:only-of-type {\n        vertical-align: middle;\n    }\n\n    .dataframe tbody tr th {\n        vertical-align: top;\n    }\n\n    .dataframe thead th {\n        text-align: right;\n    }\n</style>\n<table border=\"1\" class=\"dataframe\">\n  <thead>\n    <tr style=\"text-align: right;\">\n      <th></th>\n      <th>CarNumber</th>\n      <th>Refund</th>\n      <th>Fines</th>\n      <th>Make</th>\n      <th>Model</th>\n    </tr>\n  </thead>\n  <tbody>\n    <tr>\n      <th>0</th>\n      <td>Y163O8161RUS</td>\n      <td>2</td>\n      <td>3200.00</td>\n      <td>Ford</td>\n      <td>Focus</td>\n    </tr>\n    <tr>\n      <th>1</th>\n      <td>E432XX77RUS</td>\n      <td>1</td>\n      <td>6500.00</td>\n      <td>Toyota</td>\n      <td>Camry</td>\n    </tr>\n    <tr>\n      <th>2</th>\n      <td>7184TT36RUS</td>\n      <td>1</td>\n      <td>2100.00</td>\n      <td>Ford</td>\n      <td>Focus</td>\n    </tr>\n    <tr>\n      <th>3</th>\n      <td>X582HE161RUS</td>\n      <td>2</td>\n      <td>2000.00</td>\n      <td>Ford</td>\n      <td>Focus</td>\n    </tr>\n    <tr>\n      <th>4</th>\n      <td>92918M178RUS</td>\n      <td>1</td>\n      <td>5700.00</td>\n      <td>Ford</td>\n      <td>Focus</td>\n    </tr>\n    <tr>\n      <th>...</th>\n      <td>...</td>\n      <td>...</td>\n      <td>...</td>\n      <td>...</td>\n      <td>...</td>\n    </tr>\n    <tr>\n      <th>920</th>\n      <td>M942OT152RUS</td>\n      <td>1</td>\n      <td>174828.71</td>\n      <td>Ford</td>\n      <td>Focus</td>\n    </tr>\n    <tr>\n      <th>921</th>\n      <td>Y187O8161RUS</td>\n      <td>1</td>\n      <td>178191.32</td>\n      <td>Ford</td>\n      <td>Focus</td>\n    </tr>\n    <tr>\n      <th>922</th>\n      <td>7064C8197RUS</td>\n      <td>2</td>\n      <td>63548.89</td>\n      <td>Volkswagen</td>\n      <td>Passat</td>\n    </tr>\n    <tr>\n      <th>923</th>\n      <td>8437XX154RUS</td>\n      <td>2</td>\n      <td>147950.60</td>\n      <td>Ford</td>\n      <td>Focus</td>\n    </tr>\n    <tr>\n      <th>924</th>\n      <td>C410X938RUS</td>\n      <td>1</td>\n      <td>151165.80</td>\n      <td>Ford</td>\n      <td>Focus</td>\n    </tr>\n  </tbody>\n</table>\n<p>925 rows × 5 columns</p>\n</div>"
     },
     "execution_count": 121,
     "metadata": {},
     "output_type": "execute_result"
    }
   ],
   "source": [
    "concat_rows = pd.concat([df, enrich_df], ignore_index=True)\n",
    "concat_rows"
   ],
   "metadata": {
    "collapsed": false,
    "pycharm": {
     "name": "#%%\n"
    }
   }
  },
  {
   "cell_type": "markdown",
   "source": [
    "## enrich the dataframe concat_rows by a new column with the data generated"
   ],
   "metadata": {
    "collapsed": false
   }
  },
  {
   "cell_type": "code",
   "execution_count": 122,
   "outputs": [],
   "source": [
    "np.random.seed(random_state)"
   ],
   "metadata": {
    "collapsed": false,
    "pycharm": {
     "name": "#%%\n"
    }
   }
  },
  {
   "cell_type": "code",
   "execution_count": 127,
   "outputs": [
    {
     "data": {
      "text/plain": "0      1994\n1      2007\n2      1980\n3      2006\n4      1983\n       ... \n920    2005\n921    2013\n922    2018\n923    2003\n924    2009\nName: Year, Length: 925, dtype: int64"
     },
     "execution_count": 127,
     "metadata": {},
     "output_type": "execute_result"
    }
   ],
   "source": [
    "Year = pd.Series(np.random.randint(1980, 2019+1, len(concat_rows)), name='Year')\n",
    "Year"
   ],
   "metadata": {
    "collapsed": false,
    "pycharm": {
     "name": "#%%\n"
    }
   }
  },
  {
   "cell_type": "code",
   "execution_count": 131,
   "outputs": [
    {
     "data": {
      "text/plain": "        CarNumber  Refund     Fines        Make   Model  Year\n0    Y163O8161RUS       2   3200.00        Ford   Focus  1994\n1     E432XX77RUS       1   6500.00      Toyota   Camry  2007\n2     7184TT36RUS       1   2100.00        Ford   Focus  1980\n3    X582HE161RUS       2   2000.00        Ford   Focus  2006\n4    92918M178RUS       1   5700.00        Ford   Focus  1983\n..            ...     ...       ...         ...     ...   ...\n920  M942OT152RUS       1 174828.71        Ford   Focus  2005\n921  Y187O8161RUS       1 178191.32        Ford   Focus  2013\n922  7064C8197RUS       2  63548.89  Volkswagen  Passat  2018\n923  8437XX154RUS       2 147950.60        Ford   Focus  2003\n924   C410X938RUS       1 151165.80        Ford   Focus  2009\n\n[925 rows x 6 columns]",
      "text/html": "<div>\n<style scoped>\n    .dataframe tbody tr th:only-of-type {\n        vertical-align: middle;\n    }\n\n    .dataframe tbody tr th {\n        vertical-align: top;\n    }\n\n    .dataframe thead th {\n        text-align: right;\n    }\n</style>\n<table border=\"1\" class=\"dataframe\">\n  <thead>\n    <tr style=\"text-align: right;\">\n      <th></th>\n      <th>CarNumber</th>\n      <th>Refund</th>\n      <th>Fines</th>\n      <th>Make</th>\n      <th>Model</th>\n      <th>Year</th>\n    </tr>\n  </thead>\n  <tbody>\n    <tr>\n      <th>0</th>\n      <td>Y163O8161RUS</td>\n      <td>2</td>\n      <td>3200.00</td>\n      <td>Ford</td>\n      <td>Focus</td>\n      <td>1994</td>\n    </tr>\n    <tr>\n      <th>1</th>\n      <td>E432XX77RUS</td>\n      <td>1</td>\n      <td>6500.00</td>\n      <td>Toyota</td>\n      <td>Camry</td>\n      <td>2007</td>\n    </tr>\n    <tr>\n      <th>2</th>\n      <td>7184TT36RUS</td>\n      <td>1</td>\n      <td>2100.00</td>\n      <td>Ford</td>\n      <td>Focus</td>\n      <td>1980</td>\n    </tr>\n    <tr>\n      <th>3</th>\n      <td>X582HE161RUS</td>\n      <td>2</td>\n      <td>2000.00</td>\n      <td>Ford</td>\n      <td>Focus</td>\n      <td>2006</td>\n    </tr>\n    <tr>\n      <th>4</th>\n      <td>92918M178RUS</td>\n      <td>1</td>\n      <td>5700.00</td>\n      <td>Ford</td>\n      <td>Focus</td>\n      <td>1983</td>\n    </tr>\n    <tr>\n      <th>...</th>\n      <td>...</td>\n      <td>...</td>\n      <td>...</td>\n      <td>...</td>\n      <td>...</td>\n      <td>...</td>\n    </tr>\n    <tr>\n      <th>920</th>\n      <td>M942OT152RUS</td>\n      <td>1</td>\n      <td>174828.71</td>\n      <td>Ford</td>\n      <td>Focus</td>\n      <td>2005</td>\n    </tr>\n    <tr>\n      <th>921</th>\n      <td>Y187O8161RUS</td>\n      <td>1</td>\n      <td>178191.32</td>\n      <td>Ford</td>\n      <td>Focus</td>\n      <td>2013</td>\n    </tr>\n    <tr>\n      <th>922</th>\n      <td>7064C8197RUS</td>\n      <td>2</td>\n      <td>63548.89</td>\n      <td>Volkswagen</td>\n      <td>Passat</td>\n      <td>2018</td>\n    </tr>\n    <tr>\n      <th>923</th>\n      <td>8437XX154RUS</td>\n      <td>2</td>\n      <td>147950.60</td>\n      <td>Ford</td>\n      <td>Focus</td>\n      <td>2003</td>\n    </tr>\n    <tr>\n      <th>924</th>\n      <td>C410X938RUS</td>\n      <td>1</td>\n      <td>151165.80</td>\n      <td>Ford</td>\n      <td>Focus</td>\n      <td>2009</td>\n    </tr>\n  </tbody>\n</table>\n<p>925 rows × 6 columns</p>\n</div>"
     },
     "execution_count": 131,
     "metadata": {},
     "output_type": "execute_result"
    }
   ],
   "source": [
    "fines = concat_rows.merge(Year, left_index=True, right_index=True)\n",
    "fines"
   ],
   "metadata": {
    "collapsed": false,
    "pycharm": {
     "name": "#%%\n"
    }
   }
  },
  {
   "cell_type": "markdown",
   "source": [
    "## enrich the dataframe with the data from another dataframe"
   ],
   "metadata": {
    "collapsed": false
   }
  },
  {
   "cell_type": "code",
   "execution_count": 132,
   "outputs": [
    {
     "name": "stdout",
     "output_type": "stream",
     "text": [
      "Downloading...\r\n",
      "From: https://drive.google.com/uc?id=1uulthlFMcF1S29sxDw_9AWKXf7OhaamX\r\n",
      "To: /Users/dhawkgir/ds/day05/ex04/surname.json\r\n",
      "100%|██████████████████████████████████████| 2.62k/2.62k [00:00<00:00, 7.79MB/s]\r\n",
      "auto.json        enrichment.ipynb surname.json\r\n"
     ]
    }
   ],
   "source": [
    "surname_link = 'https://drive.google.com/file/d/1uulthlFMcF1S29sxDw_9AWKXf7OhaamX/view?usp=sharing'\n",
    "file_id = surname_link.split(\"/\")[-2]\n",
    "!gdown {file_id}\n",
    "!ls"
   ],
   "metadata": {
    "collapsed": false,
    "pycharm": {
     "name": "#%%\n"
    }
   }
  },
  {
   "cell_type": "code",
   "execution_count": 139,
   "outputs": [
    {
     "name": "stdout",
     "output_type": "stream",
     "text": [
      "[[\"NAME\",\"COUNT\",\"RANK\"],\r\n",
      "[\"ADAMS\",\"427865\",\"42\"],\r\n",
      "[\"ALLEN\",\"482607\",\"33\"],\r\n",
      "[\"ALVAREZ\",\"233983\",\"92\"],\r\n",
      "[\"ANDERSON\",\"784404\",\"15\"],\r\n",
      "[\"BAILEY\",\"277845\",\"72\"],\r\n",
      "[\"BAKER\",\"419586\",\"44\"],\r\n",
      "[\"BENNETT\",\"247599\",\"86\"],\r\n",
      "[\"BROOKS\",\"251663\",\"82\"],\r\n",
      "[\"BROWN\",\"1437026\",\"4\"],\r\n"
     ]
    }
   ],
   "source": [
    "!head surname.json"
   ],
   "metadata": {
    "collapsed": false,
    "pycharm": {
     "name": "#%%\n"
    }
   }
  },
  {
   "cell_type": "code",
   "execution_count": 153,
   "outputs": [
    {
     "data": {
      "text/plain": "            0        1     2\n0        NAME    COUNT  RANK\n1       ADAMS   427865    42\n2       ALLEN   482607    33\n3     ALVAREZ   233983    92\n4    ANDERSON   784404    15\n..        ...      ...   ...\n96   WILLIAMS  1625252     3\n97     WILSON   801882    14\n98       WOOD   250715    84\n99     WRIGHT   458980    35\n100     YOUNG   484447    32\n\n[101 rows x 3 columns]",
      "text/html": "<div>\n<style scoped>\n    .dataframe tbody tr th:only-of-type {\n        vertical-align: middle;\n    }\n\n    .dataframe tbody tr th {\n        vertical-align: top;\n    }\n\n    .dataframe thead th {\n        text-align: right;\n    }\n</style>\n<table border=\"1\" class=\"dataframe\">\n  <thead>\n    <tr style=\"text-align: right;\">\n      <th></th>\n      <th>0</th>\n      <th>1</th>\n      <th>2</th>\n    </tr>\n  </thead>\n  <tbody>\n    <tr>\n      <th>0</th>\n      <td>NAME</td>\n      <td>COUNT</td>\n      <td>RANK</td>\n    </tr>\n    <tr>\n      <th>1</th>\n      <td>ADAMS</td>\n      <td>427865</td>\n      <td>42</td>\n    </tr>\n    <tr>\n      <th>2</th>\n      <td>ALLEN</td>\n      <td>482607</td>\n      <td>33</td>\n    </tr>\n    <tr>\n      <th>3</th>\n      <td>ALVAREZ</td>\n      <td>233983</td>\n      <td>92</td>\n    </tr>\n    <tr>\n      <th>4</th>\n      <td>ANDERSON</td>\n      <td>784404</td>\n      <td>15</td>\n    </tr>\n    <tr>\n      <th>...</th>\n      <td>...</td>\n      <td>...</td>\n      <td>...</td>\n    </tr>\n    <tr>\n      <th>96</th>\n      <td>WILLIAMS</td>\n      <td>1625252</td>\n      <td>3</td>\n    </tr>\n    <tr>\n      <th>97</th>\n      <td>WILSON</td>\n      <td>801882</td>\n      <td>14</td>\n    </tr>\n    <tr>\n      <th>98</th>\n      <td>WOOD</td>\n      <td>250715</td>\n      <td>84</td>\n    </tr>\n    <tr>\n      <th>99</th>\n      <td>WRIGHT</td>\n      <td>458980</td>\n      <td>35</td>\n    </tr>\n    <tr>\n      <th>100</th>\n      <td>YOUNG</td>\n      <td>484447</td>\n      <td>32</td>\n    </tr>\n  </tbody>\n</table>\n<p>101 rows × 3 columns</p>\n</div>"
     },
     "execution_count": 153,
     "metadata": {},
     "output_type": "execute_result"
    }
   ],
   "source": [
    "surname_file = 'surname.json'\n",
    "df_sn = pd.read_json(surname_file, orient='records')\n",
    "df_sn"
   ],
   "metadata": {
    "collapsed": false,
    "pycharm": {
     "name": "#%%\n"
    }
   }
  },
  {
   "cell_type": "code",
   "execution_count": 137,
   "outputs": [
    {
     "data": {
      "text/plain": "            0        1     2\n0        NAME    COUNT  RANK\n1       ADAMS   427865    42\n2       ALLEN   482607    33\n3     ALVAREZ   233983    92\n4    ANDERSON   784404    15\n..        ...      ...   ...\n96   WILLIAMS  1625252     3\n97     WILSON   801882    14\n98       WOOD   250715    84\n99     WRIGHT   458980    35\n100     YOUNG   484447    32\n\n[101 rows x 3 columns]",
      "text/html": "<div>\n<style scoped>\n    .dataframe tbody tr th:only-of-type {\n        vertical-align: middle;\n    }\n\n    .dataframe tbody tr th {\n        vertical-align: top;\n    }\n\n    .dataframe thead th {\n        text-align: right;\n    }\n</style>\n<table border=\"1\" class=\"dataframe\">\n  <thead>\n    <tr style=\"text-align: right;\">\n      <th></th>\n      <th>0</th>\n      <th>1</th>\n      <th>2</th>\n    </tr>\n  </thead>\n  <tbody>\n    <tr>\n      <th>0</th>\n      <td>NAME</td>\n      <td>COUNT</td>\n      <td>RANK</td>\n    </tr>\n    <tr>\n      <th>1</th>\n      <td>ADAMS</td>\n      <td>427865</td>\n      <td>42</td>\n    </tr>\n    <tr>\n      <th>2</th>\n      <td>ALLEN</td>\n      <td>482607</td>\n      <td>33</td>\n    </tr>\n    <tr>\n      <th>3</th>\n      <td>ALVAREZ</td>\n      <td>233983</td>\n      <td>92</td>\n    </tr>\n    <tr>\n      <th>4</th>\n      <td>ANDERSON</td>\n      <td>784404</td>\n      <td>15</td>\n    </tr>\n    <tr>\n      <th>...</th>\n      <td>...</td>\n      <td>...</td>\n      <td>...</td>\n    </tr>\n    <tr>\n      <th>96</th>\n      <td>WILLIAMS</td>\n      <td>1625252</td>\n      <td>3</td>\n    </tr>\n    <tr>\n      <th>97</th>\n      <td>WILSON</td>\n      <td>801882</td>\n      <td>14</td>\n    </tr>\n    <tr>\n      <th>98</th>\n      <td>WOOD</td>\n      <td>250715</td>\n      <td>84</td>\n    </tr>\n    <tr>\n      <th>99</th>\n      <td>WRIGHT</td>\n      <td>458980</td>\n      <td>35</td>\n    </tr>\n    <tr>\n      <th>100</th>\n      <td>YOUNG</td>\n      <td>484447</td>\n      <td>32</td>\n    </tr>\n  </tbody>\n</table>\n<p>101 rows × 3 columns</p>\n</div>"
     },
     "execution_count": 137,
     "metadata": {},
     "output_type": "execute_result"
    }
   ],
   "source": [],
   "metadata": {
    "collapsed": false,
    "pycharm": {
     "name": "#%%\n"
    }
   }
  },
  {
   "cell_type": "code",
   "execution_count": null,
   "outputs": [],
   "source": [],
   "metadata": {
    "collapsed": false,
    "pycharm": {
     "name": "#%%\n"
    }
   }
  },
  {
   "cell_type": "markdown",
   "source": [
    "## create a pivot table from the fines dataframe"
   ],
   "metadata": {
    "collapsed": false
   }
  },
  {
   "cell_type": "code",
   "execution_count": null,
   "outputs": [],
   "source": [],
   "metadata": {
    "collapsed": false,
    "pycharm": {
     "name": "#%%\n"
    }
   }
  },
  {
   "cell_type": "code",
   "execution_count": null,
   "outputs": [],
   "source": [],
   "metadata": {
    "collapsed": false,
    "pycharm": {
     "name": "#%%\n"
    }
   }
  },
  {
   "cell_type": "code",
   "execution_count": null,
   "outputs": [],
   "source": [],
   "metadata": {
    "collapsed": false,
    "pycharm": {
     "name": "#%%\n"
    }
   }
  },
  {
   "cell_type": "code",
   "execution_count": null,
   "outputs": [],
   "source": [],
   "metadata": {
    "collapsed": false,
    "pycharm": {
     "name": "#%%\n"
    }
   }
  },
  {
   "cell_type": "code",
   "execution_count": null,
   "outputs": [],
   "source": [],
   "metadata": {
    "collapsed": false,
    "pycharm": {
     "name": "#%%\n"
    }
   }
  },
  {
   "cell_type": "markdown",
   "source": [
    "## save both the fines and owners dataframes to CSV files without an index"
   ],
   "metadata": {
    "collapsed": false
   }
  },
  {
   "cell_type": "code",
   "execution_count": null,
   "outputs": [],
   "source": [],
   "metadata": {
    "collapsed": false,
    "pycharm": {
     "name": "#%%\n"
    }
   }
  }
 ],
 "metadata": {
  "kernelspec": {
   "display_name": "Python 3",
   "language": "python",
   "name": "python3"
  },
  "language_info": {
   "codemirror_mode": {
    "name": "ipython",
    "version": 2
   },
   "file_extension": ".py",
   "mimetype": "text/x-python",
   "name": "python",
   "nbconvert_exporter": "python",
   "pygments_lexer": "ipython2",
   "version": "2.7.6"
  }
 },
 "nbformat": 4,
 "nbformat_minor": 0
}