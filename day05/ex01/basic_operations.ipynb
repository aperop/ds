{
  "nbformat": 4,
  "nbformat_minor": 0,
  "metadata": {
    "colab": {
      "provenance": [],
      "authorship_tag": "ABX9TyO+sifmxkmcUKBzcqv719ZK",
      "include_colab_link": true
    },
    "kernelspec": {
      "name": "python3",
      "display_name": "Python 3"
    },
    "language_info": {
      "name": "python"
    }
  },
  "cells": [
    {
      "cell_type": "markdown",
      "metadata": {
        "id": "view-in-github",
        "colab_type": "text"
      },
      "source": [
        "<a href=\"https://colab.research.google.com/github/aperop/ds/blob/main/day05/ex01/basic_operations.ipynb\" target=\"_parent\"><img src=\"https://colab.research.google.com/assets/colab-badge.svg\" alt=\"Open In Colab\"/></a>"
      ]
    },
    {
      "cell_type": "code",
      "execution_count": null,
      "metadata": {
        "id": "F1lDKBReJDaa"
      },
      "outputs": [],
      "source": [
        "import pandas as pd"
      ]
    },
    {
      "cell_type": "markdown",
      "source": [
        "## create a dataframe views with two columns: datetime and user by reading feed-views.log"
      ],
      "metadata": {
        "id": "olUeyvxZKORi"
      }
    },
    {
      "cell_type": "code",
      "source": [
        "dataset_link = \"https://drive.google.com/file/d/1kgByP3EZHL8xAm-oGaBpf0-fPdVIYRaY/view\"\n",
        "file_id = dataset_link.split(\"/\")[-2]\n",
        "!gdown {file_id} -q\n",
        "!ls"
      ],
      "metadata": {
        "colab": {
          "base_uri": "https://localhost:8080/"
        },
        "id": "PMjeXAyIKgsv",
        "outputId": "72bb5a36-40cb-405f-c45c-ea1ce7db5fb5"
      },
      "execution_count": null,
      "outputs": [
        {
          "output_type": "stream",
          "name": "stdout",
          "text": [
            "feed-views.log\tsample_data\n"
          ]
        }
      ]
    },
    {
      "cell_type": "code",
      "source": [
        "file_name = \"feed-views.log\""
      ],
      "metadata": {
        "id": "JAYaKWG7JFwL"
      },
      "execution_count": null,
      "outputs": []
    },
    {
      "cell_type": "code",
      "source": [
        "df = pd.read_csv(file_name, sep='\\t', names=['datetime', 'user'], parse_dates=[0])\n",
        "df"
      ],
      "metadata": {
        "colab": {
          "base_uri": "https://localhost:8080/",
          "height": 424
        },
        "id": "iYrSyW1JLNvN",
        "outputId": "006fb924-364d-4699-82df-93449428e4f5"
      },
      "execution_count": null,
      "outputs": [
        {
          "output_type": "execute_result",
          "data": {
            "text/plain": [
              "                       datetime       user\n",
              "0    2020-04-17 12:01:08.463179      artem\n",
              "1    2020-04-17 12:01:23.743946      artem\n",
              "2    2020-04-17 12:27:30.646665      artem\n",
              "3    2020-04-17 12:35:44.884757      artem\n",
              "4    2020-04-17 12:35:52.735016      artem\n",
              "...                         ...        ...\n",
              "1071 2020-05-21 18:45:20.441142  valentina\n",
              "1072 2020-05-21 23:03:06.457819      maxim\n",
              "1073 2020-05-21 23:23:49.995349      pavel\n",
              "1074 2020-05-21 23:49:22.386789      artem\n",
              "1075 2020-05-22 10:36:14.662600      artem\n",
              "\n",
              "[1076 rows x 2 columns]"
            ],
            "text/html": [
              "\n",
              "  <div id=\"df-c7e7ba8f-395a-4b36-a8b1-b0ef3472eed1\">\n",
              "    <div class=\"colab-df-container\">\n",
              "      <div>\n",
              "<style scoped>\n",
              "    .dataframe tbody tr th:only-of-type {\n",
              "        vertical-align: middle;\n",
              "    }\n",
              "\n",
              "    .dataframe tbody tr th {\n",
              "        vertical-align: top;\n",
              "    }\n",
              "\n",
              "    .dataframe thead th {\n",
              "        text-align: right;\n",
              "    }\n",
              "</style>\n",
              "<table border=\"1\" class=\"dataframe\">\n",
              "  <thead>\n",
              "    <tr style=\"text-align: right;\">\n",
              "      <th></th>\n",
              "      <th>datetime</th>\n",
              "      <th>user</th>\n",
              "    </tr>\n",
              "  </thead>\n",
              "  <tbody>\n",
              "    <tr>\n",
              "      <th>0</th>\n",
              "      <td>2020-04-17 12:01:08.463179</td>\n",
              "      <td>artem</td>\n",
              "    </tr>\n",
              "    <tr>\n",
              "      <th>1</th>\n",
              "      <td>2020-04-17 12:01:23.743946</td>\n",
              "      <td>artem</td>\n",
              "    </tr>\n",
              "    <tr>\n",
              "      <th>2</th>\n",
              "      <td>2020-04-17 12:27:30.646665</td>\n",
              "      <td>artem</td>\n",
              "    </tr>\n",
              "    <tr>\n",
              "      <th>3</th>\n",
              "      <td>2020-04-17 12:35:44.884757</td>\n",
              "      <td>artem</td>\n",
              "    </tr>\n",
              "    <tr>\n",
              "      <th>4</th>\n",
              "      <td>2020-04-17 12:35:52.735016</td>\n",
              "      <td>artem</td>\n",
              "    </tr>\n",
              "    <tr>\n",
              "      <th>...</th>\n",
              "      <td>...</td>\n",
              "      <td>...</td>\n",
              "    </tr>\n",
              "    <tr>\n",
              "      <th>1071</th>\n",
              "      <td>2020-05-21 18:45:20.441142</td>\n",
              "      <td>valentina</td>\n",
              "    </tr>\n",
              "    <tr>\n",
              "      <th>1072</th>\n",
              "      <td>2020-05-21 23:03:06.457819</td>\n",
              "      <td>maxim</td>\n",
              "    </tr>\n",
              "    <tr>\n",
              "      <th>1073</th>\n",
              "      <td>2020-05-21 23:23:49.995349</td>\n",
              "      <td>pavel</td>\n",
              "    </tr>\n",
              "    <tr>\n",
              "      <th>1074</th>\n",
              "      <td>2020-05-21 23:49:22.386789</td>\n",
              "      <td>artem</td>\n",
              "    </tr>\n",
              "    <tr>\n",
              "      <th>1075</th>\n",
              "      <td>2020-05-22 10:36:14.662600</td>\n",
              "      <td>artem</td>\n",
              "    </tr>\n",
              "  </tbody>\n",
              "</table>\n",
              "<p>1076 rows × 2 columns</p>\n",
              "</div>\n",
              "      <button class=\"colab-df-convert\" onclick=\"convertToInteractive('df-c7e7ba8f-395a-4b36-a8b1-b0ef3472eed1')\"\n",
              "              title=\"Convert this dataframe to an interactive table.\"\n",
              "              style=\"display:none;\">\n",
              "        \n",
              "  <svg xmlns=\"http://www.w3.org/2000/svg\" height=\"24px\"viewBox=\"0 0 24 24\"\n",
              "       width=\"24px\">\n",
              "    <path d=\"M0 0h24v24H0V0z\" fill=\"none\"/>\n",
              "    <path d=\"M18.56 5.44l.94 2.06.94-2.06 2.06-.94-2.06-.94-.94-2.06-.94 2.06-2.06.94zm-11 1L8.5 8.5l.94-2.06 2.06-.94-2.06-.94L8.5 2.5l-.94 2.06-2.06.94zm10 10l.94 2.06.94-2.06 2.06-.94-2.06-.94-.94-2.06-.94 2.06-2.06.94z\"/><path d=\"M17.41 7.96l-1.37-1.37c-.4-.4-.92-.59-1.43-.59-.52 0-1.04.2-1.43.59L10.3 9.45l-7.72 7.72c-.78.78-.78 2.05 0 2.83L4 21.41c.39.39.9.59 1.41.59.51 0 1.02-.2 1.41-.59l7.78-7.78 2.81-2.81c.8-.78.8-2.07 0-2.86zM5.41 20L4 18.59l7.72-7.72 1.47 1.35L5.41 20z\"/>\n",
              "  </svg>\n",
              "      </button>\n",
              "      \n",
              "  <style>\n",
              "    .colab-df-container {\n",
              "      display:flex;\n",
              "      flex-wrap:wrap;\n",
              "      gap: 12px;\n",
              "    }\n",
              "\n",
              "    .colab-df-convert {\n",
              "      background-color: #E8F0FE;\n",
              "      border: none;\n",
              "      border-radius: 50%;\n",
              "      cursor: pointer;\n",
              "      display: none;\n",
              "      fill: #1967D2;\n",
              "      height: 32px;\n",
              "      padding: 0 0 0 0;\n",
              "      width: 32px;\n",
              "    }\n",
              "\n",
              "    .colab-df-convert:hover {\n",
              "      background-color: #E2EBFA;\n",
              "      box-shadow: 0px 1px 2px rgba(60, 64, 67, 0.3), 0px 1px 3px 1px rgba(60, 64, 67, 0.15);\n",
              "      fill: #174EA6;\n",
              "    }\n",
              "\n",
              "    [theme=dark] .colab-df-convert {\n",
              "      background-color: #3B4455;\n",
              "      fill: #D2E3FC;\n",
              "    }\n",
              "\n",
              "    [theme=dark] .colab-df-convert:hover {\n",
              "      background-color: #434B5C;\n",
              "      box-shadow: 0px 1px 3px 1px rgba(0, 0, 0, 0.15);\n",
              "      filter: drop-shadow(0px 1px 2px rgba(0, 0, 0, 0.3));\n",
              "      fill: #FFFFFF;\n",
              "    }\n",
              "  </style>\n",
              "\n",
              "      <script>\n",
              "        const buttonEl =\n",
              "          document.querySelector('#df-c7e7ba8f-395a-4b36-a8b1-b0ef3472eed1 button.colab-df-convert');\n",
              "        buttonEl.style.display =\n",
              "          google.colab.kernel.accessAllowed ? 'block' : 'none';\n",
              "\n",
              "        async function convertToInteractive(key) {\n",
              "          const element = document.querySelector('#df-c7e7ba8f-395a-4b36-a8b1-b0ef3472eed1');\n",
              "          const dataTable =\n",
              "            await google.colab.kernel.invokeFunction('convertToInteractive',\n",
              "                                                     [key], {});\n",
              "          if (!dataTable) return;\n",
              "\n",
              "          const docLinkHtml = 'Like what you see? Visit the ' +\n",
              "            '<a target=\"_blank\" href=https://colab.research.google.com/notebooks/data_table.ipynb>data table notebook</a>'\n",
              "            + ' to learn more about interactive tables.';\n",
              "          element.innerHTML = '';\n",
              "          dataTable['output_type'] = 'display_data';\n",
              "          await google.colab.output.renderOutput(dataTable, element);\n",
              "          const docLink = document.createElement('div');\n",
              "          docLink.innerHTML = docLinkHtml;\n",
              "          element.appendChild(docLink);\n",
              "        }\n",
              "      </script>\n",
              "    </div>\n",
              "  </div>\n",
              "  "
            ]
          },
          "metadata": {},
          "execution_count": 68
        }
      ]
    },
    {
      "cell_type": "code",
      "source": [
        "df[\"year\"] = df.datetime.dt.year\n",
        "df[\"month\"] = df.datetime.dt.month\n",
        "df[\"day\"] = df.datetime.dt.day\n",
        "df[\"hour\"] = df.datetime.dt.hour\n",
        "df[\"minute\"] = df.datetime.dt.minute\n",
        "df[\"second\"] = df.datetime.dt.second"
      ],
      "metadata": {
        "id": "Qom8onZOLNsl"
      },
      "execution_count": null,
      "outputs": []
    },
    {
      "cell_type": "code",
      "source": [
        "df"
      ],
      "metadata": {
        "colab": {
          "base_uri": "https://localhost:8080/",
          "height": 424
        },
        "id": "yGF1jZSvLNqL",
        "outputId": "3154c692-ba3d-4233-d3a0-c62deeb09242"
      },
      "execution_count": null,
      "outputs": [
        {
          "output_type": "execute_result",
          "data": {
            "text/plain": [
              "                       datetime       user  year  month  day  hour  minute  \\\n",
              "0    2020-04-17 12:01:08.463179      artem  2020      4   17    12       1   \n",
              "1    2020-04-17 12:01:23.743946      artem  2020      4   17    12       1   \n",
              "2    2020-04-17 12:27:30.646665      artem  2020      4   17    12      27   \n",
              "3    2020-04-17 12:35:44.884757      artem  2020      4   17    12      35   \n",
              "4    2020-04-17 12:35:52.735016      artem  2020      4   17    12      35   \n",
              "...                         ...        ...   ...    ...  ...   ...     ...   \n",
              "1071 2020-05-21 18:45:20.441142  valentina  2020      5   21    18      45   \n",
              "1072 2020-05-21 23:03:06.457819      maxim  2020      5   21    23       3   \n",
              "1073 2020-05-21 23:23:49.995349      pavel  2020      5   21    23      23   \n",
              "1074 2020-05-21 23:49:22.386789      artem  2020      5   21    23      49   \n",
              "1075 2020-05-22 10:36:14.662600      artem  2020      5   22    10      36   \n",
              "\n",
              "      second  \n",
              "0          8  \n",
              "1         23  \n",
              "2         30  \n",
              "3         44  \n",
              "4         52  \n",
              "...      ...  \n",
              "1071      20  \n",
              "1072       6  \n",
              "1073      49  \n",
              "1074      22  \n",
              "1075      14  \n",
              "\n",
              "[1076 rows x 8 columns]"
            ],
            "text/html": [
              "\n",
              "  <div id=\"df-2554c895-2798-4d7f-8ce0-999fc366fe68\">\n",
              "    <div class=\"colab-df-container\">\n",
              "      <div>\n",
              "<style scoped>\n",
              "    .dataframe tbody tr th:only-of-type {\n",
              "        vertical-align: middle;\n",
              "    }\n",
              "\n",
              "    .dataframe tbody tr th {\n",
              "        vertical-align: top;\n",
              "    }\n",
              "\n",
              "    .dataframe thead th {\n",
              "        text-align: right;\n",
              "    }\n",
              "</style>\n",
              "<table border=\"1\" class=\"dataframe\">\n",
              "  <thead>\n",
              "    <tr style=\"text-align: right;\">\n",
              "      <th></th>\n",
              "      <th>datetime</th>\n",
              "      <th>user</th>\n",
              "      <th>year</th>\n",
              "      <th>month</th>\n",
              "      <th>day</th>\n",
              "      <th>hour</th>\n",
              "      <th>minute</th>\n",
              "      <th>second</th>\n",
              "    </tr>\n",
              "  </thead>\n",
              "  <tbody>\n",
              "    <tr>\n",
              "      <th>0</th>\n",
              "      <td>2020-04-17 12:01:08.463179</td>\n",
              "      <td>artem</td>\n",
              "      <td>2020</td>\n",
              "      <td>4</td>\n",
              "      <td>17</td>\n",
              "      <td>12</td>\n",
              "      <td>1</td>\n",
              "      <td>8</td>\n",
              "    </tr>\n",
              "    <tr>\n",
              "      <th>1</th>\n",
              "      <td>2020-04-17 12:01:23.743946</td>\n",
              "      <td>artem</td>\n",
              "      <td>2020</td>\n",
              "      <td>4</td>\n",
              "      <td>17</td>\n",
              "      <td>12</td>\n",
              "      <td>1</td>\n",
              "      <td>23</td>\n",
              "    </tr>\n",
              "    <tr>\n",
              "      <th>2</th>\n",
              "      <td>2020-04-17 12:27:30.646665</td>\n",
              "      <td>artem</td>\n",
              "      <td>2020</td>\n",
              "      <td>4</td>\n",
              "      <td>17</td>\n",
              "      <td>12</td>\n",
              "      <td>27</td>\n",
              "      <td>30</td>\n",
              "    </tr>\n",
              "    <tr>\n",
              "      <th>3</th>\n",
              "      <td>2020-04-17 12:35:44.884757</td>\n",
              "      <td>artem</td>\n",
              "      <td>2020</td>\n",
              "      <td>4</td>\n",
              "      <td>17</td>\n",
              "      <td>12</td>\n",
              "      <td>35</td>\n",
              "      <td>44</td>\n",
              "    </tr>\n",
              "    <tr>\n",
              "      <th>4</th>\n",
              "      <td>2020-04-17 12:35:52.735016</td>\n",
              "      <td>artem</td>\n",
              "      <td>2020</td>\n",
              "      <td>4</td>\n",
              "      <td>17</td>\n",
              "      <td>12</td>\n",
              "      <td>35</td>\n",
              "      <td>52</td>\n",
              "    </tr>\n",
              "    <tr>\n",
              "      <th>...</th>\n",
              "      <td>...</td>\n",
              "      <td>...</td>\n",
              "      <td>...</td>\n",
              "      <td>...</td>\n",
              "      <td>...</td>\n",
              "      <td>...</td>\n",
              "      <td>...</td>\n",
              "      <td>...</td>\n",
              "    </tr>\n",
              "    <tr>\n",
              "      <th>1071</th>\n",
              "      <td>2020-05-21 18:45:20.441142</td>\n",
              "      <td>valentina</td>\n",
              "      <td>2020</td>\n",
              "      <td>5</td>\n",
              "      <td>21</td>\n",
              "      <td>18</td>\n",
              "      <td>45</td>\n",
              "      <td>20</td>\n",
              "    </tr>\n",
              "    <tr>\n",
              "      <th>1072</th>\n",
              "      <td>2020-05-21 23:03:06.457819</td>\n",
              "      <td>maxim</td>\n",
              "      <td>2020</td>\n",
              "      <td>5</td>\n",
              "      <td>21</td>\n",
              "      <td>23</td>\n",
              "      <td>3</td>\n",
              "      <td>6</td>\n",
              "    </tr>\n",
              "    <tr>\n",
              "      <th>1073</th>\n",
              "      <td>2020-05-21 23:23:49.995349</td>\n",
              "      <td>pavel</td>\n",
              "      <td>2020</td>\n",
              "      <td>5</td>\n",
              "      <td>21</td>\n",
              "      <td>23</td>\n",
              "      <td>23</td>\n",
              "      <td>49</td>\n",
              "    </tr>\n",
              "    <tr>\n",
              "      <th>1074</th>\n",
              "      <td>2020-05-21 23:49:22.386789</td>\n",
              "      <td>artem</td>\n",
              "      <td>2020</td>\n",
              "      <td>5</td>\n",
              "      <td>21</td>\n",
              "      <td>23</td>\n",
              "      <td>49</td>\n",
              "      <td>22</td>\n",
              "    </tr>\n",
              "    <tr>\n",
              "      <th>1075</th>\n",
              "      <td>2020-05-22 10:36:14.662600</td>\n",
              "      <td>artem</td>\n",
              "      <td>2020</td>\n",
              "      <td>5</td>\n",
              "      <td>22</td>\n",
              "      <td>10</td>\n",
              "      <td>36</td>\n",
              "      <td>14</td>\n",
              "    </tr>\n",
              "  </tbody>\n",
              "</table>\n",
              "<p>1076 rows × 8 columns</p>\n",
              "</div>\n",
              "      <button class=\"colab-df-convert\" onclick=\"convertToInteractive('df-2554c895-2798-4d7f-8ce0-999fc366fe68')\"\n",
              "              title=\"Convert this dataframe to an interactive table.\"\n",
              "              style=\"display:none;\">\n",
              "        \n",
              "  <svg xmlns=\"http://www.w3.org/2000/svg\" height=\"24px\"viewBox=\"0 0 24 24\"\n",
              "       width=\"24px\">\n",
              "    <path d=\"M0 0h24v24H0V0z\" fill=\"none\"/>\n",
              "    <path d=\"M18.56 5.44l.94 2.06.94-2.06 2.06-.94-2.06-.94-.94-2.06-.94 2.06-2.06.94zm-11 1L8.5 8.5l.94-2.06 2.06-.94-2.06-.94L8.5 2.5l-.94 2.06-2.06.94zm10 10l.94 2.06.94-2.06 2.06-.94-2.06-.94-.94-2.06-.94 2.06-2.06.94z\"/><path d=\"M17.41 7.96l-1.37-1.37c-.4-.4-.92-.59-1.43-.59-.52 0-1.04.2-1.43.59L10.3 9.45l-7.72 7.72c-.78.78-.78 2.05 0 2.83L4 21.41c.39.39.9.59 1.41.59.51 0 1.02-.2 1.41-.59l7.78-7.78 2.81-2.81c.8-.78.8-2.07 0-2.86zM5.41 20L4 18.59l7.72-7.72 1.47 1.35L5.41 20z\"/>\n",
              "  </svg>\n",
              "      </button>\n",
              "      \n",
              "  <style>\n",
              "    .colab-df-container {\n",
              "      display:flex;\n",
              "      flex-wrap:wrap;\n",
              "      gap: 12px;\n",
              "    }\n",
              "\n",
              "    .colab-df-convert {\n",
              "      background-color: #E8F0FE;\n",
              "      border: none;\n",
              "      border-radius: 50%;\n",
              "      cursor: pointer;\n",
              "      display: none;\n",
              "      fill: #1967D2;\n",
              "      height: 32px;\n",
              "      padding: 0 0 0 0;\n",
              "      width: 32px;\n",
              "    }\n",
              "\n",
              "    .colab-df-convert:hover {\n",
              "      background-color: #E2EBFA;\n",
              "      box-shadow: 0px 1px 2px rgba(60, 64, 67, 0.3), 0px 1px 3px 1px rgba(60, 64, 67, 0.15);\n",
              "      fill: #174EA6;\n",
              "    }\n",
              "\n",
              "    [theme=dark] .colab-df-convert {\n",
              "      background-color: #3B4455;\n",
              "      fill: #D2E3FC;\n",
              "    }\n",
              "\n",
              "    [theme=dark] .colab-df-convert:hover {\n",
              "      background-color: #434B5C;\n",
              "      box-shadow: 0px 1px 3px 1px rgba(0, 0, 0, 0.15);\n",
              "      filter: drop-shadow(0px 1px 2px rgba(0, 0, 0, 0.3));\n",
              "      fill: #FFFFFF;\n",
              "    }\n",
              "  </style>\n",
              "\n",
              "      <script>\n",
              "        const buttonEl =\n",
              "          document.querySelector('#df-2554c895-2798-4d7f-8ce0-999fc366fe68 button.colab-df-convert');\n",
              "        buttonEl.style.display =\n",
              "          google.colab.kernel.accessAllowed ? 'block' : 'none';\n",
              "\n",
              "        async function convertToInteractive(key) {\n",
              "          const element = document.querySelector('#df-2554c895-2798-4d7f-8ce0-999fc366fe68');\n",
              "          const dataTable =\n",
              "            await google.colab.kernel.invokeFunction('convertToInteractive',\n",
              "                                                     [key], {});\n",
              "          if (!dataTable) return;\n",
              "\n",
              "          const docLinkHtml = 'Like what you see? Visit the ' +\n",
              "            '<a target=\"_blank\" href=https://colab.research.google.com/notebooks/data_table.ipynb>data table notebook</a>'\n",
              "            + ' to learn more about interactive tables.';\n",
              "          element.innerHTML = '';\n",
              "          dataTable['output_type'] = 'display_data';\n",
              "          await google.colab.output.renderOutput(dataTable, element);\n",
              "          const docLink = document.createElement('div');\n",
              "          docLink.innerHTML = docLinkHtml;\n",
              "          element.appendChild(docLink);\n",
              "        }\n",
              "      </script>\n",
              "    </div>\n",
              "  </div>\n",
              "  "
            ]
          },
          "metadata": {},
          "execution_count": 70
        }
      ]
    },
    {
      "cell_type": "code",
      "source": [
        "df.info()"
      ],
      "metadata": {
        "colab": {
          "base_uri": "https://localhost:8080/"
        },
        "id": "04Xe9P5VLNiS",
        "outputId": "71f57ffc-2dc2-4dd6-fcfd-b31ba3b72d57"
      },
      "execution_count": null,
      "outputs": [
        {
          "output_type": "stream",
          "name": "stdout",
          "text": [
            "<class 'pandas.core.frame.DataFrame'>\n",
            "RangeIndex: 1076 entries, 0 to 1075\n",
            "Data columns (total 8 columns):\n",
            " #   Column    Non-Null Count  Dtype         \n",
            "---  ------    --------------  -----         \n",
            " 0   datetime  1076 non-null   datetime64[ns]\n",
            " 1   user      1076 non-null   object        \n",
            " 2   year      1076 non-null   int64         \n",
            " 3   month     1076 non-null   int64         \n",
            " 4   day       1076 non-null   int64         \n",
            " 5   hour      1076 non-null   int64         \n",
            " 6   minute    1076 non-null   int64         \n",
            " 7   second    1076 non-null   int64         \n",
            "dtypes: datetime64[ns](1), int64(6), object(1)\n",
            "memory usage: 67.4+ KB\n"
          ]
        }
      ]
    },
    {
      "cell_type": "markdown",
      "source": [
        "## create the new column daytime"
      ],
      "metadata": {
        "id": "MCnLfH6-KS7T"
      }
    },
    {
      "cell_type": "code",
      "source": [
        "labels = [ \"night\", \"early morning\", \"morning\", \"afternoon\", \"early evening\", \"evening\"]"
      ],
      "metadata": {
        "id": "DfhZiJMPUz_Y"
      },
      "execution_count": null,
      "outputs": []
    },
    {
      "cell_type": "code",
      "source": [
        "df['daytime'] = pd.cut(df.hour,\n",
        "                       bins=[0, 4, 7, 11, 17, 20, 24],\n",
        "                       labels=labels,\n",
        "                       right=False)"
      ],
      "metadata": {
        "id": "1axXSnrEWxJA"
      },
      "execution_count": null,
      "outputs": []
    },
    {
      "cell_type": "code",
      "source": [
        "try:\n",
        "    df.set_index(['user'], inplace=True)\n",
        "except:\n",
        "    pass"
      ],
      "metadata": {
        "id": "l2q1SUZEXW-t"
      },
      "execution_count": null,
      "outputs": []
    },
    {
      "cell_type": "code",
      "source": [
        "df"
      ],
      "metadata": {
        "colab": {
          "base_uri": "https://localhost:8080/",
          "height": 455
        },
        "id": "1a2vdHo-Zyzu",
        "outputId": "a331a50a-8193-4599-cf2b-def6c0d8673e"
      },
      "execution_count": null,
      "outputs": [
        {
          "output_type": "execute_result",
          "data": {
            "text/plain": [
              "                            datetime  year  month  day  hour  minute  second  \\\n",
              "user                                                                           \n",
              "artem     2020-04-17 12:01:08.463179  2020      4   17    12       1       8   \n",
              "artem     2020-04-17 12:01:23.743946  2020      4   17    12       1      23   \n",
              "artem     2020-04-17 12:27:30.646665  2020      4   17    12      27      30   \n",
              "artem     2020-04-17 12:35:44.884757  2020      4   17    12      35      44   \n",
              "artem     2020-04-17 12:35:52.735016  2020      4   17    12      35      52   \n",
              "...                              ...   ...    ...  ...   ...     ...     ...   \n",
              "valentina 2020-05-21 18:45:20.441142  2020      5   21    18      45      20   \n",
              "maxim     2020-05-21 23:03:06.457819  2020      5   21    23       3       6   \n",
              "pavel     2020-05-21 23:23:49.995349  2020      5   21    23      23      49   \n",
              "artem     2020-05-21 23:49:22.386789  2020      5   21    23      49      22   \n",
              "artem     2020-05-22 10:36:14.662600  2020      5   22    10      36      14   \n",
              "\n",
              "                 daytime  \n",
              "user                      \n",
              "artem          afternoon  \n",
              "artem          afternoon  \n",
              "artem          afternoon  \n",
              "artem          afternoon  \n",
              "artem          afternoon  \n",
              "...                  ...  \n",
              "valentina  early evening  \n",
              "maxim            evening  \n",
              "pavel            evening  \n",
              "artem            evening  \n",
              "artem            morning  \n",
              "\n",
              "[1076 rows x 8 columns]"
            ],
            "text/html": [
              "\n",
              "  <div id=\"df-ee11e6ca-3ac6-421f-b0dd-24f785f973b8\">\n",
              "    <div class=\"colab-df-container\">\n",
              "      <div>\n",
              "<style scoped>\n",
              "    .dataframe tbody tr th:only-of-type {\n",
              "        vertical-align: middle;\n",
              "    }\n",
              "\n",
              "    .dataframe tbody tr th {\n",
              "        vertical-align: top;\n",
              "    }\n",
              "\n",
              "    .dataframe thead th {\n",
              "        text-align: right;\n",
              "    }\n",
              "</style>\n",
              "<table border=\"1\" class=\"dataframe\">\n",
              "  <thead>\n",
              "    <tr style=\"text-align: right;\">\n",
              "      <th></th>\n",
              "      <th>datetime</th>\n",
              "      <th>year</th>\n",
              "      <th>month</th>\n",
              "      <th>day</th>\n",
              "      <th>hour</th>\n",
              "      <th>minute</th>\n",
              "      <th>second</th>\n",
              "      <th>daytime</th>\n",
              "    </tr>\n",
              "    <tr>\n",
              "      <th>user</th>\n",
              "      <th></th>\n",
              "      <th></th>\n",
              "      <th></th>\n",
              "      <th></th>\n",
              "      <th></th>\n",
              "      <th></th>\n",
              "      <th></th>\n",
              "      <th></th>\n",
              "    </tr>\n",
              "  </thead>\n",
              "  <tbody>\n",
              "    <tr>\n",
              "      <th>artem</th>\n",
              "      <td>2020-04-17 12:01:08.463179</td>\n",
              "      <td>2020</td>\n",
              "      <td>4</td>\n",
              "      <td>17</td>\n",
              "      <td>12</td>\n",
              "      <td>1</td>\n",
              "      <td>8</td>\n",
              "      <td>afternoon</td>\n",
              "    </tr>\n",
              "    <tr>\n",
              "      <th>artem</th>\n",
              "      <td>2020-04-17 12:01:23.743946</td>\n",
              "      <td>2020</td>\n",
              "      <td>4</td>\n",
              "      <td>17</td>\n",
              "      <td>12</td>\n",
              "      <td>1</td>\n",
              "      <td>23</td>\n",
              "      <td>afternoon</td>\n",
              "    </tr>\n",
              "    <tr>\n",
              "      <th>artem</th>\n",
              "      <td>2020-04-17 12:27:30.646665</td>\n",
              "      <td>2020</td>\n",
              "      <td>4</td>\n",
              "      <td>17</td>\n",
              "      <td>12</td>\n",
              "      <td>27</td>\n",
              "      <td>30</td>\n",
              "      <td>afternoon</td>\n",
              "    </tr>\n",
              "    <tr>\n",
              "      <th>artem</th>\n",
              "      <td>2020-04-17 12:35:44.884757</td>\n",
              "      <td>2020</td>\n",
              "      <td>4</td>\n",
              "      <td>17</td>\n",
              "      <td>12</td>\n",
              "      <td>35</td>\n",
              "      <td>44</td>\n",
              "      <td>afternoon</td>\n",
              "    </tr>\n",
              "    <tr>\n",
              "      <th>artem</th>\n",
              "      <td>2020-04-17 12:35:52.735016</td>\n",
              "      <td>2020</td>\n",
              "      <td>4</td>\n",
              "      <td>17</td>\n",
              "      <td>12</td>\n",
              "      <td>35</td>\n",
              "      <td>52</td>\n",
              "      <td>afternoon</td>\n",
              "    </tr>\n",
              "    <tr>\n",
              "      <th>...</th>\n",
              "      <td>...</td>\n",
              "      <td>...</td>\n",
              "      <td>...</td>\n",
              "      <td>...</td>\n",
              "      <td>...</td>\n",
              "      <td>...</td>\n",
              "      <td>...</td>\n",
              "      <td>...</td>\n",
              "    </tr>\n",
              "    <tr>\n",
              "      <th>valentina</th>\n",
              "      <td>2020-05-21 18:45:20.441142</td>\n",
              "      <td>2020</td>\n",
              "      <td>5</td>\n",
              "      <td>21</td>\n",
              "      <td>18</td>\n",
              "      <td>45</td>\n",
              "      <td>20</td>\n",
              "      <td>early evening</td>\n",
              "    </tr>\n",
              "    <tr>\n",
              "      <th>maxim</th>\n",
              "      <td>2020-05-21 23:03:06.457819</td>\n",
              "      <td>2020</td>\n",
              "      <td>5</td>\n",
              "      <td>21</td>\n",
              "      <td>23</td>\n",
              "      <td>3</td>\n",
              "      <td>6</td>\n",
              "      <td>evening</td>\n",
              "    </tr>\n",
              "    <tr>\n",
              "      <th>pavel</th>\n",
              "      <td>2020-05-21 23:23:49.995349</td>\n",
              "      <td>2020</td>\n",
              "      <td>5</td>\n",
              "      <td>21</td>\n",
              "      <td>23</td>\n",
              "      <td>23</td>\n",
              "      <td>49</td>\n",
              "      <td>evening</td>\n",
              "    </tr>\n",
              "    <tr>\n",
              "      <th>artem</th>\n",
              "      <td>2020-05-21 23:49:22.386789</td>\n",
              "      <td>2020</td>\n",
              "      <td>5</td>\n",
              "      <td>21</td>\n",
              "      <td>23</td>\n",
              "      <td>49</td>\n",
              "      <td>22</td>\n",
              "      <td>evening</td>\n",
              "    </tr>\n",
              "    <tr>\n",
              "      <th>artem</th>\n",
              "      <td>2020-05-22 10:36:14.662600</td>\n",
              "      <td>2020</td>\n",
              "      <td>5</td>\n",
              "      <td>22</td>\n",
              "      <td>10</td>\n",
              "      <td>36</td>\n",
              "      <td>14</td>\n",
              "      <td>morning</td>\n",
              "    </tr>\n",
              "  </tbody>\n",
              "</table>\n",
              "<p>1076 rows × 8 columns</p>\n",
              "</div>\n",
              "      <button class=\"colab-df-convert\" onclick=\"convertToInteractive('df-ee11e6ca-3ac6-421f-b0dd-24f785f973b8')\"\n",
              "              title=\"Convert this dataframe to an interactive table.\"\n",
              "              style=\"display:none;\">\n",
              "        \n",
              "  <svg xmlns=\"http://www.w3.org/2000/svg\" height=\"24px\"viewBox=\"0 0 24 24\"\n",
              "       width=\"24px\">\n",
              "    <path d=\"M0 0h24v24H0V0z\" fill=\"none\"/>\n",
              "    <path d=\"M18.56 5.44l.94 2.06.94-2.06 2.06-.94-2.06-.94-.94-2.06-.94 2.06-2.06.94zm-11 1L8.5 8.5l.94-2.06 2.06-.94-2.06-.94L8.5 2.5l-.94 2.06-2.06.94zm10 10l.94 2.06.94-2.06 2.06-.94-2.06-.94-.94-2.06-.94 2.06-2.06.94z\"/><path d=\"M17.41 7.96l-1.37-1.37c-.4-.4-.92-.59-1.43-.59-.52 0-1.04.2-1.43.59L10.3 9.45l-7.72 7.72c-.78.78-.78 2.05 0 2.83L4 21.41c.39.39.9.59 1.41.59.51 0 1.02-.2 1.41-.59l7.78-7.78 2.81-2.81c.8-.78.8-2.07 0-2.86zM5.41 20L4 18.59l7.72-7.72 1.47 1.35L5.41 20z\"/>\n",
              "  </svg>\n",
              "      </button>\n",
              "      \n",
              "  <style>\n",
              "    .colab-df-container {\n",
              "      display:flex;\n",
              "      flex-wrap:wrap;\n",
              "      gap: 12px;\n",
              "    }\n",
              "\n",
              "    .colab-df-convert {\n",
              "      background-color: #E8F0FE;\n",
              "      border: none;\n",
              "      border-radius: 50%;\n",
              "      cursor: pointer;\n",
              "      display: none;\n",
              "      fill: #1967D2;\n",
              "      height: 32px;\n",
              "      padding: 0 0 0 0;\n",
              "      width: 32px;\n",
              "    }\n",
              "\n",
              "    .colab-df-convert:hover {\n",
              "      background-color: #E2EBFA;\n",
              "      box-shadow: 0px 1px 2px rgba(60, 64, 67, 0.3), 0px 1px 3px 1px rgba(60, 64, 67, 0.15);\n",
              "      fill: #174EA6;\n",
              "    }\n",
              "\n",
              "    [theme=dark] .colab-df-convert {\n",
              "      background-color: #3B4455;\n",
              "      fill: #D2E3FC;\n",
              "    }\n",
              "\n",
              "    [theme=dark] .colab-df-convert:hover {\n",
              "      background-color: #434B5C;\n",
              "      box-shadow: 0px 1px 3px 1px rgba(0, 0, 0, 0.15);\n",
              "      filter: drop-shadow(0px 1px 2px rgba(0, 0, 0, 0.3));\n",
              "      fill: #FFFFFF;\n",
              "    }\n",
              "  </style>\n",
              "\n",
              "      <script>\n",
              "        const buttonEl =\n",
              "          document.querySelector('#df-ee11e6ca-3ac6-421f-b0dd-24f785f973b8 button.colab-df-convert');\n",
              "        buttonEl.style.display =\n",
              "          google.colab.kernel.accessAllowed ? 'block' : 'none';\n",
              "\n",
              "        async function convertToInteractive(key) {\n",
              "          const element = document.querySelector('#df-ee11e6ca-3ac6-421f-b0dd-24f785f973b8');\n",
              "          const dataTable =\n",
              "            await google.colab.kernel.invokeFunction('convertToInteractive',\n",
              "                                                     [key], {});\n",
              "          if (!dataTable) return;\n",
              "\n",
              "          const docLinkHtml = 'Like what you see? Visit the ' +\n",
              "            '<a target=\"_blank\" href=https://colab.research.google.com/notebooks/data_table.ipynb>data table notebook</a>'\n",
              "            + ' to learn more about interactive tables.';\n",
              "          element.innerHTML = '';\n",
              "          dataTable['output_type'] = 'display_data';\n",
              "          await google.colab.output.renderOutput(dataTable, element);\n",
              "          const docLink = document.createElement('div');\n",
              "          docLink.innerHTML = docLinkHtml;\n",
              "          element.appendChild(docLink);\n",
              "        }\n",
              "      </script>\n",
              "    </div>\n",
              "  </div>\n",
              "  "
            ]
          },
          "metadata": {},
          "execution_count": 94
        }
      ]
    },
    {
      "cell_type": "markdown",
      "source": [
        "## calculate the number of elements in your dataframe"
      ],
      "metadata": {
        "id": "Y4R8FFEgKVYT"
      }
    },
    {
      "cell_type": "code",
      "source": [
        "df.count()"
      ],
      "metadata": {
        "colab": {
          "base_uri": "https://localhost:8080/"
        },
        "id": "Oh76bX9OKgHf",
        "outputId": "4d7712d3-8661-4251-c4e4-4fc81e1c3044"
      },
      "execution_count": null,
      "outputs": [
        {
          "output_type": "execute_result",
          "data": {
            "text/plain": [
              "datetime    1076\n",
              "year        1076\n",
              "month       1076\n",
              "day         1076\n",
              "hour        1076\n",
              "minute      1076\n",
              "second      1076\n",
              "daytime     1076\n",
              "dtype: int64"
            ]
          },
          "metadata": {},
          "execution_count": 97
        }
      ]
    },
    {
      "cell_type": "code",
      "source": [
        "df.value_counts(['daytime'])"
      ],
      "metadata": {
        "colab": {
          "base_uri": "https://localhost:8080/"
        },
        "id": "QHnYUKJZKXR9",
        "outputId": "81ac6e04-6903-496b-9ecb-382ffa7eb4d5"
      },
      "execution_count": null,
      "outputs": [
        {
          "output_type": "execute_result",
          "data": {
            "text/plain": [
              "daytime      \n",
              "evening          509\n",
              "afternoon        252\n",
              "early evening    145\n",
              "night            129\n",
              "morning           36\n",
              "early morning      5\n",
              "dtype: int64"
            ]
          },
          "metadata": {},
          "execution_count": 99
        }
      ]
    },
    {
      "cell_type": "markdown",
      "source": [
        "## sort values in your dataframe by hour, minute, and second in ascending order (simultaneously and not one by one)"
      ],
      "metadata": {
        "id": "XHTJEvoXKXgr"
      }
    },
    {
      "cell_type": "code",
      "source": [
        "df.sort_values(by=['hour', 'minute', 'second'], inplace=True)\n",
        "df"
      ],
      "metadata": {
        "colab": {
          "base_uri": "https://localhost:8080/",
          "height": 455
        },
        "id": "_DapfVjtKf8s",
        "outputId": "40acdfe9-8163-46a5-d9cd-9217003ddb6b"
      },
      "execution_count": null,
      "outputs": [
        {
          "output_type": "execute_result",
          "data": {
            "text/plain": [
              "                            datetime  year  month  day  hour  minute  second  \\\n",
              "user                                                                           \n",
              "valentina 2020-05-15 00:00:13.222265  2020      5   15     0       0      13   \n",
              "valentina 2020-05-15 00:01:05.153738  2020      5   15     0       1       5   \n",
              "pavel     2020-05-12 00:01:27.764025  2020      5   12     0       1      27   \n",
              "pavel     2020-05-12 00:01:38.444917  2020      5   12     0       1      38   \n",
              "pavel     2020-05-12 00:01:55.395042  2020      5   12     0       1      55   \n",
              "...                              ...   ...    ...  ...   ...     ...     ...   \n",
              "artem     2020-05-21 23:49:22.386789  2020      5   21    23      49      22   \n",
              "anatoliy  2020-05-09 23:53:55.599821  2020      5    9    23      53      55   \n",
              "pavel     2020-05-09 23:54:54.260791  2020      5    9    23      54      54   \n",
              "valentina 2020-05-14 23:58:56.754866  2020      5   14    23      58      56   \n",
              "alexander 2020-05-14 23:59:38.758438  2020      5   14    23      59      38   \n",
              "\n",
              "           daytime  \n",
              "user                \n",
              "valentina    night  \n",
              "valentina    night  \n",
              "pavel        night  \n",
              "pavel        night  \n",
              "pavel        night  \n",
              "...            ...  \n",
              "artem      evening  \n",
              "anatoliy   evening  \n",
              "pavel      evening  \n",
              "valentina  evening  \n",
              "alexander  evening  \n",
              "\n",
              "[1076 rows x 8 columns]"
            ],
            "text/html": [
              "\n",
              "  <div id=\"df-395912eb-62a5-4fe4-868d-eaf34b5927b6\">\n",
              "    <div class=\"colab-df-container\">\n",
              "      <div>\n",
              "<style scoped>\n",
              "    .dataframe tbody tr th:only-of-type {\n",
              "        vertical-align: middle;\n",
              "    }\n",
              "\n",
              "    .dataframe tbody tr th {\n",
              "        vertical-align: top;\n",
              "    }\n",
              "\n",
              "    .dataframe thead th {\n",
              "        text-align: right;\n",
              "    }\n",
              "</style>\n",
              "<table border=\"1\" class=\"dataframe\">\n",
              "  <thead>\n",
              "    <tr style=\"text-align: right;\">\n",
              "      <th></th>\n",
              "      <th>datetime</th>\n",
              "      <th>year</th>\n",
              "      <th>month</th>\n",
              "      <th>day</th>\n",
              "      <th>hour</th>\n",
              "      <th>minute</th>\n",
              "      <th>second</th>\n",
              "      <th>daytime</th>\n",
              "    </tr>\n",
              "    <tr>\n",
              "      <th>user</th>\n",
              "      <th></th>\n",
              "      <th></th>\n",
              "      <th></th>\n",
              "      <th></th>\n",
              "      <th></th>\n",
              "      <th></th>\n",
              "      <th></th>\n",
              "      <th></th>\n",
              "    </tr>\n",
              "  </thead>\n",
              "  <tbody>\n",
              "    <tr>\n",
              "      <th>valentina</th>\n",
              "      <td>2020-05-15 00:00:13.222265</td>\n",
              "      <td>2020</td>\n",
              "      <td>5</td>\n",
              "      <td>15</td>\n",
              "      <td>0</td>\n",
              "      <td>0</td>\n",
              "      <td>13</td>\n",
              "      <td>night</td>\n",
              "    </tr>\n",
              "    <tr>\n",
              "      <th>valentina</th>\n",
              "      <td>2020-05-15 00:01:05.153738</td>\n",
              "      <td>2020</td>\n",
              "      <td>5</td>\n",
              "      <td>15</td>\n",
              "      <td>0</td>\n",
              "      <td>1</td>\n",
              "      <td>5</td>\n",
              "      <td>night</td>\n",
              "    </tr>\n",
              "    <tr>\n",
              "      <th>pavel</th>\n",
              "      <td>2020-05-12 00:01:27.764025</td>\n",
              "      <td>2020</td>\n",
              "      <td>5</td>\n",
              "      <td>12</td>\n",
              "      <td>0</td>\n",
              "      <td>1</td>\n",
              "      <td>27</td>\n",
              "      <td>night</td>\n",
              "    </tr>\n",
              "    <tr>\n",
              "      <th>pavel</th>\n",
              "      <td>2020-05-12 00:01:38.444917</td>\n",
              "      <td>2020</td>\n",
              "      <td>5</td>\n",
              "      <td>12</td>\n",
              "      <td>0</td>\n",
              "      <td>1</td>\n",
              "      <td>38</td>\n",
              "      <td>night</td>\n",
              "    </tr>\n",
              "    <tr>\n",
              "      <th>pavel</th>\n",
              "      <td>2020-05-12 00:01:55.395042</td>\n",
              "      <td>2020</td>\n",
              "      <td>5</td>\n",
              "      <td>12</td>\n",
              "      <td>0</td>\n",
              "      <td>1</td>\n",
              "      <td>55</td>\n",
              "      <td>night</td>\n",
              "    </tr>\n",
              "    <tr>\n",
              "      <th>...</th>\n",
              "      <td>...</td>\n",
              "      <td>...</td>\n",
              "      <td>...</td>\n",
              "      <td>...</td>\n",
              "      <td>...</td>\n",
              "      <td>...</td>\n",
              "      <td>...</td>\n",
              "      <td>...</td>\n",
              "    </tr>\n",
              "    <tr>\n",
              "      <th>artem</th>\n",
              "      <td>2020-05-21 23:49:22.386789</td>\n",
              "      <td>2020</td>\n",
              "      <td>5</td>\n",
              "      <td>21</td>\n",
              "      <td>23</td>\n",
              "      <td>49</td>\n",
              "      <td>22</td>\n",
              "      <td>evening</td>\n",
              "    </tr>\n",
              "    <tr>\n",
              "      <th>anatoliy</th>\n",
              "      <td>2020-05-09 23:53:55.599821</td>\n",
              "      <td>2020</td>\n",
              "      <td>5</td>\n",
              "      <td>9</td>\n",
              "      <td>23</td>\n",
              "      <td>53</td>\n",
              "      <td>55</td>\n",
              "      <td>evening</td>\n",
              "    </tr>\n",
              "    <tr>\n",
              "      <th>pavel</th>\n",
              "      <td>2020-05-09 23:54:54.260791</td>\n",
              "      <td>2020</td>\n",
              "      <td>5</td>\n",
              "      <td>9</td>\n",
              "      <td>23</td>\n",
              "      <td>54</td>\n",
              "      <td>54</td>\n",
              "      <td>evening</td>\n",
              "    </tr>\n",
              "    <tr>\n",
              "      <th>valentina</th>\n",
              "      <td>2020-05-14 23:58:56.754866</td>\n",
              "      <td>2020</td>\n",
              "      <td>5</td>\n",
              "      <td>14</td>\n",
              "      <td>23</td>\n",
              "      <td>58</td>\n",
              "      <td>56</td>\n",
              "      <td>evening</td>\n",
              "    </tr>\n",
              "    <tr>\n",
              "      <th>alexander</th>\n",
              "      <td>2020-05-14 23:59:38.758438</td>\n",
              "      <td>2020</td>\n",
              "      <td>5</td>\n",
              "      <td>14</td>\n",
              "      <td>23</td>\n",
              "      <td>59</td>\n",
              "      <td>38</td>\n",
              "      <td>evening</td>\n",
              "    </tr>\n",
              "  </tbody>\n",
              "</table>\n",
              "<p>1076 rows × 8 columns</p>\n",
              "</div>\n",
              "      <button class=\"colab-df-convert\" onclick=\"convertToInteractive('df-395912eb-62a5-4fe4-868d-eaf34b5927b6')\"\n",
              "              title=\"Convert this dataframe to an interactive table.\"\n",
              "              style=\"display:none;\">\n",
              "        \n",
              "  <svg xmlns=\"http://www.w3.org/2000/svg\" height=\"24px\"viewBox=\"0 0 24 24\"\n",
              "       width=\"24px\">\n",
              "    <path d=\"M0 0h24v24H0V0z\" fill=\"none\"/>\n",
              "    <path d=\"M18.56 5.44l.94 2.06.94-2.06 2.06-.94-2.06-.94-.94-2.06-.94 2.06-2.06.94zm-11 1L8.5 8.5l.94-2.06 2.06-.94-2.06-.94L8.5 2.5l-.94 2.06-2.06.94zm10 10l.94 2.06.94-2.06 2.06-.94-2.06-.94-.94-2.06-.94 2.06-2.06.94z\"/><path d=\"M17.41 7.96l-1.37-1.37c-.4-.4-.92-.59-1.43-.59-.52 0-1.04.2-1.43.59L10.3 9.45l-7.72 7.72c-.78.78-.78 2.05 0 2.83L4 21.41c.39.39.9.59 1.41.59.51 0 1.02-.2 1.41-.59l7.78-7.78 2.81-2.81c.8-.78.8-2.07 0-2.86zM5.41 20L4 18.59l7.72-7.72 1.47 1.35L5.41 20z\"/>\n",
              "  </svg>\n",
              "      </button>\n",
              "      \n",
              "  <style>\n",
              "    .colab-df-container {\n",
              "      display:flex;\n",
              "      flex-wrap:wrap;\n",
              "      gap: 12px;\n",
              "    }\n",
              "\n",
              "    .colab-df-convert {\n",
              "      background-color: #E8F0FE;\n",
              "      border: none;\n",
              "      border-radius: 50%;\n",
              "      cursor: pointer;\n",
              "      display: none;\n",
              "      fill: #1967D2;\n",
              "      height: 32px;\n",
              "      padding: 0 0 0 0;\n",
              "      width: 32px;\n",
              "    }\n",
              "\n",
              "    .colab-df-convert:hover {\n",
              "      background-color: #E2EBFA;\n",
              "      box-shadow: 0px 1px 2px rgba(60, 64, 67, 0.3), 0px 1px 3px 1px rgba(60, 64, 67, 0.15);\n",
              "      fill: #174EA6;\n",
              "    }\n",
              "\n",
              "    [theme=dark] .colab-df-convert {\n",
              "      background-color: #3B4455;\n",
              "      fill: #D2E3FC;\n",
              "    }\n",
              "\n",
              "    [theme=dark] .colab-df-convert:hover {\n",
              "      background-color: #434B5C;\n",
              "      box-shadow: 0px 1px 3px 1px rgba(0, 0, 0, 0.15);\n",
              "      filter: drop-shadow(0px 1px 2px rgba(0, 0, 0, 0.3));\n",
              "      fill: #FFFFFF;\n",
              "    }\n",
              "  </style>\n",
              "\n",
              "      <script>\n",
              "        const buttonEl =\n",
              "          document.querySelector('#df-395912eb-62a5-4fe4-868d-eaf34b5927b6 button.colab-df-convert');\n",
              "        buttonEl.style.display =\n",
              "          google.colab.kernel.accessAllowed ? 'block' : 'none';\n",
              "\n",
              "        async function convertToInteractive(key) {\n",
              "          const element = document.querySelector('#df-395912eb-62a5-4fe4-868d-eaf34b5927b6');\n",
              "          const dataTable =\n",
              "            await google.colab.kernel.invokeFunction('convertToInteractive',\n",
              "                                                     [key], {});\n",
              "          if (!dataTable) return;\n",
              "\n",
              "          const docLinkHtml = 'Like what you see? Visit the ' +\n",
              "            '<a target=\"_blank\" href=https://colab.research.google.com/notebooks/data_table.ipynb>data table notebook</a>'\n",
              "            + ' to learn more about interactive tables.';\n",
              "          element.innerHTML = '';\n",
              "          dataTable['output_type'] = 'display_data';\n",
              "          await google.colab.output.renderOutput(dataTable, element);\n",
              "          const docLink = document.createElement('div');\n",
              "          docLink.innerHTML = docLinkHtml;\n",
              "          element.appendChild(docLink);\n",
              "        }\n",
              "      </script>\n",
              "    </div>\n",
              "  </div>\n",
              "  "
            ]
          },
          "metadata": {},
          "execution_count": 114
        }
      ]
    },
    {
      "cell_type": "markdown",
      "source": [
        "## calculate the minimum and maximum for the hours and the mode for the daytime categories"
      ],
      "metadata": {
        "id": "uZBx3YaBKab9"
      }
    },
    {
      "cell_type": "code",
      "source": [
        "df.loc[df.daytime == 'night'].hour.max()"
      ],
      "metadata": {
        "colab": {
          "base_uri": "https://localhost:8080/"
        },
        "id": "iAyXBCphKfps",
        "outputId": "5953c8cf-9820-4563-afc9-664741ce39f9"
      },
      "execution_count": null,
      "outputs": [
        {
          "output_type": "execute_result",
          "data": {
            "text/plain": [
              "3"
            ]
          },
          "metadata": {},
          "execution_count": 120
        }
      ]
    },
    {
      "cell_type": "code",
      "source": [
        "df.loc[df.daytime == 'morning'].hour.min()"
      ],
      "metadata": {
        "colab": {
          "base_uri": "https://localhost:8080/"
        },
        "id": "qn6yQR50jpH1",
        "outputId": "fb40ea17-29ac-4ad7-b505-130001400187"
      },
      "execution_count": null,
      "outputs": [
        {
          "output_type": "execute_result",
          "data": {
            "text/plain": [
              "8"
            ]
          },
          "metadata": {},
          "execution_count": 121
        }
      ]
    },
    {
      "cell_type": "code",
      "source": [
        "df.loc[df.daytime == 'night'].hour.idxmax()"
      ],
      "metadata": {
        "colab": {
          "base_uri": "https://localhost:8080/",
          "height": 36
        },
        "id": "JB1xTMg7jolV",
        "outputId": "5a9a2a17-9087-46a0-bd6c-6206345e9592"
      },
      "execution_count": null,
      "outputs": [
        {
          "output_type": "execute_result",
          "data": {
            "text/plain": [
              "'konstantin'"
            ],
            "application/vnd.google.colaboratory.intrinsic+json": {
              "type": "string"
            }
          },
          "metadata": {},
          "execution_count": 123
        }
      ]
    },
    {
      "cell_type": "code",
      "source": [
        "df.loc[df.daytime == 'morning'].hour.idxmin()"
      ],
      "metadata": {
        "colab": {
          "base_uri": "https://localhost:8080/",
          "height": 36
        },
        "id": "-eYYCgEofTyF",
        "outputId": "1f274bd2-e37c-4d65-d6eb-b35d0e9394f3"
      },
      "execution_count": null,
      "outputs": [
        {
          "output_type": "execute_result",
          "data": {
            "text/plain": [
              "'alexander'"
            ],
            "application/vnd.google.colaboratory.intrinsic+json": {
              "type": "string"
            }
          },
          "metadata": {},
          "execution_count": 122
        }
      ]
    },
    {
      "cell_type": "code",
      "source": [
        "df.hour.mode()"
      ],
      "metadata": {
        "colab": {
          "base_uri": "https://localhost:8080/"
        },
        "id": "D48_iSbbKmaS",
        "outputId": "a84069d9-96d9-4895-a830-b758ddee76c8"
      },
      "execution_count": null,
      "outputs": [
        {
          "output_type": "execute_result",
          "data": {
            "text/plain": [
              "0    22\n",
              "dtype: int64"
            ]
          },
          "metadata": {},
          "execution_count": 124
        }
      ]
    },
    {
      "cell_type": "code",
      "source": [
        "df.daytime.mode()"
      ],
      "metadata": {
        "colab": {
          "base_uri": "https://localhost:8080/"
        },
        "id": "hokHm-R_Kfat",
        "outputId": "fa34a8bc-f5b6-448f-8229-3239e31d8e29"
      },
      "execution_count": null,
      "outputs": [
        {
          "output_type": "execute_result",
          "data": {
            "text/plain": [
              "0    evening\n",
              "Name: daytime, dtype: category\n",
              "Categories (6, object): ['night' < 'early morning' < 'morning' < 'afternoon' < 'early evening' <\n",
              "                         'evening']"
            ]
          },
          "metadata": {},
          "execution_count": 125
        }
      ]
    },
    {
      "cell_type": "markdown",
      "source": [
        "## show the 3 earliest hours in the morning and the corresponding usernames and the 3 latest hours and the usernames using nsmallest() and nlargest()"
      ],
      "metadata": {
        "id": "Z8YIylRbKkm2"
      }
    },
    {
      "cell_type": "code",
      "source": [
        "df.loc[df.daytime == 'morning'].nsmallest(3, ['hour'])['hour']"
      ],
      "metadata": {
        "colab": {
          "base_uri": "https://localhost:8080/"
        },
        "id": "f7kVRsYzKi3P",
        "outputId": "522ba0d4-5688-4324-fabc-847518b8773f"
      },
      "execution_count": null,
      "outputs": [
        {
          "output_type": "execute_result",
          "data": {
            "text/plain": [
              "user\n",
              "alexander    8\n",
              "alexander    8\n",
              "alexander    9\n",
              "Name: hour, dtype: int64"
            ]
          },
          "metadata": {},
          "execution_count": 134
        }
      ]
    },
    {
      "cell_type": "code",
      "source": [
        "df.loc[df.daytime == 'morning'].nlargest(3, ['hour'])['hour']"
      ],
      "metadata": {
        "colab": {
          "base_uri": "https://localhost:8080/"
        },
        "id": "Qbx31X1yKnB9",
        "outputId": "6f46b9a8-ce75-497b-ff2d-d528937283bf"
      },
      "execution_count": null,
      "outputs": [
        {
          "output_type": "execute_result",
          "data": {
            "text/plain": [
              "user\n",
              "konstantin    10\n",
              "maxim         10\n",
              "maxim         10\n",
              "Name: hour, dtype: int64"
            ]
          },
          "metadata": {},
          "execution_count": 137
        }
      ]
    },
    {
      "cell_type": "markdown",
      "source": [
        "## use the method describe() to get the basic statistics for the columns"
      ],
      "metadata": {
        "id": "ubn5W_KtKnZ1"
      }
    },
    {
      "cell_type": "code",
      "source": [
        "iqr = df.hour.describe()['75%'] - df.hour.describe()['25%']\n",
        "print(iqr)"
      ],
      "metadata": {
        "colab": {
          "base_uri": "https://localhost:8080/"
        },
        "id": "ikU3nDkNK3qx",
        "outputId": "b6112405-38a4-4b83-e4a8-4c8d5933710d"
      },
      "execution_count": null,
      "outputs": [
        {
          "output_type": "stream",
          "name": "stdout",
          "text": [
            "9.0\n"
          ]
        }
      ]
    }
  ]
}