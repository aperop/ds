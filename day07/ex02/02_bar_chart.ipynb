{
 "cells": [
  {
   "cell_type": "code",
   "execution_count": 1,
   "outputs": [],
   "source": [
    "import pandas as pd\n",
    "import sqlite3"
   ],
   "metadata": {
    "collapsed": false,
    "pycharm": {
     "name": "#%%\n"
    }
   }
  },
  {
   "cell_type": "code",
   "execution_count": 2,
   "outputs": [],
   "source": [
    "file_path = '../data/checking-logs.sqlite'\n",
    "con = sqlite3.connect(file_path)\n",
    "cur = con.cursor()"
   ],
   "metadata": {
    "collapsed": false,
    "pycharm": {
     "name": "#%%\n"
    }
   }
  },
  {
   "cell_type": "code",
   "execution_count": 3,
   "outputs": [],
   "source": [
    "query = '''\n",
    "SELECT datetime\n",
    "FROM pageviews\n",
    "WHERE uid LIKE 'user_%'\n",
    "'''\n",
    "df_count_pageviews = pd.read_sql(query, con, parse_dates=['datetime'])\n",
    "\n",
    "df_count_pageviews = df_count_pageviews.datetime.dt.date.value_counts().sort_index().reset_index()\n",
    "df_count_pageviews.columns = ['date','COUNT']\n",
    "df_count_pageviews.set_index('date', inplace=True)"
   ],
   "metadata": {
    "collapsed": false,
    "pycharm": {
     "name": "#%%\n"
    }
   }
  },
  {
   "cell_type": "code",
   "execution_count": 4,
   "outputs": [],
   "source": [
    "query = '''\n",
    "SELECT timestamp\n",
    "FROM checker\n",
    "WHERE uid LIKE 'user_%'\n",
    "'''\n",
    "df_count_checker = pd.read_sql(query, con, parse_dates=['timestamp'])\n",
    "df_count_checker = df_count_checker.timestamp.dt.date.value_counts().sort_index().reset_index()\n",
    "df_count_checker.columns = ['date','COUNT']\n",
    "df_count_checker.set_index('date', inplace=True)"
   ],
   "metadata": {
    "collapsed": false,
    "pycharm": {
     "name": "#%%\n"
    }
   }
  },
  {
   "cell_type": "code",
   "execution_count": 5,
   "outputs": [],
   "source": [
    "df_merge = pd.merge(df_count_pageviews, df_count_checker, on='date')\n",
    "df_merge.columns = ['views', 'commits']"
   ],
   "metadata": {
    "collapsed": false,
    "pycharm": {
     "name": "#%%\n"
    }
   }
  },
  {
   "cell_type": "code",
   "execution_count": null,
   "outputs": [],
   "source": [],
   "metadata": {
    "collapsed": false,
    "pycharm": {
     "name": "#%%\n"
    }
   }
  },
  {
   "cell_type": "code",
   "execution_count": null,
   "outputs": [],
   "source": [],
   "metadata": {
    "collapsed": false,
    "pycharm": {
     "name": "#%%\n"
    }
   }
  },
  {
   "cell_type": "code",
   "execution_count": null,
   "outputs": [],
   "source": [],
   "metadata": {
    "collapsed": false,
    "pycharm": {
     "name": "#%%\n"
    }
   }
  }
 ],
 "metadata": {
  "kernelspec": {
   "display_name": "Python 3",
   "language": "python",
   "name": "python3"
  },
  "language_info": {
   "codemirror_mode": {
    "name": "ipython",
    "version": 2
   },
   "file_extension": ".py",
   "mimetype": "text/x-python",
   "name": "python",
   "nbconvert_exporter": "python",
   "pygments_lexer": "ipython2",
   "version": "2.7.6"
  }
 },
 "nbformat": 4,
 "nbformat_minor": 0
}